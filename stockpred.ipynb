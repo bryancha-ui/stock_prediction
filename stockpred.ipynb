{
  "cells": [
    {
      "cell_type": "markdown",
      "metadata": {
        "id": "IjkdVhheC1e4"
      },
      "source": [
        "##Loading Data\n"
      ]
    },
    {
      "cell_type": "code",
      "execution_count": null,
      "metadata": {
        "colab": {
          "base_uri": "https://localhost:8080/"
        },
        "id": "OQ6GNn1LCIbX",
        "outputId": "821f4f27-8589-4351-ffe9-a521f9acaec1"
      },
      "outputs": [
        {
          "output_type": "stream",
          "name": "stdout",
          "text": [
            "Collecting finance-datareader\n",
            "  Downloading finance_datareader-0.9.33-py3-none-any.whl (48 kB)\n",
            "\u001b[?25l\r\u001b[K     |██████▊                         | 10 kB 31.3 MB/s eta 0:00:01\r\u001b[K     |█████████████▍                  | 20 kB 17.9 MB/s eta 0:00:01\r\u001b[K     |████████████████████▏           | 30 kB 10.1 MB/s eta 0:00:01\r\u001b[K     |██████████████████████████▉     | 40 kB 8.3 MB/s eta 0:00:01\r\u001b[K     |████████████████████████████████| 48 kB 2.9 MB/s \n",
            "\u001b[?25hCollecting requests-file\n",
            "  Downloading requests_file-1.5.1-py2.py3-none-any.whl (3.7 kB)\n",
            "Requirement already satisfied: lxml in /usr/local/lib/python3.7/dist-packages (from finance-datareader) (4.2.6)\n",
            "Requirement already satisfied: pandas>=0.19.2 in /usr/local/lib/python3.7/dist-packages (from finance-datareader) (1.3.5)\n",
            "Requirement already satisfied: requests>=2.3.0 in /usr/local/lib/python3.7/dist-packages (from finance-datareader) (2.23.0)\n",
            "Requirement already satisfied: tqdm in /usr/local/lib/python3.7/dist-packages (from finance-datareader) (4.64.0)\n",
            "Requirement already satisfied: python-dateutil>=2.7.3 in /usr/local/lib/python3.7/dist-packages (from pandas>=0.19.2->finance-datareader) (2.8.2)\n",
            "Requirement already satisfied: pytz>=2017.3 in /usr/local/lib/python3.7/dist-packages (from pandas>=0.19.2->finance-datareader) (2022.1)\n",
            "Requirement already satisfied: numpy>=1.17.3 in /usr/local/lib/python3.7/dist-packages (from pandas>=0.19.2->finance-datareader) (1.21.6)\n",
            "Requirement already satisfied: six>=1.5 in /usr/local/lib/python3.7/dist-packages (from python-dateutil>=2.7.3->pandas>=0.19.2->finance-datareader) (1.15.0)\n",
            "Requirement already satisfied: urllib3!=1.25.0,!=1.25.1,<1.26,>=1.21.1 in /usr/local/lib/python3.7/dist-packages (from requests>=2.3.0->finance-datareader) (1.24.3)\n",
            "Requirement already satisfied: certifi>=2017.4.17 in /usr/local/lib/python3.7/dist-packages (from requests>=2.3.0->finance-datareader) (2021.10.8)\n",
            "Requirement already satisfied: chardet<4,>=3.0.2 in /usr/local/lib/python3.7/dist-packages (from requests>=2.3.0->finance-datareader) (3.0.4)\n",
            "Requirement already satisfied: idna<3,>=2.5 in /usr/local/lib/python3.7/dist-packages (from requests>=2.3.0->finance-datareader) (2.10)\n",
            "Installing collected packages: requests-file, finance-datareader\n",
            "Successfully installed finance-datareader-0.9.33 requests-file-1.5.1\n",
            "Requirement already satisfied: pandas_datareader in /usr/local/lib/python3.7/dist-packages (0.9.0)\n",
            "Requirement already satisfied: pandas>=0.23 in /usr/local/lib/python3.7/dist-packages (from pandas_datareader) (1.3.5)\n",
            "Requirement already satisfied: lxml in /usr/local/lib/python3.7/dist-packages (from pandas_datareader) (4.2.6)\n",
            "Requirement already satisfied: requests>=2.19.0 in /usr/local/lib/python3.7/dist-packages (from pandas_datareader) (2.23.0)\n",
            "Requirement already satisfied: pytz>=2017.3 in /usr/local/lib/python3.7/dist-packages (from pandas>=0.23->pandas_datareader) (2022.1)\n",
            "Requirement already satisfied: numpy>=1.17.3 in /usr/local/lib/python3.7/dist-packages (from pandas>=0.23->pandas_datareader) (1.21.6)\n",
            "Requirement already satisfied: python-dateutil>=2.7.3 in /usr/local/lib/python3.7/dist-packages (from pandas>=0.23->pandas_datareader) (2.8.2)\n",
            "Requirement already satisfied: six>=1.5 in /usr/local/lib/python3.7/dist-packages (from python-dateutil>=2.7.3->pandas>=0.23->pandas_datareader) (1.15.0)\n",
            "Requirement already satisfied: idna<3,>=2.5 in /usr/local/lib/python3.7/dist-packages (from requests>=2.19.0->pandas_datareader) (2.10)\n",
            "Requirement already satisfied: urllib3!=1.25.0,!=1.25.1,<1.26,>=1.21.1 in /usr/local/lib/python3.7/dist-packages (from requests>=2.19.0->pandas_datareader) (1.24.3)\n",
            "Requirement already satisfied: certifi>=2017.4.17 in /usr/local/lib/python3.7/dist-packages (from requests>=2.19.0->pandas_datareader) (2021.10.8)\n",
            "Requirement already satisfied: chardet<4,>=3.0.2 in /usr/local/lib/python3.7/dist-packages (from requests>=2.19.0->pandas_datareader) (3.0.4)\n",
            "Collecting pmdarima\n",
            "  Downloading pmdarima-1.8.5-cp37-cp37m-manylinux_2_17_x86_64.manylinux2014_x86_64.manylinux_2_24_x86_64.whl (1.4 MB)\n",
            "\u001b[K     |████████████████████████████████| 1.4 MB 5.2 MB/s \n",
            "\u001b[?25hCollecting statsmodels!=0.12.0,>=0.11\n",
            "  Downloading statsmodels-0.13.2-cp37-cp37m-manylinux_2_17_x86_64.manylinux2014_x86_64.whl (9.8 MB)\n",
            "\u001b[K     |████████████████████████████████| 9.8 MB 41.4 MB/s \n",
            "\u001b[?25hRequirement already satisfied: joblib>=0.11 in /usr/local/lib/python3.7/dist-packages (from pmdarima) (1.1.0)\n",
            "Requirement already satisfied: scikit-learn>=0.22 in /usr/local/lib/python3.7/dist-packages (from pmdarima) (1.0.2)\n",
            "Requirement already satisfied: pandas>=0.19 in /usr/local/lib/python3.7/dist-packages (from pmdarima) (1.3.5)\n",
            "Requirement already satisfied: numpy>=1.19.3 in /usr/local/lib/python3.7/dist-packages (from pmdarima) (1.21.6)\n",
            "Requirement already satisfied: Cython!=0.29.18,>=0.29 in /usr/local/lib/python3.7/dist-packages (from pmdarima) (0.29.28)\n",
            "Requirement already satisfied: scipy>=1.3.2 in /usr/local/lib/python3.7/dist-packages (from pmdarima) (1.4.1)\n",
            "Requirement already satisfied: setuptools!=50.0.0,>=38.6.0 in /usr/local/lib/python3.7/dist-packages (from pmdarima) (57.4.0)\n",
            "Requirement already satisfied: urllib3 in /usr/local/lib/python3.7/dist-packages (from pmdarima) (1.24.3)\n",
            "Requirement already satisfied: python-dateutil>=2.7.3 in /usr/local/lib/python3.7/dist-packages (from pandas>=0.19->pmdarima) (2.8.2)\n",
            "Requirement already satisfied: pytz>=2017.3 in /usr/local/lib/python3.7/dist-packages (from pandas>=0.19->pmdarima) (2022.1)\n",
            "Requirement already satisfied: six>=1.5 in /usr/local/lib/python3.7/dist-packages (from python-dateutil>=2.7.3->pandas>=0.19->pmdarima) (1.15.0)\n",
            "Requirement already satisfied: threadpoolctl>=2.0.0 in /usr/local/lib/python3.7/dist-packages (from scikit-learn>=0.22->pmdarima) (3.1.0)\n",
            "Requirement already satisfied: patsy>=0.5.2 in /usr/local/lib/python3.7/dist-packages (from statsmodels!=0.12.0,>=0.11->pmdarima) (0.5.2)\n",
            "Requirement already satisfied: packaging>=21.3 in /usr/local/lib/python3.7/dist-packages (from statsmodels!=0.12.0,>=0.11->pmdarima) (21.3)\n",
            "Requirement already satisfied: pyparsing!=3.0.5,>=2.0.2 in /usr/local/lib/python3.7/dist-packages (from packaging>=21.3->statsmodels!=0.12.0,>=0.11->pmdarima) (3.0.8)\n",
            "Installing collected packages: statsmodels, pmdarima\n",
            "  Attempting uninstall: statsmodels\n",
            "    Found existing installation: statsmodels 0.10.2\n",
            "    Uninstalling statsmodels-0.10.2:\n",
            "      Successfully uninstalled statsmodels-0.10.2\n",
            "Successfully installed pmdarima-1.8.5 statsmodels-0.13.2\n"
          ]
        }
      ],
      "source": [
        "!pip install -U finance-datareader\n",
        "\n",
        "import FinanceDataReader as fdr\n",
        "import pandas_datareader.data as pdr \n",
        "import numpy as np\n",
        "import pandas as pd\n",
        "\n",
        "!pip install pandas_datareader\n",
        "!pip install pmdarima\n",
        "\n",
        "import os \n",
        "\n",
        "from sklearn.model_selection import train_test_split \n",
        "from sklearn.metrics import r2_score \n",
        "\n",
        "import matplotlib.pyplot as plt\n",
        "import matplotlib \n",
        "plt.style.use('seaborn-whitegrid')\n",
        "\n",
        "import statsmodels.api as sm \n",
        "from statsmodels.graphics.tsaplots import plot_acf, plot_pacf \n",
        "from statsmodels.tsa.arima.model import ARIMA \n",
        "from statsmodels.tsa.statespace.sarimax import SARIMAX\n",
        "from pmdarima.arima import auto_arima \n",
        "\n",
        "import seaborn as sns \n",
        "\n",
        "plt.style.use('seaborn-whitegrid')\n",
        "#sns.set_style(\"white\")\n",
        "%matplotlib inline\n",
        "\n",
        "import itertools"
      ]
    },
    {
      "cell_type": "code",
      "execution_count": null,
      "metadata": {
        "colab": {
          "base_uri": "https://localhost:8080/",
          "height": 237
        },
        "id": "JLuHYA1OCKDR",
        "outputId": "7a245423-b5fe-497f-ff36-9ec1286b09d3"
      },
      "outputs": [
        {
          "output_type": "execute_result",
          "data": {
            "text/plain": [
              "             Open   High    Low  Close    Volume    Change\n",
              "Date                                                      \n",
              "2019-03-04  46000  46100  44800  44850  12926539 -0.005543\n",
              "2019-03-05  44600  45100  44150  44250  10612405 -0.013378\n",
              "2019-03-06  44000  44300  43700  44000  10202544 -0.005650\n",
              "2019-03-07  43400  44950  43400  44450  11049749  0.010227\n",
              "2019-03-08  44450  44800  43800  43800   7729069 -0.014623"
            ],
            "text/html": [
              "\n",
              "  <div id=\"df-ac4fa092-9286-4519-9adf-c2698e6905ce\">\n",
              "    <div class=\"colab-df-container\">\n",
              "      <div>\n",
              "<style scoped>\n",
              "    .dataframe tbody tr th:only-of-type {\n",
              "        vertical-align: middle;\n",
              "    }\n",
              "\n",
              "    .dataframe tbody tr th {\n",
              "        vertical-align: top;\n",
              "    }\n",
              "\n",
              "    .dataframe thead th {\n",
              "        text-align: right;\n",
              "    }\n",
              "</style>\n",
              "<table border=\"1\" class=\"dataframe\">\n",
              "  <thead>\n",
              "    <tr style=\"text-align: right;\">\n",
              "      <th></th>\n",
              "      <th>Open</th>\n",
              "      <th>High</th>\n",
              "      <th>Low</th>\n",
              "      <th>Close</th>\n",
              "      <th>Volume</th>\n",
              "      <th>Change</th>\n",
              "    </tr>\n",
              "    <tr>\n",
              "      <th>Date</th>\n",
              "      <th></th>\n",
              "      <th></th>\n",
              "      <th></th>\n",
              "      <th></th>\n",
              "      <th></th>\n",
              "      <th></th>\n",
              "    </tr>\n",
              "  </thead>\n",
              "  <tbody>\n",
              "    <tr>\n",
              "      <th>2019-03-04</th>\n",
              "      <td>46000</td>\n",
              "      <td>46100</td>\n",
              "      <td>44800</td>\n",
              "      <td>44850</td>\n",
              "      <td>12926539</td>\n",
              "      <td>-0.005543</td>\n",
              "    </tr>\n",
              "    <tr>\n",
              "      <th>2019-03-05</th>\n",
              "      <td>44600</td>\n",
              "      <td>45100</td>\n",
              "      <td>44150</td>\n",
              "      <td>44250</td>\n",
              "      <td>10612405</td>\n",
              "      <td>-0.013378</td>\n",
              "    </tr>\n",
              "    <tr>\n",
              "      <th>2019-03-06</th>\n",
              "      <td>44000</td>\n",
              "      <td>44300</td>\n",
              "      <td>43700</td>\n",
              "      <td>44000</td>\n",
              "      <td>10202544</td>\n",
              "      <td>-0.005650</td>\n",
              "    </tr>\n",
              "    <tr>\n",
              "      <th>2019-03-07</th>\n",
              "      <td>43400</td>\n",
              "      <td>44950</td>\n",
              "      <td>43400</td>\n",
              "      <td>44450</td>\n",
              "      <td>11049749</td>\n",
              "      <td>0.010227</td>\n",
              "    </tr>\n",
              "    <tr>\n",
              "      <th>2019-03-08</th>\n",
              "      <td>44450</td>\n",
              "      <td>44800</td>\n",
              "      <td>43800</td>\n",
              "      <td>43800</td>\n",
              "      <td>7729069</td>\n",
              "      <td>-0.014623</td>\n",
              "    </tr>\n",
              "  </tbody>\n",
              "</table>\n",
              "</div>\n",
              "      <button class=\"colab-df-convert\" onclick=\"convertToInteractive('df-ac4fa092-9286-4519-9adf-c2698e6905ce')\"\n",
              "              title=\"Convert this dataframe to an interactive table.\"\n",
              "              style=\"display:none;\">\n",
              "        \n",
              "  <svg xmlns=\"http://www.w3.org/2000/svg\" height=\"24px\"viewBox=\"0 0 24 24\"\n",
              "       width=\"24px\">\n",
              "    <path d=\"M0 0h24v24H0V0z\" fill=\"none\"/>\n",
              "    <path d=\"M18.56 5.44l.94 2.06.94-2.06 2.06-.94-2.06-.94-.94-2.06-.94 2.06-2.06.94zm-11 1L8.5 8.5l.94-2.06 2.06-.94-2.06-.94L8.5 2.5l-.94 2.06-2.06.94zm10 10l.94 2.06.94-2.06 2.06-.94-2.06-.94-.94-2.06-.94 2.06-2.06.94z\"/><path d=\"M17.41 7.96l-1.37-1.37c-.4-.4-.92-.59-1.43-.59-.52 0-1.04.2-1.43.59L10.3 9.45l-7.72 7.72c-.78.78-.78 2.05 0 2.83L4 21.41c.39.39.9.59 1.41.59.51 0 1.02-.2 1.41-.59l7.78-7.78 2.81-2.81c.8-.78.8-2.07 0-2.86zM5.41 20L4 18.59l7.72-7.72 1.47 1.35L5.41 20z\"/>\n",
              "  </svg>\n",
              "      </button>\n",
              "      \n",
              "  <style>\n",
              "    .colab-df-container {\n",
              "      display:flex;\n",
              "      flex-wrap:wrap;\n",
              "      gap: 12px;\n",
              "    }\n",
              "\n",
              "    .colab-df-convert {\n",
              "      background-color: #E8F0FE;\n",
              "      border: none;\n",
              "      border-radius: 50%;\n",
              "      cursor: pointer;\n",
              "      display: none;\n",
              "      fill: #1967D2;\n",
              "      height: 32px;\n",
              "      padding: 0 0 0 0;\n",
              "      width: 32px;\n",
              "    }\n",
              "\n",
              "    .colab-df-convert:hover {\n",
              "      background-color: #E2EBFA;\n",
              "      box-shadow: 0px 1px 2px rgba(60, 64, 67, 0.3), 0px 1px 3px 1px rgba(60, 64, 67, 0.15);\n",
              "      fill: #174EA6;\n",
              "    }\n",
              "\n",
              "    [theme=dark] .colab-df-convert {\n",
              "      background-color: #3B4455;\n",
              "      fill: #D2E3FC;\n",
              "    }\n",
              "\n",
              "    [theme=dark] .colab-df-convert:hover {\n",
              "      background-color: #434B5C;\n",
              "      box-shadow: 0px 1px 3px 1px rgba(0, 0, 0, 0.15);\n",
              "      filter: drop-shadow(0px 1px 2px rgba(0, 0, 0, 0.3));\n",
              "      fill: #FFFFFF;\n",
              "    }\n",
              "  </style>\n",
              "\n",
              "      <script>\n",
              "        const buttonEl =\n",
              "          document.querySelector('#df-ac4fa092-9286-4519-9adf-c2698e6905ce button.colab-df-convert');\n",
              "        buttonEl.style.display =\n",
              "          google.colab.kernel.accessAllowed ? 'block' : 'none';\n",
              "\n",
              "        async function convertToInteractive(key) {\n",
              "          const element = document.querySelector('#df-ac4fa092-9286-4519-9adf-c2698e6905ce');\n",
              "          const dataTable =\n",
              "            await google.colab.kernel.invokeFunction('convertToInteractive',\n",
              "                                                     [key], {});\n",
              "          if (!dataTable) return;\n",
              "\n",
              "          const docLinkHtml = 'Like what you see? Visit the ' +\n",
              "            '<a target=\"_blank\" href=https://colab.research.google.com/notebooks/data_table.ipynb>data table notebook</a>'\n",
              "            + ' to learn more about interactive tables.';\n",
              "          element.innerHTML = '';\n",
              "          dataTable['output_type'] = 'display_data';\n",
              "          await google.colab.output.renderOutput(dataTable, element);\n",
              "          const docLink = document.createElement('div');\n",
              "          docLink.innerHTML = docLinkHtml;\n",
              "          element.appendChild(docLink);\n",
              "        }\n",
              "      </script>\n",
              "    </div>\n",
              "  </div>\n",
              "  "
            ]
          },
          "metadata": {},
          "execution_count": 2
        }
      ],
      "source": [
        "# Loading prices of Samsung Electronics from last 3 years\n",
        "df = fdr.DataReader('005930', '2019-03-04', '2022-03-04')\n",
        "df.head()"
      ]
    },
    {
      "cell_type": "code",
      "execution_count": null,
      "metadata": {
        "colab": {
          "base_uri": "https://localhost:8080/",
          "height": 237
        },
        "id": "z8XjWqXcWrpf",
        "outputId": "621bb64a-c259-4a5d-efcd-38c6fb52e74e"
      },
      "outputs": [
        {
          "output_type": "execute_result",
          "data": {
            "text/plain": [
              "             Open   High    Low  Close    Volume    Change\n",
              "Date                                                      \n",
              "2022-02-25  72100  72600  71900  71900  13168484  0.005594\n",
              "2022-02-28  71100  72100  71000  72100  17781783  0.002782\n",
              "2022-03-02  72300  72400  71500  71700  12481430 -0.005548\n",
              "2022-03-03  72300  73100  72200  72900  13232638  0.016736\n",
              "2022-03-04  72700  72700  71200  71500  13409634 -0.019204"
            ],
            "text/html": [
              "\n",
              "  <div id=\"df-4d0502d4-179d-46c2-aafa-f85ab1efd6fe\">\n",
              "    <div class=\"colab-df-container\">\n",
              "      <div>\n",
              "<style scoped>\n",
              "    .dataframe tbody tr th:only-of-type {\n",
              "        vertical-align: middle;\n",
              "    }\n",
              "\n",
              "    .dataframe tbody tr th {\n",
              "        vertical-align: top;\n",
              "    }\n",
              "\n",
              "    .dataframe thead th {\n",
              "        text-align: right;\n",
              "    }\n",
              "</style>\n",
              "<table border=\"1\" class=\"dataframe\">\n",
              "  <thead>\n",
              "    <tr style=\"text-align: right;\">\n",
              "      <th></th>\n",
              "      <th>Open</th>\n",
              "      <th>High</th>\n",
              "      <th>Low</th>\n",
              "      <th>Close</th>\n",
              "      <th>Volume</th>\n",
              "      <th>Change</th>\n",
              "    </tr>\n",
              "    <tr>\n",
              "      <th>Date</th>\n",
              "      <th></th>\n",
              "      <th></th>\n",
              "      <th></th>\n",
              "      <th></th>\n",
              "      <th></th>\n",
              "      <th></th>\n",
              "    </tr>\n",
              "  </thead>\n",
              "  <tbody>\n",
              "    <tr>\n",
              "      <th>2022-02-25</th>\n",
              "      <td>72100</td>\n",
              "      <td>72600</td>\n",
              "      <td>71900</td>\n",
              "      <td>71900</td>\n",
              "      <td>13168484</td>\n",
              "      <td>0.005594</td>\n",
              "    </tr>\n",
              "    <tr>\n",
              "      <th>2022-02-28</th>\n",
              "      <td>71100</td>\n",
              "      <td>72100</td>\n",
              "      <td>71000</td>\n",
              "      <td>72100</td>\n",
              "      <td>17781783</td>\n",
              "      <td>0.002782</td>\n",
              "    </tr>\n",
              "    <tr>\n",
              "      <th>2022-03-02</th>\n",
              "      <td>72300</td>\n",
              "      <td>72400</td>\n",
              "      <td>71500</td>\n",
              "      <td>71700</td>\n",
              "      <td>12481430</td>\n",
              "      <td>-0.005548</td>\n",
              "    </tr>\n",
              "    <tr>\n",
              "      <th>2022-03-03</th>\n",
              "      <td>72300</td>\n",
              "      <td>73100</td>\n",
              "      <td>72200</td>\n",
              "      <td>72900</td>\n",
              "      <td>13232638</td>\n",
              "      <td>0.016736</td>\n",
              "    </tr>\n",
              "    <tr>\n",
              "      <th>2022-03-04</th>\n",
              "      <td>72700</td>\n",
              "      <td>72700</td>\n",
              "      <td>71200</td>\n",
              "      <td>71500</td>\n",
              "      <td>13409634</td>\n",
              "      <td>-0.019204</td>\n",
              "    </tr>\n",
              "  </tbody>\n",
              "</table>\n",
              "</div>\n",
              "      <button class=\"colab-df-convert\" onclick=\"convertToInteractive('df-4d0502d4-179d-46c2-aafa-f85ab1efd6fe')\"\n",
              "              title=\"Convert this dataframe to an interactive table.\"\n",
              "              style=\"display:none;\">\n",
              "        \n",
              "  <svg xmlns=\"http://www.w3.org/2000/svg\" height=\"24px\"viewBox=\"0 0 24 24\"\n",
              "       width=\"24px\">\n",
              "    <path d=\"M0 0h24v24H0V0z\" fill=\"none\"/>\n",
              "    <path d=\"M18.56 5.44l.94 2.06.94-2.06 2.06-.94-2.06-.94-.94-2.06-.94 2.06-2.06.94zm-11 1L8.5 8.5l.94-2.06 2.06-.94-2.06-.94L8.5 2.5l-.94 2.06-2.06.94zm10 10l.94 2.06.94-2.06 2.06-.94-2.06-.94-.94-2.06-.94 2.06-2.06.94z\"/><path d=\"M17.41 7.96l-1.37-1.37c-.4-.4-.92-.59-1.43-.59-.52 0-1.04.2-1.43.59L10.3 9.45l-7.72 7.72c-.78.78-.78 2.05 0 2.83L4 21.41c.39.39.9.59 1.41.59.51 0 1.02-.2 1.41-.59l7.78-7.78 2.81-2.81c.8-.78.8-2.07 0-2.86zM5.41 20L4 18.59l7.72-7.72 1.47 1.35L5.41 20z\"/>\n",
              "  </svg>\n",
              "      </button>\n",
              "      \n",
              "  <style>\n",
              "    .colab-df-container {\n",
              "      display:flex;\n",
              "      flex-wrap:wrap;\n",
              "      gap: 12px;\n",
              "    }\n",
              "\n",
              "    .colab-df-convert {\n",
              "      background-color: #E8F0FE;\n",
              "      border: none;\n",
              "      border-radius: 50%;\n",
              "      cursor: pointer;\n",
              "      display: none;\n",
              "      fill: #1967D2;\n",
              "      height: 32px;\n",
              "      padding: 0 0 0 0;\n",
              "      width: 32px;\n",
              "    }\n",
              "\n",
              "    .colab-df-convert:hover {\n",
              "      background-color: #E2EBFA;\n",
              "      box-shadow: 0px 1px 2px rgba(60, 64, 67, 0.3), 0px 1px 3px 1px rgba(60, 64, 67, 0.15);\n",
              "      fill: #174EA6;\n",
              "    }\n",
              "\n",
              "    [theme=dark] .colab-df-convert {\n",
              "      background-color: #3B4455;\n",
              "      fill: #D2E3FC;\n",
              "    }\n",
              "\n",
              "    [theme=dark] .colab-df-convert:hover {\n",
              "      background-color: #434B5C;\n",
              "      box-shadow: 0px 1px 3px 1px rgba(0, 0, 0, 0.15);\n",
              "      filter: drop-shadow(0px 1px 2px rgba(0, 0, 0, 0.3));\n",
              "      fill: #FFFFFF;\n",
              "    }\n",
              "  </style>\n",
              "\n",
              "      <script>\n",
              "        const buttonEl =\n",
              "          document.querySelector('#df-4d0502d4-179d-46c2-aafa-f85ab1efd6fe button.colab-df-convert');\n",
              "        buttonEl.style.display =\n",
              "          google.colab.kernel.accessAllowed ? 'block' : 'none';\n",
              "\n",
              "        async function convertToInteractive(key) {\n",
              "          const element = document.querySelector('#df-4d0502d4-179d-46c2-aafa-f85ab1efd6fe');\n",
              "          const dataTable =\n",
              "            await google.colab.kernel.invokeFunction('convertToInteractive',\n",
              "                                                     [key], {});\n",
              "          if (!dataTable) return;\n",
              "\n",
              "          const docLinkHtml = 'Like what you see? Visit the ' +\n",
              "            '<a target=\"_blank\" href=https://colab.research.google.com/notebooks/data_table.ipynb>data table notebook</a>'\n",
              "            + ' to learn more about interactive tables.';\n",
              "          element.innerHTML = '';\n",
              "          dataTable['output_type'] = 'display_data';\n",
              "          await google.colab.output.renderOutput(dataTable, element);\n",
              "          const docLink = document.createElement('div');\n",
              "          docLink.innerHTML = docLinkHtml;\n",
              "          element.appendChild(docLink);\n",
              "        }\n",
              "      </script>\n",
              "    </div>\n",
              "  </div>\n",
              "  "
            ]
          },
          "metadata": {},
          "execution_count": 3
        }
      ],
      "source": [
        "df.tail()"
      ]
    },
    {
      "cell_type": "code",
      "execution_count": null,
      "metadata": {
        "colab": {
          "base_uri": "https://localhost:8080/"
        },
        "id": "i-OLGLc7CjXO",
        "outputId": "7de4cbd4-68c3-4d72-9397-6901d08aa9f1"
      },
      "outputs": [
        {
          "output_type": "execute_result",
          "data": {
            "text/plain": [
              "(744, 6)"
            ]
          },
          "metadata": {},
          "execution_count": 4
        }
      ],
      "source": [
        "df.shape"
      ]
    },
    {
      "cell_type": "markdown",
      "metadata": {
        "id": "vFJEzhyaC3At"
      },
      "source": [
        "## Data preprocessing (MinMaxScaler)"
      ]
    },
    {
      "cell_type": "code",
      "execution_count": null,
      "metadata": {
        "id": "OLRDtSC0C5Xm"
      },
      "outputs": [],
      "source": [
        "def MinMaxScaler(data):\n",
        "    \"\"\"changing the data range from 0~1 using minimum and maximum value\"\"\"\n",
        "    numerator = data - np.min(data, 0)\n",
        "    denominator = np.max(data, 0) - np.min(data, 0)\n",
        "    #add a very small value(1e-7) to prevent error caused by divide by 0\n",
        "    return numerator / (denominator + 1e-7)"
      ]
    },
    {
      "cell_type": "code",
      "execution_count": null,
      "metadata": {
        "id": "JQO0PasmFrYj"
      },
      "outputs": [],
      "source": [
        "dfx = df[['Open','High','Low','Volume', 'Close']]\n",
        "dfx = MinMaxScaler(dfx)\n",
        "dfy = dfx[['Close']]\n",
        "dfx = dfx[['Open','High','Low','Volume']]"
      ]
    },
    {
      "cell_type": "code",
      "execution_count": null,
      "metadata": {
        "colab": {
          "base_uri": "https://localhost:8080/",
          "height": 455
        },
        "id": "tu80s2tfFw7r",
        "outputId": "85b35b12-165d-4499-c739-44f06a624d32"
      },
      "outputs": [
        {
          "output_type": "execute_result",
          "data": {
            "text/plain": [
              "                Open      High       Low    Volume\n",
              "Date                                              \n",
              "2019-03-04  0.095918  0.073973  0.081192  0.099186\n",
              "2019-03-05  0.067347  0.055708  0.067831  0.072246\n",
              "2019-03-06  0.055102  0.041096  0.058582  0.067474\n",
              "2019-03-07  0.042857  0.052968  0.052415  0.077337\n",
              "2019-03-08  0.064286  0.050228  0.060637  0.038679\n",
              "...              ...       ...       ...       ...\n",
              "2022-02-25  0.628571  0.557991  0.638232  0.102002\n",
              "2022-02-28  0.608163  0.548858  0.619733  0.155708\n",
              "2022-03-02  0.632653  0.554338  0.630010  0.094004\n",
              "2022-03-03  0.632653  0.567123  0.644399  0.102749\n",
              "2022-03-04  0.640816  0.559817  0.623844  0.104810\n",
              "\n",
              "[744 rows x 4 columns]"
            ],
            "text/html": [
              "\n",
              "  <div id=\"df-a2f27606-03c3-4e29-bdc2-a1a98d78ad04\">\n",
              "    <div class=\"colab-df-container\">\n",
              "      <div>\n",
              "<style scoped>\n",
              "    .dataframe tbody tr th:only-of-type {\n",
              "        vertical-align: middle;\n",
              "    }\n",
              "\n",
              "    .dataframe tbody tr th {\n",
              "        vertical-align: top;\n",
              "    }\n",
              "\n",
              "    .dataframe thead th {\n",
              "        text-align: right;\n",
              "    }\n",
              "</style>\n",
              "<table border=\"1\" class=\"dataframe\">\n",
              "  <thead>\n",
              "    <tr style=\"text-align: right;\">\n",
              "      <th></th>\n",
              "      <th>Open</th>\n",
              "      <th>High</th>\n",
              "      <th>Low</th>\n",
              "      <th>Volume</th>\n",
              "    </tr>\n",
              "    <tr>\n",
              "      <th>Date</th>\n",
              "      <th></th>\n",
              "      <th></th>\n",
              "      <th></th>\n",
              "      <th></th>\n",
              "    </tr>\n",
              "  </thead>\n",
              "  <tbody>\n",
              "    <tr>\n",
              "      <th>2019-03-04</th>\n",
              "      <td>0.095918</td>\n",
              "      <td>0.073973</td>\n",
              "      <td>0.081192</td>\n",
              "      <td>0.099186</td>\n",
              "    </tr>\n",
              "    <tr>\n",
              "      <th>2019-03-05</th>\n",
              "      <td>0.067347</td>\n",
              "      <td>0.055708</td>\n",
              "      <td>0.067831</td>\n",
              "      <td>0.072246</td>\n",
              "    </tr>\n",
              "    <tr>\n",
              "      <th>2019-03-06</th>\n",
              "      <td>0.055102</td>\n",
              "      <td>0.041096</td>\n",
              "      <td>0.058582</td>\n",
              "      <td>0.067474</td>\n",
              "    </tr>\n",
              "    <tr>\n",
              "      <th>2019-03-07</th>\n",
              "      <td>0.042857</td>\n",
              "      <td>0.052968</td>\n",
              "      <td>0.052415</td>\n",
              "      <td>0.077337</td>\n",
              "    </tr>\n",
              "    <tr>\n",
              "      <th>2019-03-08</th>\n",
              "      <td>0.064286</td>\n",
              "      <td>0.050228</td>\n",
              "      <td>0.060637</td>\n",
              "      <td>0.038679</td>\n",
              "    </tr>\n",
              "    <tr>\n",
              "      <th>...</th>\n",
              "      <td>...</td>\n",
              "      <td>...</td>\n",
              "      <td>...</td>\n",
              "      <td>...</td>\n",
              "    </tr>\n",
              "    <tr>\n",
              "      <th>2022-02-25</th>\n",
              "      <td>0.628571</td>\n",
              "      <td>0.557991</td>\n",
              "      <td>0.638232</td>\n",
              "      <td>0.102002</td>\n",
              "    </tr>\n",
              "    <tr>\n",
              "      <th>2022-02-28</th>\n",
              "      <td>0.608163</td>\n",
              "      <td>0.548858</td>\n",
              "      <td>0.619733</td>\n",
              "      <td>0.155708</td>\n",
              "    </tr>\n",
              "    <tr>\n",
              "      <th>2022-03-02</th>\n",
              "      <td>0.632653</td>\n",
              "      <td>0.554338</td>\n",
              "      <td>0.630010</td>\n",
              "      <td>0.094004</td>\n",
              "    </tr>\n",
              "    <tr>\n",
              "      <th>2022-03-03</th>\n",
              "      <td>0.632653</td>\n",
              "      <td>0.567123</td>\n",
              "      <td>0.644399</td>\n",
              "      <td>0.102749</td>\n",
              "    </tr>\n",
              "    <tr>\n",
              "      <th>2022-03-04</th>\n",
              "      <td>0.640816</td>\n",
              "      <td>0.559817</td>\n",
              "      <td>0.623844</td>\n",
              "      <td>0.104810</td>\n",
              "    </tr>\n",
              "  </tbody>\n",
              "</table>\n",
              "<p>744 rows × 4 columns</p>\n",
              "</div>\n",
              "      <button class=\"colab-df-convert\" onclick=\"convertToInteractive('df-a2f27606-03c3-4e29-bdc2-a1a98d78ad04')\"\n",
              "              title=\"Convert this dataframe to an interactive table.\"\n",
              "              style=\"display:none;\">\n",
              "        \n",
              "  <svg xmlns=\"http://www.w3.org/2000/svg\" height=\"24px\"viewBox=\"0 0 24 24\"\n",
              "       width=\"24px\">\n",
              "    <path d=\"M0 0h24v24H0V0z\" fill=\"none\"/>\n",
              "    <path d=\"M18.56 5.44l.94 2.06.94-2.06 2.06-.94-2.06-.94-.94-2.06-.94 2.06-2.06.94zm-11 1L8.5 8.5l.94-2.06 2.06-.94-2.06-.94L8.5 2.5l-.94 2.06-2.06.94zm10 10l.94 2.06.94-2.06 2.06-.94-2.06-.94-.94-2.06-.94 2.06-2.06.94z\"/><path d=\"M17.41 7.96l-1.37-1.37c-.4-.4-.92-.59-1.43-.59-.52 0-1.04.2-1.43.59L10.3 9.45l-7.72 7.72c-.78.78-.78 2.05 0 2.83L4 21.41c.39.39.9.59 1.41.59.51 0 1.02-.2 1.41-.59l7.78-7.78 2.81-2.81c.8-.78.8-2.07 0-2.86zM5.41 20L4 18.59l7.72-7.72 1.47 1.35L5.41 20z\"/>\n",
              "  </svg>\n",
              "      </button>\n",
              "      \n",
              "  <style>\n",
              "    .colab-df-container {\n",
              "      display:flex;\n",
              "      flex-wrap:wrap;\n",
              "      gap: 12px;\n",
              "    }\n",
              "\n",
              "    .colab-df-convert {\n",
              "      background-color: #E8F0FE;\n",
              "      border: none;\n",
              "      border-radius: 50%;\n",
              "      cursor: pointer;\n",
              "      display: none;\n",
              "      fill: #1967D2;\n",
              "      height: 32px;\n",
              "      padding: 0 0 0 0;\n",
              "      width: 32px;\n",
              "    }\n",
              "\n",
              "    .colab-df-convert:hover {\n",
              "      background-color: #E2EBFA;\n",
              "      box-shadow: 0px 1px 2px rgba(60, 64, 67, 0.3), 0px 1px 3px 1px rgba(60, 64, 67, 0.15);\n",
              "      fill: #174EA6;\n",
              "    }\n",
              "\n",
              "    [theme=dark] .colab-df-convert {\n",
              "      background-color: #3B4455;\n",
              "      fill: #D2E3FC;\n",
              "    }\n",
              "\n",
              "    [theme=dark] .colab-df-convert:hover {\n",
              "      background-color: #434B5C;\n",
              "      box-shadow: 0px 1px 3px 1px rgba(0, 0, 0, 0.15);\n",
              "      filter: drop-shadow(0px 1px 2px rgba(0, 0, 0, 0.3));\n",
              "      fill: #FFFFFF;\n",
              "    }\n",
              "  </style>\n",
              "\n",
              "      <script>\n",
              "        const buttonEl =\n",
              "          document.querySelector('#df-a2f27606-03c3-4e29-bdc2-a1a98d78ad04 button.colab-df-convert');\n",
              "        buttonEl.style.display =\n",
              "          google.colab.kernel.accessAllowed ? 'block' : 'none';\n",
              "\n",
              "        async function convertToInteractive(key) {\n",
              "          const element = document.querySelector('#df-a2f27606-03c3-4e29-bdc2-a1a98d78ad04');\n",
              "          const dataTable =\n",
              "            await google.colab.kernel.invokeFunction('convertToInteractive',\n",
              "                                                     [key], {});\n",
              "          if (!dataTable) return;\n",
              "\n",
              "          const docLinkHtml = 'Like what you see? Visit the ' +\n",
              "            '<a target=\"_blank\" href=https://colab.research.google.com/notebooks/data_table.ipynb>data table notebook</a>'\n",
              "            + ' to learn more about interactive tables.';\n",
              "          element.innerHTML = '';\n",
              "          dataTable['output_type'] = 'display_data';\n",
              "          await google.colab.output.renderOutput(dataTable, element);\n",
              "          const docLink = document.createElement('div');\n",
              "          docLink.innerHTML = docLinkHtml;\n",
              "          element.appendChild(docLink);\n",
              "        }\n",
              "      </script>\n",
              "    </div>\n",
              "  </div>\n",
              "  "
            ]
          },
          "metadata": {},
          "execution_count": 7
        }
      ],
      "source": [
        "dfx"
      ]
    },
    {
      "cell_type": "code",
      "execution_count": null,
      "metadata": {
        "colab": {
          "base_uri": "https://localhost:8080/",
          "height": 300
        },
        "id": "NeCofCpwF4u9",
        "outputId": "19d3d630-8d3a-496f-9fe2-3987d4be76b2"
      },
      "outputs": [
        {
          "output_type": "execute_result",
          "data": {
            "text/plain": [
              "             Open        High         Low      Volume\n",
              "count  744.000000  744.000000  744.000000  744.000000\n",
              "mean     0.437169    0.388251    0.436904    0.150027\n",
              "std      0.292614    0.263532    0.292878    0.107176\n",
              "min      0.000000    0.000000    0.000000    0.000000\n",
              "25%      0.165306    0.141324    0.163412    0.079588\n",
              "50%      0.368367    0.325114    0.367934    0.125094\n",
              "75%      0.733163    0.651142    0.734841    0.191295\n",
              "max      1.000000    1.000000    1.000000    1.000000"
            ],
            "text/html": [
              "\n",
              "  <div id=\"df-de865422-8341-41d6-abd7-fca24c57188a\">\n",
              "    <div class=\"colab-df-container\">\n",
              "      <div>\n",
              "<style scoped>\n",
              "    .dataframe tbody tr th:only-of-type {\n",
              "        vertical-align: middle;\n",
              "    }\n",
              "\n",
              "    .dataframe tbody tr th {\n",
              "        vertical-align: top;\n",
              "    }\n",
              "\n",
              "    .dataframe thead th {\n",
              "        text-align: right;\n",
              "    }\n",
              "</style>\n",
              "<table border=\"1\" class=\"dataframe\">\n",
              "  <thead>\n",
              "    <tr style=\"text-align: right;\">\n",
              "      <th></th>\n",
              "      <th>Open</th>\n",
              "      <th>High</th>\n",
              "      <th>Low</th>\n",
              "      <th>Volume</th>\n",
              "    </tr>\n",
              "  </thead>\n",
              "  <tbody>\n",
              "    <tr>\n",
              "      <th>count</th>\n",
              "      <td>744.000000</td>\n",
              "      <td>744.000000</td>\n",
              "      <td>744.000000</td>\n",
              "      <td>744.000000</td>\n",
              "    </tr>\n",
              "    <tr>\n",
              "      <th>mean</th>\n",
              "      <td>0.437169</td>\n",
              "      <td>0.388251</td>\n",
              "      <td>0.436904</td>\n",
              "      <td>0.150027</td>\n",
              "    </tr>\n",
              "    <tr>\n",
              "      <th>std</th>\n",
              "      <td>0.292614</td>\n",
              "      <td>0.263532</td>\n",
              "      <td>0.292878</td>\n",
              "      <td>0.107176</td>\n",
              "    </tr>\n",
              "    <tr>\n",
              "      <th>min</th>\n",
              "      <td>0.000000</td>\n",
              "      <td>0.000000</td>\n",
              "      <td>0.000000</td>\n",
              "      <td>0.000000</td>\n",
              "    </tr>\n",
              "    <tr>\n",
              "      <th>25%</th>\n",
              "      <td>0.165306</td>\n",
              "      <td>0.141324</td>\n",
              "      <td>0.163412</td>\n",
              "      <td>0.079588</td>\n",
              "    </tr>\n",
              "    <tr>\n",
              "      <th>50%</th>\n",
              "      <td>0.368367</td>\n",
              "      <td>0.325114</td>\n",
              "      <td>0.367934</td>\n",
              "      <td>0.125094</td>\n",
              "    </tr>\n",
              "    <tr>\n",
              "      <th>75%</th>\n",
              "      <td>0.733163</td>\n",
              "      <td>0.651142</td>\n",
              "      <td>0.734841</td>\n",
              "      <td>0.191295</td>\n",
              "    </tr>\n",
              "    <tr>\n",
              "      <th>max</th>\n",
              "      <td>1.000000</td>\n",
              "      <td>1.000000</td>\n",
              "      <td>1.000000</td>\n",
              "      <td>1.000000</td>\n",
              "    </tr>\n",
              "  </tbody>\n",
              "</table>\n",
              "</div>\n",
              "      <button class=\"colab-df-convert\" onclick=\"convertToInteractive('df-de865422-8341-41d6-abd7-fca24c57188a')\"\n",
              "              title=\"Convert this dataframe to an interactive table.\"\n",
              "              style=\"display:none;\">\n",
              "        \n",
              "  <svg xmlns=\"http://www.w3.org/2000/svg\" height=\"24px\"viewBox=\"0 0 24 24\"\n",
              "       width=\"24px\">\n",
              "    <path d=\"M0 0h24v24H0V0z\" fill=\"none\"/>\n",
              "    <path d=\"M18.56 5.44l.94 2.06.94-2.06 2.06-.94-2.06-.94-.94-2.06-.94 2.06-2.06.94zm-11 1L8.5 8.5l.94-2.06 2.06-.94-2.06-.94L8.5 2.5l-.94 2.06-2.06.94zm10 10l.94 2.06.94-2.06 2.06-.94-2.06-.94-.94-2.06-.94 2.06-2.06.94z\"/><path d=\"M17.41 7.96l-1.37-1.37c-.4-.4-.92-.59-1.43-.59-.52 0-1.04.2-1.43.59L10.3 9.45l-7.72 7.72c-.78.78-.78 2.05 0 2.83L4 21.41c.39.39.9.59 1.41.59.51 0 1.02-.2 1.41-.59l7.78-7.78 2.81-2.81c.8-.78.8-2.07 0-2.86zM5.41 20L4 18.59l7.72-7.72 1.47 1.35L5.41 20z\"/>\n",
              "  </svg>\n",
              "      </button>\n",
              "      \n",
              "  <style>\n",
              "    .colab-df-container {\n",
              "      display:flex;\n",
              "      flex-wrap:wrap;\n",
              "      gap: 12px;\n",
              "    }\n",
              "\n",
              "    .colab-df-convert {\n",
              "      background-color: #E8F0FE;\n",
              "      border: none;\n",
              "      border-radius: 50%;\n",
              "      cursor: pointer;\n",
              "      display: none;\n",
              "      fill: #1967D2;\n",
              "      height: 32px;\n",
              "      padding: 0 0 0 0;\n",
              "      width: 32px;\n",
              "    }\n",
              "\n",
              "    .colab-df-convert:hover {\n",
              "      background-color: #E2EBFA;\n",
              "      box-shadow: 0px 1px 2px rgba(60, 64, 67, 0.3), 0px 1px 3px 1px rgba(60, 64, 67, 0.15);\n",
              "      fill: #174EA6;\n",
              "    }\n",
              "\n",
              "    [theme=dark] .colab-df-convert {\n",
              "      background-color: #3B4455;\n",
              "      fill: #D2E3FC;\n",
              "    }\n",
              "\n",
              "    [theme=dark] .colab-df-convert:hover {\n",
              "      background-color: #434B5C;\n",
              "      box-shadow: 0px 1px 3px 1px rgba(0, 0, 0, 0.15);\n",
              "      filter: drop-shadow(0px 1px 2px rgba(0, 0, 0, 0.3));\n",
              "      fill: #FFFFFF;\n",
              "    }\n",
              "  </style>\n",
              "\n",
              "      <script>\n",
              "        const buttonEl =\n",
              "          document.querySelector('#df-de865422-8341-41d6-abd7-fca24c57188a button.colab-df-convert');\n",
              "        buttonEl.style.display =\n",
              "          google.colab.kernel.accessAllowed ? 'block' : 'none';\n",
              "\n",
              "        async function convertToInteractive(key) {\n",
              "          const element = document.querySelector('#df-de865422-8341-41d6-abd7-fca24c57188a');\n",
              "          const dataTable =\n",
              "            await google.colab.kernel.invokeFunction('convertToInteractive',\n",
              "                                                     [key], {});\n",
              "          if (!dataTable) return;\n",
              "\n",
              "          const docLinkHtml = 'Like what you see? Visit the ' +\n",
              "            '<a target=\"_blank\" href=https://colab.research.google.com/notebooks/data_table.ipynb>data table notebook</a>'\n",
              "            + ' to learn more about interactive tables.';\n",
              "          element.innerHTML = '';\n",
              "          dataTable['output_type'] = 'display_data';\n",
              "          await google.colab.output.renderOutput(dataTable, element);\n",
              "          const docLink = document.createElement('div');\n",
              "          docLink.innerHTML = docLinkHtml;\n",
              "          element.appendChild(docLink);\n",
              "        }\n",
              "      </script>\n",
              "    </div>\n",
              "  </div>\n",
              "  "
            ]
          },
          "metadata": {},
          "execution_count": 8
        }
      ],
      "source": [
        "dfx.describe()"
      ]
    },
    {
      "cell_type": "code",
      "execution_count": null,
      "metadata": {
        "colab": {
          "base_uri": "https://localhost:8080/",
          "height": 237
        },
        "id": "LSUAVZ_sGBAc",
        "outputId": "d579af58-4bd6-4820-9589-cb7fd74f0803"
      },
      "outputs": [
        {
          "output_type": "execute_result",
          "data": {
            "text/plain": [
              "               Close\n",
              "Date                \n",
              "2019-03-04  0.073293\n",
              "2019-03-05  0.061245\n",
              "2019-03-06  0.056225\n",
              "2019-03-07  0.065261\n",
              "2019-03-08  0.052209"
            ],
            "text/html": [
              "\n",
              "  <div id=\"df-c27fe406-05f2-435e-8300-235ead56f18b\">\n",
              "    <div class=\"colab-df-container\">\n",
              "      <div>\n",
              "<style scoped>\n",
              "    .dataframe tbody tr th:only-of-type {\n",
              "        vertical-align: middle;\n",
              "    }\n",
              "\n",
              "    .dataframe tbody tr th {\n",
              "        vertical-align: top;\n",
              "    }\n",
              "\n",
              "    .dataframe thead th {\n",
              "        text-align: right;\n",
              "    }\n",
              "</style>\n",
              "<table border=\"1\" class=\"dataframe\">\n",
              "  <thead>\n",
              "    <tr style=\"text-align: right;\">\n",
              "      <th></th>\n",
              "      <th>Close</th>\n",
              "    </tr>\n",
              "    <tr>\n",
              "      <th>Date</th>\n",
              "      <th></th>\n",
              "    </tr>\n",
              "  </thead>\n",
              "  <tbody>\n",
              "    <tr>\n",
              "      <th>2019-03-04</th>\n",
              "      <td>0.073293</td>\n",
              "    </tr>\n",
              "    <tr>\n",
              "      <th>2019-03-05</th>\n",
              "      <td>0.061245</td>\n",
              "    </tr>\n",
              "    <tr>\n",
              "      <th>2019-03-06</th>\n",
              "      <td>0.056225</td>\n",
              "    </tr>\n",
              "    <tr>\n",
              "      <th>2019-03-07</th>\n",
              "      <td>0.065261</td>\n",
              "    </tr>\n",
              "    <tr>\n",
              "      <th>2019-03-08</th>\n",
              "      <td>0.052209</td>\n",
              "    </tr>\n",
              "  </tbody>\n",
              "</table>\n",
              "</div>\n",
              "      <button class=\"colab-df-convert\" onclick=\"convertToInteractive('df-c27fe406-05f2-435e-8300-235ead56f18b')\"\n",
              "              title=\"Convert this dataframe to an interactive table.\"\n",
              "              style=\"display:none;\">\n",
              "        \n",
              "  <svg xmlns=\"http://www.w3.org/2000/svg\" height=\"24px\"viewBox=\"0 0 24 24\"\n",
              "       width=\"24px\">\n",
              "    <path d=\"M0 0h24v24H0V0z\" fill=\"none\"/>\n",
              "    <path d=\"M18.56 5.44l.94 2.06.94-2.06 2.06-.94-2.06-.94-.94-2.06-.94 2.06-2.06.94zm-11 1L8.5 8.5l.94-2.06 2.06-.94-2.06-.94L8.5 2.5l-.94 2.06-2.06.94zm10 10l.94 2.06.94-2.06 2.06-.94-2.06-.94-.94-2.06-.94 2.06-2.06.94z\"/><path d=\"M17.41 7.96l-1.37-1.37c-.4-.4-.92-.59-1.43-.59-.52 0-1.04.2-1.43.59L10.3 9.45l-7.72 7.72c-.78.78-.78 2.05 0 2.83L4 21.41c.39.39.9.59 1.41.59.51 0 1.02-.2 1.41-.59l7.78-7.78 2.81-2.81c.8-.78.8-2.07 0-2.86zM5.41 20L4 18.59l7.72-7.72 1.47 1.35L5.41 20z\"/>\n",
              "  </svg>\n",
              "      </button>\n",
              "      \n",
              "  <style>\n",
              "    .colab-df-container {\n",
              "      display:flex;\n",
              "      flex-wrap:wrap;\n",
              "      gap: 12px;\n",
              "    }\n",
              "\n",
              "    .colab-df-convert {\n",
              "      background-color: #E8F0FE;\n",
              "      border: none;\n",
              "      border-radius: 50%;\n",
              "      cursor: pointer;\n",
              "      display: none;\n",
              "      fill: #1967D2;\n",
              "      height: 32px;\n",
              "      padding: 0 0 0 0;\n",
              "      width: 32px;\n",
              "    }\n",
              "\n",
              "    .colab-df-convert:hover {\n",
              "      background-color: #E2EBFA;\n",
              "      box-shadow: 0px 1px 2px rgba(60, 64, 67, 0.3), 0px 1px 3px 1px rgba(60, 64, 67, 0.15);\n",
              "      fill: #174EA6;\n",
              "    }\n",
              "\n",
              "    [theme=dark] .colab-df-convert {\n",
              "      background-color: #3B4455;\n",
              "      fill: #D2E3FC;\n",
              "    }\n",
              "\n",
              "    [theme=dark] .colab-df-convert:hover {\n",
              "      background-color: #434B5C;\n",
              "      box-shadow: 0px 1px 3px 1px rgba(0, 0, 0, 0.15);\n",
              "      filter: drop-shadow(0px 1px 2px rgba(0, 0, 0, 0.3));\n",
              "      fill: #FFFFFF;\n",
              "    }\n",
              "  </style>\n",
              "\n",
              "      <script>\n",
              "        const buttonEl =\n",
              "          document.querySelector('#df-c27fe406-05f2-435e-8300-235ead56f18b button.colab-df-convert');\n",
              "        buttonEl.style.display =\n",
              "          google.colab.kernel.accessAllowed ? 'block' : 'none';\n",
              "\n",
              "        async function convertToInteractive(key) {\n",
              "          const element = document.querySelector('#df-c27fe406-05f2-435e-8300-235ead56f18b');\n",
              "          const dataTable =\n",
              "            await google.colab.kernel.invokeFunction('convertToInteractive',\n",
              "                                                     [key], {});\n",
              "          if (!dataTable) return;\n",
              "\n",
              "          const docLinkHtml = 'Like what you see? Visit the ' +\n",
              "            '<a target=\"_blank\" href=https://colab.research.google.com/notebooks/data_table.ipynb>data table notebook</a>'\n",
              "            + ' to learn more about interactive tables.';\n",
              "          element.innerHTML = '';\n",
              "          dataTable['output_type'] = 'display_data';\n",
              "          await google.colab.output.renderOutput(dataTable, element);\n",
              "          const docLink = document.createElement('div');\n",
              "          docLink.innerHTML = docLinkHtml;\n",
              "          element.appendChild(docLink);\n",
              "        }\n",
              "      </script>\n",
              "    </div>\n",
              "  </div>\n",
              "  "
            ]
          },
          "metadata": {},
          "execution_count": 9
        }
      ],
      "source": [
        "dfy.head()"
      ]
    },
    {
      "cell_type": "code",
      "execution_count": null,
      "metadata": {
        "id": "0j76U5U_GM8l"
      },
      "outputs": [],
      "source": [
        "# 두 데이터를 리스트 형태로 저장\n",
        "X = dfx.values.tolist()\n",
        "y = dfy.values.tolist()"
      ]
    },
    {
      "cell_type": "code",
      "execution_count": null,
      "metadata": {
        "colab": {
          "base_uri": "https://localhost:8080/"
        },
        "id": "QaFFB88zGfCT",
        "outputId": "b0bc1b6e-1413-42aa-ae22-7fb1b3d7f96a"
      },
      "outputs": [
        {
          "output_type": "execute_result",
          "data": {
            "text/plain": [
              "[[0.09591836734674303,\n",
              "  0.07397260273959091,\n",
              "  0.08119218910569127,\n",
              "  0.09918560083472276],\n",
              " [0.06734693877537276,\n",
              "  0.055707762556975876,\n",
              "  0.06783144912627373,\n",
              "  0.07224562951051035],\n",
              " [0.05510204081621407,\n",
              "  0.041095890410883844,\n",
              "  0.05858170606360004,\n",
              "  0.06747423615692191],\n",
              " [0.04285714285705539,\n",
              "  0.052968036529583616,\n",
              "  0.052415210688484246,\n",
              "  0.07733696597538937],\n",
              " [0.06428571428558309,\n",
              "  0.05022831050219136,\n",
              "  0.060637204521971966,\n",
              "  0.038679297933311575]]"
            ]
          },
          "metadata": {},
          "execution_count": 11
        }
      ],
      "source": [
        "X[:5]"
      ]
    },
    {
      "cell_type": "code",
      "execution_count": null,
      "metadata": {
        "colab": {
          "base_uri": "https://localhost:8080/"
        },
        "id": "JZ_QOvySGikP",
        "outputId": "469b9a95-6e30-41cc-cec1-ce3befb8c194"
      },
      "outputs": [
        {
          "output_type": "execute_result",
          "data": {
            "text/plain": [
              "[[0.07329317269061587],\n",
              " [0.061244979919555735],\n",
              " [0.05622489959828067],\n",
              " [0.06526104417657579],\n",
              " [0.052208835341260626]]"
            ]
          },
          "metadata": {},
          "execution_count": 12
        }
      ],
      "source": [
        "y[:5]"
      ]
    },
    {
      "cell_type": "markdown",
      "metadata": {
        "id": "N1-NpxbgGoYo"
      },
      "source": [
        "##2-3. Data Preprocessing( Predicting ending price of next day using 10 days of OHLVC data\n",
        ")"
      ]
    },
    {
      "cell_type": "code",
      "execution_count": null,
      "metadata": {
        "id": "VzUXf1FcG_F7"
      },
      "outputs": [],
      "source": [
        "window_size = 10"
      ]
    },
    {
      "cell_type": "code",
      "execution_count": null,
      "metadata": {
        "colab": {
          "base_uri": "https://localhost:8080/"
        },
        "id": "oetJG9oFGvkU",
        "outputId": "c55ee788-6a86-4907-9cdc-145f2e1ab6f4"
      },
      "outputs": [
        {
          "output_type": "stream",
          "name": "stdout",
          "text": [
            "[[0.6877551020394127, 0.6127853881267347, 0.6916752312421548, 0.10708834585884078], [0.6795918367333069, 0.5981735159806426, 0.6752312435751794, 0.06653921484146737], [0.6510204081619367, 0.5890410958893351, 0.6526207605330882, 0.07081735819959016], [0.6469387755088838, 0.5726027397249815, 0.656731757449832, 0.08481918540153228], [0.6632653061210954, 0.5799086757980275, 0.656731757449832, 0.06974921642866831], [0.6326530612231986, 0.552511415524105, 0.625899280574253, 0.1321629660732244], [0.6285714285701458, 0.5579908675788895, 0.6382322713244846, 0.10200220149917719], [0.6081632653048813, 0.548858447487582, 0.6197327851991372, 0.15570788266112276], [0.6326530612231986, 0.5543378995423665, 0.6300102774909969, 0.09400386818823434], [0.6326530612231986, 0.567123287670197, 0.6443987666996004, 0.10274904974579277]] -> [0.6084337349385373]\n"
          ]
        }
      ],
      "source": [
        "data_X = []\n",
        "data_y = []\n",
        "for i in range(len(y) - window_size):\n",
        "    _X = X[i : i + window_size] # Ending price for next day is not included\n",
        "    _y = y[i + window_size]     # ending price for next day\n",
        "    data_X.append(_X)\n",
        "    data_y.append(_y)\n",
        "print(_X, \"->\", _y)"
      ]
    },
    {
      "cell_type": "markdown",
      "metadata": {
        "id": "nSvf_b_1RT4-"
      },
      "source": [
        "For example, this is the first sample of data_x\n",
        "\n"
      ]
    },
    {
      "cell_type": "code",
      "execution_count": null,
      "metadata": {
        "colab": {
          "base_uri": "https://localhost:8080/"
        },
        "id": "1oH8LYHLRM5t",
        "outputId": "411171f4-0016-49c1-ec48-2f8493034bb0"
      },
      "outputs": [
        {
          "output_type": "execute_result",
          "data": {
            "text/plain": [
              "[[0.09591836734674303,\n",
              "  0.07397260273959091,\n",
              "  0.08119218910569127,\n",
              "  0.09918560083472276],\n",
              " [0.06734693877537276,\n",
              "  0.055707762556975876,\n",
              "  0.06783144912627373,\n",
              "  0.07224562951051035],\n",
              " [0.05510204081621407,\n",
              "  0.041095890410883844,\n",
              "  0.05858170606360004,\n",
              "  0.06747423615692191],\n",
              " [0.04285714285705539,\n",
              "  0.052968036529583616,\n",
              "  0.052415210688484246,\n",
              "  0.07733696597538937],\n",
              " [0.06428571428558309,\n",
              "  0.05022831050219136,\n",
              "  0.060637204521971966,\n",
              "  0.038679297933311575],\n",
              " [0.06326530612231987,\n",
              "  0.0438356164382761,\n",
              "  0.05755395683441407,\n",
              "  0.07346802104399816],\n",
              " [0.06122448979579342,\n",
              "  0.052968036529583616,\n",
              "  0.06783144912627373,\n",
              "  0.08178666999396006],\n",
              " [0.060204081632530194,\n",
              "  0.0438356164382761,\n",
              "  0.05858170606360004,\n",
              "  0.04309461298594869],\n",
              " [0.04897959183663474,\n",
              "  0.041095890410883844,\n",
              "  0.05549845837604214,\n",
              "  0.15870414646411912],\n",
              " [0.05102040816316118,\n",
              "  0.04018264840175309,\n",
              "  0.05858170606360004,\n",
              "  0.1444433426419474]]"
            ]
          },
          "metadata": {},
          "execution_count": 15
        }
      ],
      "source": [
        "#OHLVC data for 10 days\n",
        "data_X[0]"
      ]
    },
    {
      "cell_type": "markdown",
      "metadata": {
        "id": "EGiw4pS-RZ3Z"
      },
      "source": [
        "This is the first sample of data_y."
      ]
    },
    {
      "cell_type": "code",
      "execution_count": null,
      "metadata": {
        "colab": {
          "base_uri": "https://localhost:8080/"
        },
        "id": "Kb7thSW9RZOz",
        "outputId": "9f748c1e-c869-4bd8-ef1c-b2ac1adfddb9"
      },
      "outputs": [
        {
          "output_type": "execute_result",
          "data": {
            "text/plain": [
              "[0.0502008032127506]"
            ]
          },
          "metadata": {},
          "execution_count": 16
        }
      ],
      "source": [
        "# the answer for data_y[0] when data_x[0] is inputted\n",
        "data_y[0]"
      ]
    },
    {
      "cell_type": "markdown",
      "metadata": {
        "id": "JF6GdrSURrWl"
      },
      "source": [
        " If we put this value on a RNN model, RNN would be performed 10 times. \n",
        "In this model, we would get input from $x_{0}$부터 $x_{9}$ and the RNN will predict the ending price of the next day."
      ]
    },
    {
      "cell_type": "markdown",
      "metadata": {
        "id": "augdVF7yRi2h"
      },
      "source": [
        "##2-4. split training and test data"
      ]
    },
    {
      "cell_type": "code",
      "execution_count": null,
      "metadata": {
        "colab": {
          "base_uri": "https://localhost:8080/"
        },
        "id": "i9i_6damSOKU",
        "outputId": "d94bda8f-c6bd-4830-d483-18450fa18e10"
      },
      "outputs": [
        {
          "output_type": "stream",
          "name": "stdout",
          "text": [
            "Size of entire data : 734 734\n"
          ]
        }
      ],
      "source": [
        "print('Size of entire data :', len(data_X), len(data_y))"
      ]
    },
    {
      "cell_type": "markdown",
      "metadata": {
        "id": "vu--yRArRom-"
      },
      "source": [
        "Split data into training and testing data. The ratio between train and test should be 7:3\n"
      ]
    },
    {
      "cell_type": "code",
      "execution_count": null,
      "metadata": {
        "id": "SUqltCJrSd5A"
      },
      "outputs": [],
      "source": [
        "train_size = int(len(data_y) * 0.7)\n",
        "train_X = np.array(data_X[0 : train_size])\n",
        "train_y = np.array(data_y[0 : train_size])\n",
        "\n",
        "test_size = len(data_y) - train_size\n",
        "test_X = np.array(data_X[train_size : len(data_X)])\n",
        "test_y = np.array(data_y[train_size : len(data_y)])"
      ]
    },
    {
      "cell_type": "code",
      "execution_count": null,
      "metadata": {
        "colab": {
          "base_uri": "https://localhost:8080/"
        },
        "id": "JNnxpd-XSe3n",
        "outputId": "bfa18c87-26a9-4fcd-c00d-c7a95da04d52"
      },
      "outputs": [
        {
          "output_type": "stream",
          "name": "stdout",
          "text": [
            "Train data size : (513, 10, 4) (513, 1)\n",
            "Test data size : (221, 10, 4) (221, 1)\n"
          ]
        }
      ],
      "source": [
        "print('Train data size :', train_X.shape, train_y.shape)\n",
        "print('Test data size :', test_X.shape, test_y.shape)"
      ]
    },
    {
      "cell_type": "markdown",
      "metadata": {
        "id": "mGTbJzFBSqnR"
      },
      "source": [
        "\n",
        "\n",
        "```\n",
        "# 코드로 형식 지정됨\n",
        "```\n",
        "\n",
        "##2-5. Learning Model\n"
      ]
    },
    {
      "cell_type": "code",
      "execution_count": null,
      "metadata": {
        "id": "l6nARGStA25z"
      },
      "outputs": [],
      "source": [
        "from tensorflow.keras import Sequential\n",
        "from tensorflow.keras.layers import Dense, LSTM, Dropout"
      ]
    },
    {
      "cell_type": "code",
      "execution_count": null,
      "metadata": {
        "colab": {
          "base_uri": "https://localhost:8080/"
        },
        "id": "RS7qOU0rddk1",
        "outputId": "17431bc7-275a-4da7-af36-dd850373fb07"
      },
      "outputs": [
        {
          "output_type": "stream",
          "name": "stdout",
          "text": [
            "WARNING:tensorflow:Layer lstm will not use cuDNN kernels since it doesn't meet the criteria. It will use a generic GPU kernel as fallback when running on GPU.\n",
            "WARNING:tensorflow:Layer lstm_1 will not use cuDNN kernels since it doesn't meet the criteria. It will use a generic GPU kernel as fallback when running on GPU.\n",
            "Model: \"sequential\"\n",
            "_________________________________________________________________\n",
            " Layer (type)                Output Shape              Param #   \n",
            "=================================================================\n",
            " lstm (LSTM)                 (None, 10, 20)            2000      \n",
            "                                                                 \n",
            " dropout (Dropout)           (None, 10, 20)            0         \n",
            "                                                                 \n",
            " lstm_1 (LSTM)               (None, 20)                3280      \n",
            "                                                                 \n",
            " dropout_1 (Dropout)         (None, 20)                0         \n",
            "                                                                 \n",
            " dense (Dense)               (None, 1)                 21        \n",
            "                                                                 \n",
            "=================================================================\n",
            "Total params: 5,301\n",
            "Trainable params: 5,301\n",
            "Non-trainable params: 0\n",
            "_________________________________________________________________\n"
          ]
        }
      ],
      "source": [
        "model = Sequential()\n",
        "model.add(LSTM(units=20, activation='relu', return_sequences=True, input_shape=(10, 4)))\n",
        "model.add(Dropout(0.1))\n",
        "model.add(LSTM(units=20, activation='relu'))\n",
        "model.add(Dropout(0.1))\n",
        "model.add(Dense(units=1))\n",
        "model.summary()"
      ]
    },
    {
      "cell_type": "code",
      "execution_count": null,
      "metadata": {
        "colab": {
          "base_uri": "https://localhost:8080/"
        },
        "id": "bLlMQiUzdhLN",
        "outputId": "1e5bf34e-e922-4c49-abed-0095103e7b90"
      },
      "outputs": [
        {
          "output_type": "stream",
          "name": "stdout",
          "text": [
            "Epoch 1/70\n",
            "18/18 [==============================] - 5s 34ms/step - loss: 0.1498\n",
            "Epoch 2/70\n",
            "18/18 [==============================] - 1s 33ms/step - loss: 0.0791\n",
            "Epoch 3/70\n",
            "18/18 [==============================] - 1s 34ms/step - loss: 0.0271\n",
            "Epoch 4/70\n",
            "18/18 [==============================] - 1s 35ms/step - loss: 0.0138\n",
            "Epoch 5/70\n",
            "18/18 [==============================] - 1s 34ms/step - loss: 0.0080\n",
            "Epoch 6/70\n",
            "18/18 [==============================] - 1s 33ms/step - loss: 0.0096\n",
            "Epoch 7/70\n",
            "18/18 [==============================] - 1s 32ms/step - loss: 0.0065\n",
            "Epoch 8/70\n",
            "18/18 [==============================] - 1s 34ms/step - loss: 0.0064\n",
            "Epoch 9/70\n",
            "18/18 [==============================] - 1s 33ms/step - loss: 0.0077\n",
            "Epoch 10/70\n",
            "18/18 [==============================] - 1s 34ms/step - loss: 0.0070\n",
            "Epoch 11/70\n",
            "18/18 [==============================] - 1s 33ms/step - loss: 0.0072\n",
            "Epoch 12/70\n",
            "18/18 [==============================] - 1s 33ms/step - loss: 0.0068\n",
            "Epoch 13/70\n",
            "18/18 [==============================] - 1s 36ms/step - loss: 0.0061\n",
            "Epoch 14/70\n",
            "18/18 [==============================] - 1s 34ms/step - loss: 0.0076\n",
            "Epoch 15/70\n",
            "18/18 [==============================] - 1s 36ms/step - loss: 0.0072\n",
            "Epoch 16/70\n",
            "18/18 [==============================] - 1s 36ms/step - loss: 0.0054\n",
            "Epoch 17/70\n",
            "18/18 [==============================] - 1s 35ms/step - loss: 0.0065\n",
            "Epoch 18/70\n",
            "18/18 [==============================] - 1s 33ms/step - loss: 0.0064\n",
            "Epoch 19/70\n",
            "18/18 [==============================] - 1s 35ms/step - loss: 0.0052\n",
            "Epoch 20/70\n",
            "18/18 [==============================] - 1s 36ms/step - loss: 0.0048\n",
            "Epoch 21/70\n",
            "18/18 [==============================] - 1s 34ms/step - loss: 0.0057\n",
            "Epoch 22/70\n",
            "18/18 [==============================] - 1s 35ms/step - loss: 0.0041\n",
            "Epoch 23/70\n",
            "18/18 [==============================] - 1s 36ms/step - loss: 0.0045\n",
            "Epoch 24/70\n",
            "18/18 [==============================] - 1s 36ms/step - loss: 0.0057\n",
            "Epoch 25/70\n",
            "18/18 [==============================] - 1s 35ms/step - loss: 0.0048\n",
            "Epoch 26/70\n",
            "18/18 [==============================] - 1s 34ms/step - loss: 0.0046\n",
            "Epoch 27/70\n",
            "18/18 [==============================] - 1s 34ms/step - loss: 0.0037\n",
            "Epoch 28/70\n",
            "18/18 [==============================] - 1s 33ms/step - loss: 0.0043\n",
            "Epoch 29/70\n",
            "18/18 [==============================] - 1s 33ms/step - loss: 0.0041\n",
            "Epoch 30/70\n",
            "18/18 [==============================] - 1s 34ms/step - loss: 0.0048\n",
            "Epoch 31/70\n",
            "18/18 [==============================] - 1s 33ms/step - loss: 0.0041\n",
            "Epoch 32/70\n",
            "18/18 [==============================] - 1s 34ms/step - loss: 0.0040\n",
            "Epoch 33/70\n",
            "18/18 [==============================] - 1s 35ms/step - loss: 0.0043\n",
            "Epoch 34/70\n",
            "18/18 [==============================] - 1s 33ms/step - loss: 0.0037\n",
            "Epoch 35/70\n",
            "18/18 [==============================] - 1s 34ms/step - loss: 0.0050\n",
            "Epoch 36/70\n",
            "18/18 [==============================] - 1s 33ms/step - loss: 0.0036\n",
            "Epoch 37/70\n",
            "18/18 [==============================] - 1s 33ms/step - loss: 0.0036\n",
            "Epoch 38/70\n",
            "18/18 [==============================] - 1s 34ms/step - loss: 0.0043\n",
            "Epoch 39/70\n",
            "18/18 [==============================] - 1s 34ms/step - loss: 0.0047\n",
            "Epoch 40/70\n",
            "18/18 [==============================] - 1s 34ms/step - loss: 0.0038\n",
            "Epoch 41/70\n",
            "18/18 [==============================] - 1s 33ms/step - loss: 0.0037\n",
            "Epoch 42/70\n",
            "18/18 [==============================] - 1s 34ms/step - loss: 0.0037\n",
            "Epoch 43/70\n",
            "18/18 [==============================] - 1s 33ms/step - loss: 0.0038\n",
            "Epoch 44/70\n",
            "18/18 [==============================] - 1s 33ms/step - loss: 0.0036\n",
            "Epoch 45/70\n",
            "18/18 [==============================] - 1s 36ms/step - loss: 0.0037\n",
            "Epoch 46/70\n",
            "18/18 [==============================] - 1s 32ms/step - loss: 0.0041\n",
            "Epoch 47/70\n",
            "18/18 [==============================] - 1s 36ms/step - loss: 0.0038\n",
            "Epoch 48/70\n",
            "18/18 [==============================] - 1s 35ms/step - loss: 0.0032\n",
            "Epoch 49/70\n",
            "18/18 [==============================] - 1s 35ms/step - loss: 0.0037\n",
            "Epoch 50/70\n",
            "18/18 [==============================] - 1s 34ms/step - loss: 0.0038\n",
            "Epoch 51/70\n",
            "18/18 [==============================] - 1s 33ms/step - loss: 0.0044\n",
            "Epoch 52/70\n",
            "18/18 [==============================] - 1s 34ms/step - loss: 0.0038\n",
            "Epoch 53/70\n",
            "18/18 [==============================] - 1s 34ms/step - loss: 0.0040\n",
            "Epoch 54/70\n",
            "18/18 [==============================] - 1s 35ms/step - loss: 0.0040\n",
            "Epoch 55/70\n",
            "18/18 [==============================] - 1s 33ms/step - loss: 0.0033\n",
            "Epoch 56/70\n",
            "18/18 [==============================] - 1s 33ms/step - loss: 0.0032\n",
            "Epoch 57/70\n",
            "18/18 [==============================] - 1s 34ms/step - loss: 0.0033\n",
            "Epoch 58/70\n",
            "18/18 [==============================] - 1s 34ms/step - loss: 0.0033\n",
            "Epoch 59/70\n",
            "18/18 [==============================] - 1s 36ms/step - loss: 0.0031\n",
            "Epoch 60/70\n",
            "18/18 [==============================] - 1s 34ms/step - loss: 0.0029\n",
            "Epoch 61/70\n",
            "18/18 [==============================] - 1s 35ms/step - loss: 0.0031\n",
            "Epoch 62/70\n",
            "18/18 [==============================] - 1s 33ms/step - loss: 0.0040\n",
            "Epoch 63/70\n",
            "18/18 [==============================] - 1s 33ms/step - loss: 0.0039\n",
            "Epoch 64/70\n",
            "18/18 [==============================] - 1s 34ms/step - loss: 0.0037\n",
            "Epoch 65/70\n",
            "18/18 [==============================] - 1s 33ms/step - loss: 0.0036\n",
            "Epoch 66/70\n",
            "18/18 [==============================] - 1s 33ms/step - loss: 0.0030\n",
            "Epoch 67/70\n",
            "18/18 [==============================] - 1s 35ms/step - loss: 0.0033\n",
            "Epoch 68/70\n",
            "18/18 [==============================] - 1s 35ms/step - loss: 0.0034\n",
            "Epoch 69/70\n",
            "18/18 [==============================] - 1s 34ms/step - loss: 0.0037\n",
            "Epoch 70/70\n",
            "18/18 [==============================] - 1s 32ms/step - loss: 0.0034\n"
          ]
        }
      ],
      "source": [
        "model.compile(optimizer='adam', loss='mean_squared_error')\n",
        "model.fit(train_X, train_y, epochs=70, batch_size=30)\n",
        "pred_y = model.predict(test_X)"
      ]
    },
    {
      "cell_type": "code",
      "execution_count": null,
      "metadata": {
        "colab": {
          "base_uri": "https://localhost:8080/"
        },
        "id": "nivrTPqPU6Dd",
        "outputId": "06986130-8179-4bf3-fb8f-802d55726572"
      },
      "outputs": [
        {
          "output_type": "execute_result",
          "data": {
            "text/plain": [
              "(221, 1)"
            ]
          },
          "metadata": {},
          "execution_count": 24
        }
      ],
      "source": [
        "test_y.shape"
      ]
    },
    {
      "cell_type": "code",
      "execution_count": null,
      "metadata": {
        "id": "v-UEf990Ulo_"
      },
      "outputs": [],
      "source": [
        "pred_y = model.predict(test_X)"
      ]
    },
    {
      "cell_type": "code",
      "execution_count": null,
      "metadata": {
        "colab": {
          "base_uri": "https://localhost:8080/",
          "height": 309
        },
        "id": "pR-LCuoIUuQO",
        "outputId": "37c78313-839a-487f-8ece-692c100f87d8"
      },
      "outputs": [
        {
          "output_type": "display_data",
          "data": {
            "text/plain": [
              "<Figure size 432x288 with 1 Axes>"
            ],
            "image/png": "[encoded data removed]"
          },
          "metadata": {
            "needs_background": "light"
          }
        },
        {
          "output_type": "stream",
          "name": "stdout",
          "text": [
            "Tomorrow's SEC price : [71159.14202518] KRW\n"
          ]
        }
      ],
      "source": [
        "# Visualising the results\n",
        "plt.figure()\n",
        "plt.plot(test_y, color='red', label='real SEC stock price')\n",
        "plt.plot(pred_y, color='blue', label='predicted SEC stock price')\n",
        "plt.title('SEC stock price prediction')\n",
        "plt.xlabel('time')\n",
        "plt.ylabel('stock price')\n",
        "plt.legend()\n",
        "plt.show()\n",
        "\n",
        "# raw_df.close[-1] : dfy.close[-1] = x : pred_y[-1]\n",
        "print(\"Tomorrow's SEC price :\", df.Close[-1] * pred_y[-1] / dfy.Close[-1], 'KRW')"
      ]
    },
    {
      "cell_type": "code",
      "execution_count": null,
      "metadata": {
        "colab": {
          "base_uri": "https://localhost:8080/"
        },
        "id": "LM8el27HdwR-",
        "outputId": "26d11c25-13c2-49e3-8d34-bd499e2d6b16"
      },
      "outputs": [
        {
          "output_type": "stream",
          "name": "stdout",
          "text": [
            "MAE:  0.03157882079845485\n",
            "MSE:  0.0014738897149570056\n"
          ]
        }
      ],
      "source": [
        "from sklearn import metrics\n",
        "\n",
        "print(\"MAE: \", metrics.mean_absolute_error(test_y,pred_y))\n",
        "print(\"MSE: \", metrics.mean_squared_error(test_y,pred_y))\n",
        "\n",
        "#print(\"MAE: \", metrics.mean_absolute_error(data2.visitors ,pred_value))\n",
        "#print(\"MSE: \", metrics.mean_squared_error(data2.visitors,pred_value))"
      ]
    },
    {
      "cell_type": "code",
      "execution_count": null,
      "metadata": {
        "colab": {
          "base_uri": "https://localhost:8080/"
        },
        "id": "rQT1q8h2suqG",
        "outputId": "b4a094b3-85c9-4392-e2e2-34a1b1b1eac8"
      },
      "outputs": [
        {
          "output_type": "execute_result",
          "data": {
            "text/plain": [
              "array([[0.85943775],\n",
              "       [0.85943775],\n",
              "       [0.86144578],\n",
              "       [0.85742972],\n",
              "       [0.84538153],\n",
              "       [0.85742972],\n",
              "       [0.8313253 ],\n",
              "       [0.82730924],\n",
              "       [0.83534137],\n",
              "       [0.84939759],\n",
              "       [0.8373494 ],\n",
              "       [0.82128514],\n",
              "       [0.81325301],\n",
              "       [0.80923695],\n",
              "       [0.81325301],\n",
              "       [0.8313253 ],\n",
              "       [0.8253012 ],\n",
              "       [0.81726908],\n",
              "       [0.84337349],\n",
              "       [0.80321285],\n",
              "       [0.77911647],\n",
              "       [0.74899598],\n",
              "       [0.7811245 ],\n",
              "       [0.77108434],\n",
              "       [0.77108434],\n",
              "       [0.76907631],\n",
              "       [0.7811245 ],\n",
              "       [0.77309237],\n",
              "       [0.77710843],\n",
              "       [0.7751004 ],\n",
              "       [0.77108434],\n",
              "       [0.7811245 ],\n",
              "       [0.78915663],\n",
              "       [0.79116466],\n",
              "       [0.79518072],\n",
              "       [0.83534137],\n",
              "       [0.82329317],\n",
              "       [0.81726908],\n",
              "       [0.81726908],\n",
              "       [0.80120482],\n",
              "       [0.79919679],\n",
              "       [0.79919679],\n",
              "       [0.78915663],\n",
              "       [0.79718876],\n",
              "       [0.81526104],\n",
              "       [0.79718876],\n",
              "       [0.78915663],\n",
              "       [0.77710843],\n",
              "       [0.77911647],\n",
              "       [0.7811245 ],\n",
              "       [0.80321285],\n",
              "       [0.81124498],\n",
              "       [0.81726908],\n",
              "       [0.79919679],\n",
              "       [0.79317269],\n",
              "       [0.7811245 ],\n",
              "       [0.77911647],\n",
              "       [0.78714859],\n",
              "       [0.80321285],\n",
              "       [0.79518072],\n",
              "       [0.77710843],\n",
              "       [0.76706827],\n",
              "       [0.77309237],\n",
              "       [0.7751004 ],\n",
              "       [0.76907631],\n",
              "       [0.79116466],\n",
              "       [0.7751004 ],\n",
              "       [0.75903614],\n",
              "       [0.75903614],\n",
              "       [0.74899598],\n",
              "       [0.77309237],\n",
              "       [0.76506024],\n",
              "       [0.75502008],\n",
              "       [0.74899598],\n",
              "       [0.76305221],\n",
              "       [0.75903614],\n",
              "       [0.74899598],\n",
              "       [0.76506024],\n",
              "       [0.80722892],\n",
              "       [0.8373494 ],\n",
              "       [0.82128514],\n",
              "       [0.80923695],\n",
              "       [0.80923695],\n",
              "       [0.78313253],\n",
              "       [0.74899598],\n",
              "       [0.7188755 ],\n",
              "       [0.66666667],\n",
              "       [0.6626506 ],\n",
              "       [0.65662651],\n",
              "       [0.64056225],\n",
              "       [0.63253012],\n",
              "       [0.64457831],\n",
              "       [0.69076305],\n",
              "       [0.69277108],\n",
              "       [0.67068273],\n",
              "       [0.66465863],\n",
              "       [0.67068273],\n",
              "       [0.71285141],\n",
              "       [0.71485944],\n",
              "       [0.69879518],\n",
              "       [0.71084337],\n",
              "       [0.7248996 ],\n",
              "       [0.70080321],\n",
              "       [0.70481928],\n",
              "       [0.68473896],\n",
              "       [0.68473896],\n",
              "       [0.70481928],\n",
              "       [0.71084337],\n",
              "       [0.7188755 ],\n",
              "       [0.70080321],\n",
              "       [0.72289157],\n",
              "       [0.72690763],\n",
              "       [0.7248996 ],\n",
              "       [0.73293173],\n",
              "       [0.70481928],\n",
              "       [0.66064257],\n",
              "       [0.66064257],\n",
              "       [0.64257028],\n",
              "       [0.62248996],\n",
              "       [0.60441767],\n",
              "       [0.61044177],\n",
              "       [0.60843373],\n",
              "       [0.55823293],\n",
              "       [0.55421687],\n",
              "       [0.56626506],\n",
              "       [0.58032129],\n",
              "       [0.58232932],\n",
              "       [0.59036145],\n",
              "       [0.58433735],\n",
              "       [0.58232932],\n",
              "       [0.58634538],\n",
              "       [0.58232932],\n",
              "       [0.60040161],\n",
              "       [0.58032129],\n",
              "       [0.59236948],\n",
              "       [0.57429719],\n",
              "       [0.57630522],\n",
              "       [0.60843373],\n",
              "       [0.58634538],\n",
              "       [0.59036145],\n",
              "       [0.58232932],\n",
              "       [0.59036145],\n",
              "       [0.58835341],\n",
              "       [0.58232932],\n",
              "       [0.57630522],\n",
              "       [0.59036145],\n",
              "       [0.6064257 ],\n",
              "       [0.60441767],\n",
              "       [0.59236948],\n",
              "       [0.58232932],\n",
              "       [0.60240964],\n",
              "       [0.67670683],\n",
              "       [0.68473896],\n",
              "       [0.6746988 ],\n",
              "       [0.65261044],\n",
              "       [0.62449799],\n",
              "       [0.62449799],\n",
              "       [0.60441767],\n",
              "       [0.66666667],\n",
              "       [0.69477912],\n",
              "       [0.69076305],\n",
              "       [0.70481928],\n",
              "       [0.72690763],\n",
              "       [0.72690763],\n",
              "       [0.74297189],\n",
              "       [0.71686747],\n",
              "       [0.71485944],\n",
              "       [0.7188755 ],\n",
              "       [0.73092369],\n",
              "       [0.73493976],\n",
              "       [0.73895582],\n",
              "       [0.72088353],\n",
              "       [0.74096386],\n",
              "       [0.76706827],\n",
              "       [0.77710843],\n",
              "       [0.78915663],\n",
              "       [0.78313253],\n",
              "       [0.78514056],\n",
              "       [0.75502008],\n",
              "       [0.74497992],\n",
              "       [0.75100402],\n",
              "       [0.75301205],\n",
              "       [0.72690763],\n",
              "       [0.71686747],\n",
              "       [0.74497992],\n",
              "       [0.73895582],\n",
              "       [0.75702811],\n",
              "       [0.75702811],\n",
              "       [0.73694779],\n",
              "       [0.7248996 ],\n",
              "       [0.72891566],\n",
              "       [0.7188755 ],\n",
              "       [0.70481928],\n",
              "       [0.70883534],\n",
              "       [0.69076305],\n",
              "       [0.68072289],\n",
              "       [0.65863454],\n",
              "       [0.64457831],\n",
              "       [0.60441767],\n",
              "       [0.64457831],\n",
              "       [0.64457831],\n",
              "       [0.65863454],\n",
              "       [0.63855422],\n",
              "       [0.64859438],\n",
              "       [0.67269076],\n",
              "       [0.68674699],\n",
              "       [0.67670683],\n",
              "       [0.65261044],\n",
              "       [0.65261044],\n",
              "       [0.6746988 ],\n",
              "       [0.67871486],\n",
              "       [0.66465863],\n",
              "       [0.6626506 ],\n",
              "       [0.64658635],\n",
              "       [0.63855422],\n",
              "       [0.60843373],\n",
              "       [0.61646586],\n",
              "       [0.62048193],\n",
              "       [0.6124498 ],\n",
              "       [0.63654618],\n",
              "       [0.60843373]])"
            ]
          },
          "metadata": {},
          "execution_count": 28
        }
      ],
      "source": [
        "test_y"
      ]
    },
    {
      "cell_type": "code",
      "execution_count": null,
      "metadata": {
        "colab": {
          "base_uri": "https://localhost:8080/"
        },
        "id": "6hr_k2Jttery",
        "outputId": "ed3ab095-0b56-478e-8d2e-236555b62e91"
      },
      "outputs": [
        {
          "output_type": "execute_result",
          "data": {
            "text/plain": [
              "(221, 1)"
            ]
          },
          "metadata": {},
          "execution_count": 29
        }
      ],
      "source": [
        "test_y.shape"
      ]
    },
    {
      "cell_type": "code",
      "execution_count": null,
      "metadata": {
        "colab": {
          "base_uri": "https://localhost:8080/",
          "height": 455
        },
        "id": "m1seoWK8x9Yh",
        "outputId": "e869d05e-fd3c-4462-c722-1c753c171872"
      },
      "outputs": [
        {
          "output_type": "execute_result",
          "data": {
            "text/plain": [
              "               Close\n",
              "Date                \n",
              "2019-03-04  0.073293\n",
              "2019-03-05  0.061245\n",
              "2019-03-06  0.056225\n",
              "2019-03-07  0.065261\n",
              "2019-03-08  0.052209\n",
              "...              ...\n",
              "2022-02-25  0.616466\n",
              "2022-02-28  0.620482\n",
              "2022-03-02  0.612450\n",
              "2022-03-03  0.636546\n",
              "2022-03-04  0.608434\n",
              "\n",
              "[744 rows x 1 columns]"
            ],
            "text/html": [
              "\n",
              "  <div id=\"df-8f99202a-c704-4938-b456-b46cee23091a\">\n",
              "    <div class=\"colab-df-container\">\n",
              "      <div>\n",
              "<style scoped>\n",
              "    .dataframe tbody tr th:only-of-type {\n",
              "        vertical-align: middle;\n",
              "    }\n",
              "\n",
              "    .dataframe tbody tr th {\n",
              "        vertical-align: top;\n",
              "    }\n",
              "\n",
              "    .dataframe thead th {\n",
              "        text-align: right;\n",
              "    }\n",
              "</style>\n",
              "<table border=\"1\" class=\"dataframe\">\n",
              "  <thead>\n",
              "    <tr style=\"text-align: right;\">\n",
              "      <th></th>\n",
              "      <th>Close</th>\n",
              "    </tr>\n",
              "    <tr>\n",
              "      <th>Date</th>\n",
              "      <th></th>\n",
              "    </tr>\n",
              "  </thead>\n",
              "  <tbody>\n",
              "    <tr>\n",
              "      <th>2019-03-04</th>\n",
              "      <td>0.073293</td>\n",
              "    </tr>\n",
              "    <tr>\n",
              "      <th>2019-03-05</th>\n",
              "      <td>0.061245</td>\n",
              "    </tr>\n",
              "    <tr>\n",
              "      <th>2019-03-06</th>\n",
              "      <td>0.056225</td>\n",
              "    </tr>\n",
              "    <tr>\n",
              "      <th>2019-03-07</th>\n",
              "      <td>0.065261</td>\n",
              "    </tr>\n",
              "    <tr>\n",
              "      <th>2019-03-08</th>\n",
              "      <td>0.052209</td>\n",
              "    </tr>\n",
              "    <tr>\n",
              "      <th>...</th>\n",
              "      <td>...</td>\n",
              "    </tr>\n",
              "    <tr>\n",
              "      <th>2022-02-25</th>\n",
              "      <td>0.616466</td>\n",
              "    </tr>\n",
              "    <tr>\n",
              "      <th>2022-02-28</th>\n",
              "      <td>0.620482</td>\n",
              "    </tr>\n",
              "    <tr>\n",
              "      <th>2022-03-02</th>\n",
              "      <td>0.612450</td>\n",
              "    </tr>\n",
              "    <tr>\n",
              "      <th>2022-03-03</th>\n",
              "      <td>0.636546</td>\n",
              "    </tr>\n",
              "    <tr>\n",
              "      <th>2022-03-04</th>\n",
              "      <td>0.608434</td>\n",
              "    </tr>\n",
              "  </tbody>\n",
              "</table>\n",
              "<p>744 rows × 1 columns</p>\n",
              "</div>\n",
              "      <button class=\"colab-df-convert\" onclick=\"convertToInteractive('df-8f99202a-c704-4938-b456-b46cee23091a')\"\n",
              "              title=\"Convert this dataframe to an interactive table.\"\n",
              "              style=\"display:none;\">\n",
              "        \n",
              "  <svg xmlns=\"http://www.w3.org/2000/svg\" height=\"24px\"viewBox=\"0 0 24 24\"\n",
              "       width=\"24px\">\n",
              "    <path d=\"M0 0h24v24H0V0z\" fill=\"none\"/>\n",
              "    <path d=\"M18.56 5.44l.94 2.06.94-2.06 2.06-.94-2.06-.94-.94-2.06-.94 2.06-2.06.94zm-11 1L8.5 8.5l.94-2.06 2.06-.94-2.06-.94L8.5 2.5l-.94 2.06-2.06.94zm10 10l.94 2.06.94-2.06 2.06-.94-2.06-.94-.94-2.06-.94 2.06-2.06.94z\"/><path d=\"M17.41 7.96l-1.37-1.37c-.4-.4-.92-.59-1.43-.59-.52 0-1.04.2-1.43.59L10.3 9.45l-7.72 7.72c-.78.78-.78 2.05 0 2.83L4 21.41c.39.39.9.59 1.41.59.51 0 1.02-.2 1.41-.59l7.78-7.78 2.81-2.81c.8-.78.8-2.07 0-2.86zM5.41 20L4 18.59l7.72-7.72 1.47 1.35L5.41 20z\"/>\n",
              "  </svg>\n",
              "      </button>\n",
              "      \n",
              "  <style>\n",
              "    .colab-df-container {\n",
              "      display:flex;\n",
              "      flex-wrap:wrap;\n",
              "      gap: 12px;\n",
              "    }\n",
              "\n",
              "    .colab-df-convert {\n",
              "      background-color: #E8F0FE;\n",
              "      border: none;\n",
              "      border-radius: 50%;\n",
              "      cursor: pointer;\n",
              "      display: none;\n",
              "      fill: #1967D2;\n",
              "      height: 32px;\n",
              "      padding: 0 0 0 0;\n",
              "      width: 32px;\n",
              "    }\n",
              "\n",
              "    .colab-df-convert:hover {\n",
              "      background-color: #E2EBFA;\n",
              "      box-shadow: 0px 1px 2px rgba(60, 64, 67, 0.3), 0px 1px 3px 1px rgba(60, 64, 67, 0.15);\n",
              "      fill: #174EA6;\n",
              "    }\n",
              "\n",
              "    [theme=dark] .colab-df-convert {\n",
              "      background-color: #3B4455;\n",
              "      fill: #D2E3FC;\n",
              "    }\n",
              "\n",
              "    [theme=dark] .colab-df-convert:hover {\n",
              "      background-color: #434B5C;\n",
              "      box-shadow: 0px 1px 3px 1px rgba(0, 0, 0, 0.15);\n",
              "      filter: drop-shadow(0px 1px 2px rgba(0, 0, 0, 0.3));\n",
              "      fill: #FFFFFF;\n",
              "    }\n",
              "  </style>\n",
              "\n",
              "      <script>\n",
              "        const buttonEl =\n",
              "          document.querySelector('#df-8f99202a-c704-4938-b456-b46cee23091a button.colab-df-convert');\n",
              "        buttonEl.style.display =\n",
              "          google.colab.kernel.accessAllowed ? 'block' : 'none';\n",
              "\n",
              "        async function convertToInteractive(key) {\n",
              "          const element = document.querySelector('#df-8f99202a-c704-4938-b456-b46cee23091a');\n",
              "          const dataTable =\n",
              "            await google.colab.kernel.invokeFunction('convertToInteractive',\n",
              "                                                     [key], {});\n",
              "          if (!dataTable) return;\n",
              "\n",
              "          const docLinkHtml = 'Like what you see? Visit the ' +\n",
              "            '<a target=\"_blank\" href=https://colab.research.google.com/notebooks/data_table.ipynb>data table notebook</a>'\n",
              "            + ' to learn more about interactive tables.';\n",
              "          element.innerHTML = '';\n",
              "          dataTable['output_type'] = 'display_data';\n",
              "          await google.colab.output.renderOutput(dataTable, element);\n",
              "          const docLink = document.createElement('div');\n",
              "          docLink.innerHTML = docLinkHtml;\n",
              "          element.appendChild(docLink);\n",
              "        }\n",
              "      </script>\n",
              "    </div>\n",
              "  </div>\n",
              "  "
            ]
          },
          "metadata": {},
          "execution_count": 30
        }
      ],
      "source": [
        "dfy"
      ]
    },
    {
      "cell_type": "code",
      "source": [
        "len(data_y)\n",
        "data_y"
      ],
      "metadata": {
        "colab": {
          "base_uri": "https://localhost:8080/"
        },
        "id": "egGzYCUjfVqg",
        "outputId": "ad8564d7-dfe8-4065-d64c-7c67dc56cf35"
      },
      "execution_count": null,
      "outputs": [
        {
          "output_type": "execute_result",
          "data": {
            "text/plain": [
              "[[0.0502008032127506],\n",
              " [0.05421686746977065],\n",
              " [0.057228915662535684],\n",
              " [0.09337349397571612],\n",
              " [0.10742971887528628],\n",
              " [0.08634538152593103],\n",
              " [0.08132530120465598],\n",
              " [0.08333333333316599],\n",
              " [0.07329317269061587],\n",
              " [0.06927710843359583],\n",
              " [0.07730923694763592],\n",
              " [0.09136546184720609],\n",
              " [0.1084337349395413],\n",
              " [0.11546184738932638],\n",
              " [0.11345381526081635],\n",
              " [0.10943775100379631],\n",
              " [0.10943775100379631],\n",
              " [0.11044176706805132],\n",
              " [0.10140562248975621],\n",
              " [0.11345381526081635],\n",
              " [0.1174698795178364],\n",
              " [0.12148594377485646],\n",
              " [0.1174698795178364],\n",
              " [0.08835341365444106],\n",
              " [0.08232931726891099],\n",
              " [0.08333333333316599],\n",
              " [0.08032128514040096],\n",
              " [0.07128514056210586],\n",
              " [0.06927710843359583],\n",
              " [0.07329317269061587],\n",
              " [0.0993975903612462],\n",
              " [0.09337349397571612],\n",
              " [0.09437751003997112],\n",
              " [0.08232931726891099],\n",
              " [0.07329317269061587],\n",
              " [0.061244979919555735],\n",
              " [0.0251004016063753],\n",
              " [0.03413654618467041],\n",
              " [0.02911646586339535],\n",
              " [0.02911646586339535],\n",
              " [0.027108433734885324],\n",
              " [0.007028112449785084],\n",
              " [0.0],\n",
              " [0.016064257028080193],\n",
              " [0.039156626505945466],\n",
              " [0.04618473895573055],\n",
              " [0.053212851405515633],\n",
              " [0.03012048192765036],\n",
              " [0.02911646586339535],\n",
              " [0.027108433734885324],\n",
              " [0.012048192771060144],\n",
              " [0.027108433734885324],\n",
              " [0.026104417670630313],\n",
              " [0.052208835341260626],\n",
              " [0.04518072289147554],\n",
              " [0.05421686746977065],\n",
              " [0.06024096385530072],\n",
              " [0.07228915662636086],\n",
              " [0.07329317269061587],\n",
              " [0.06827309236934082],\n",
              " [0.05120481927700561],\n",
              " [0.05622489959828067],\n",
              " [0.05421686746977065],\n",
              " [0.06325301204806576],\n",
              " [0.08333333333316599],\n",
              " [0.08634538152593103],\n",
              " [0.09036144578295108],\n",
              " [0.08634538152593103],\n",
              " [0.08835341365444106],\n",
              " [0.09036144578295108],\n",
              " [0.10642570281103127],\n",
              " [0.1164658634535814],\n",
              " [0.1084337349395413],\n",
              " [0.10140562248975621],\n",
              " [0.084337349397421],\n",
              " [0.09638554216848115],\n",
              " [0.08935742971869606],\n",
              " [0.06425702811232077],\n",
              " [0.07831325301189093],\n",
              " [0.08734939759018605],\n",
              " [0.1004016064255012],\n",
              " [0.10240963855401122],\n",
              " [0.10542168674677627],\n",
              " [0.11345381526081635],\n",
              " [0.09738955823273616],\n",
              " [0.09839357429699118],\n",
              " [0.11244979919656134],\n",
              " [0.12048192771060144],\n",
              " [0.12248995983911147],\n",
              " [0.10441767068252125],\n",
              " [0.12048192771060144],\n",
              " [0.11947791164634643],\n",
              " [0.09839357429699118],\n",
              " [0.10742971887528628],\n",
              " [0.08333333333316599],\n",
              " [0.08032128514040096],\n",
              " [0.0753012048191259],\n",
              " [0.05522088353402566],\n",
              " [0.04618473895573055],\n",
              " [0.04016064257020048],\n",
              " [0.02911646586339535],\n",
              " [0.039156626505945466],\n",
              " [0.0502008032127506],\n",
              " [0.03614457831318043],\n",
              " [0.0502008032127506],\n",
              " [0.05421686746977065],\n",
              " [0.048192771084240575],\n",
              " [0.06526104417657579],\n",
              " [0.06626506024083079],\n",
              " [0.057228915662535684],\n",
              " [0.05522088353402566],\n",
              " [0.048192771084240575],\n",
              " [0.057228915662535684],\n",
              " [0.059236947791045706],\n",
              " [0.04417670682722053],\n",
              " [0.05622489959828067],\n",
              " [0.052208835341260626],\n",
              " [0.041164658634455495],\n",
              " [0.0582329317267907],\n",
              " [0.09036144578295108],\n",
              " [0.10240963855401122],\n",
              " [0.11445783132507137],\n",
              " [0.1164658634535814],\n",
              " [0.11947791164634643],\n",
              " [0.11847389558209141],\n",
              " [0.11445783132507137],\n",
              " [0.13052208835315157],\n",
              " [0.1596385542165469],\n",
              " [0.16064257028080192],\n",
              " [0.16265060240931195],\n",
              " [0.16666666666633198],\n",
              " [0.15461847389527184],\n",
              " [0.16064257028080192],\n",
              " [0.14457831325272172],\n",
              " [0.15763052208803688],\n",
              " [0.15361445783101685],\n",
              " [0.12851405622464154],\n",
              " [0.13654618473868163],\n",
              " [0.13152610441740656],\n",
              " [0.15461847389527184],\n",
              " [0.14759036144548676],\n",
              " [0.1596385542165469],\n",
              " [0.17670682730888213],\n",
              " [0.17871485943739213],\n",
              " [0.19076305220845227],\n",
              " [0.18674698795143224],\n",
              " [0.1746987951803721],\n",
              " [0.18273092369441218],\n",
              " [0.2008032128510024],\n",
              " [0.2008032128510024],\n",
              " [0.19076305220845227],\n",
              " [0.19477911646547233],\n",
              " [0.20281124497951242],\n",
              " [0.1987951807224924],\n",
              " [0.1847389558229222],\n",
              " [0.1847389558229222],\n",
              " [0.2008032128510024],\n",
              " [0.22289156626461265],\n",
              " [0.23092369477865277],\n",
              " [0.2429718875497129],\n",
              " [0.2349397590356728],\n",
              " [0.21887550200759262],\n",
              " [0.2088353413650425],\n",
              " [0.22891566265014274],\n",
              " [0.2269076305216327],\n",
              " [0.2329317269071628],\n",
              " [0.251004016063753],\n",
              " [0.24698795180673294],\n",
              " [0.24698795180673294],\n",
              " [0.2168674698790826],\n",
              " [0.19678714859398236],\n",
              " [0.2088353413650425],\n",
              " [0.21285140562206253],\n",
              " [0.21285140562206253],\n",
              " [0.22088353413610265],\n",
              " [0.20281124497951242],\n",
              " [0.18273092369441218],\n",
              " [0.1847389558229222],\n",
              " [0.1746987951803721],\n",
              " [0.16566265060207697],\n",
              " [0.16666666666633198],\n",
              " [0.1847389558229222],\n",
              " [0.2008032128510024],\n",
              " [0.20682730923653248],\n",
              " [0.21485943775057256],\n",
              " [0.2429718875497129],\n",
              " [0.27108433734885323],\n",
              " [0.27108433734885323],\n",
              " [0.3112449799190537],\n",
              " [0.30321285140501364],\n",
              " [0.29718875501948355],\n",
              " [0.29718875501948355],\n",
              " [0.2871485943769334],\n",
              " [0.2771084337343833],\n",
              " [0.28514056224842343],\n",
              " [0.3072289156620337],\n",
              " [0.2931726907624635],\n",
              " [0.2811244979914034],\n",
              " [0.2871485943769334],\n",
              " [0.2871485943769334],\n",
              " [0.2931726907624635],\n",
              " [0.31325301204756373],\n",
              " [0.3493975903607442],\n",
              " [0.3674698795173344],\n",
              " [0.3775100401598845],\n",
              " [0.3775100401598845],\n",
              " [0.35742971887478425],\n",
              " [0.3915662650594547],\n",
              " [0.4036144578305148],\n",
              " [0.42570281124412507],\n",
              " [0.40562248995902483],\n",
              " [0.42369477911561504],\n",
              " [0.3935742971879647],\n",
              " [0.35341365461776425],\n",
              " [0.3594377510032943],\n",
              " [0.32128514056160384],\n",
              " [0.30522088353352367],\n",
              " [0.32128514056160384],\n",
              " [0.3554216867462742],\n",
              " [0.3674698795173344],\n",
              " [0.3995983935734948],\n",
              " [0.3855421686739246],\n",
              " [0.37148594377435445],\n",
              " [0.3755020080313745],\n",
              " [0.38755020080243463],\n",
              " [0.3915662650594547],\n",
              " [0.41365461847306495],\n",
              " [0.40763052208753486],\n",
              " [0.3734939759028645],\n",
              " [0.38152610441690454],\n",
              " [0.3775100401598845],\n",
              " [0.3614457831318043],\n",
              " [0.31325301204756373],\n",
              " [0.335341365461174],\n",
              " [0.3072289156620337],\n",
              " [0.2951807228909735],\n",
              " [0.26104417670630314],\n",
              " [0.2771084337343833],\n",
              " [0.28514056224842343],\n",
              " [0.3253012048186239],\n",
              " [0.33333333333266396],\n",
              " [0.3072289156620337],\n",
              " [0.26104417670630314],\n",
              " [0.2690763052203432],\n",
              " [0.21887550200759262],\n",
              " [0.1927710843369623],\n",
              " [0.1757028112446271],\n",
              " [0.15461847389527184],\n",
              " [0.12248995983911147],\n",
              " [0.08835341365444106],\n",
              " [0.03514056224892542],\n",
              " [0.084337349397421],\n",
              " [0.026104417670630313],\n",
              " [0.11546184738932638],\n",
              " [0.1495983935739968],\n",
              " [0.13253012048166157],\n",
              " [0.14257028112421172],\n",
              " [0.1335341365459166],\n",
              " [0.13152610441740656],\n",
              " [0.0923694779114611],\n",
              " [0.11244979919656134],\n",
              " [0.1164658634535814],\n",
              " [0.1506024096382518],\n",
              " [0.168674698794842],\n",
              " [0.14859437750974178],\n",
              " [0.1586345381522919],\n",
              " [0.16164658634505694],\n",
              " [0.14257028112421172],\n",
              " [0.15662650602378186],\n",
              " [0.15662650602378186],\n",
              " [0.20481927710802245],\n",
              " [0.17871485943739213],\n",
              " [0.16164658634505694],\n",
              " [0.17369477911611708],\n",
              " [0.17369477911611708],\n",
              " [0.16365461847356697],\n",
              " [0.17369477911611708],\n",
              " [0.17871485943739213],\n",
              " [0.17670682730888213],\n",
              " [0.14658634538123175],\n",
              " [0.16064257028080192],\n",
              " [0.15261044176676183],\n",
              " [0.15261044176676183],\n",
              " [0.14457831325272172],\n",
              " [0.1345381526101716],\n",
              " [0.14759036144548676],\n",
              " [0.13654618473868163],\n",
              " [0.1335341365459166],\n",
              " [0.15261044176676183],\n",
              " [0.18273092369441218],\n",
              " [0.17670682730888213],\n",
              " [0.1757028112446271],\n",
              " [0.15160642570250682],\n",
              " [0.15361445783101685],\n",
              " [0.16164658634505694],\n",
              " [0.1746987951803721],\n",
              " [0.1847389558229222],\n",
              " [0.19076305220845227],\n",
              " [0.2008032128510024],\n",
              " [0.20481927710802245],\n",
              " [0.2670682730918332],\n",
              " [0.2690763052203432],\n",
              " [0.2871485943769334],\n",
              " [0.2751004016058733],\n",
              " [0.2871485943769334],\n",
              " [0.28514056224842343],\n",
              " [0.2630522088348131],\n",
              " [0.22289156626461265],\n",
              " [0.1746987951803721],\n",
              " [0.21887550200759262],\n",
              " [0.22088353413610265],\n",
              " [0.22289156626461265],\n",
              " [0.2349397590356728],\n",
              " [0.2168674698790826],\n",
              " [0.20481927710802245],\n",
              " [0.2349397590356728],\n",
              " [0.21485943775057256],\n",
              " [0.2429718875497129],\n",
              " [0.22489959839312268],\n",
              " [0.2329317269071628],\n",
              " [0.22891566265014274],\n",
              " [0.2349397590356728],\n",
              " [0.24899598393524297],\n",
              " [0.2771084337343833],\n",
              " [0.24497991967822294],\n",
              " [0.23694779116418282],\n",
              " [0.2329317269071628],\n",
              " [0.23092369477865277],\n",
              " [0.24497991967822294],\n",
              " [0.25301204819226303],\n",
              " [0.27108433734885323],\n",
              " [0.25301204819226303],\n",
              " [0.26506024096332315],\n",
              " [0.26104417670630314],\n",
              " [0.2831325301199134],\n",
              " [0.27108433734885323],\n",
              " [0.2590361445777931],\n",
              " [0.26104417670630314],\n",
              " [0.28915662650544344],\n",
              " [0.3493975903607442],\n",
              " [0.35742971887478425],\n",
              " [0.35742971887478425],\n",
              " [0.335341365461174],\n",
              " [0.31325301204756373],\n",
              " [0.3232931726901139],\n",
              " [0.31526104417607376],\n",
              " [0.337349397589684],\n",
              " [0.32730923694713393],\n",
              " [0.33333333333266396],\n",
              " [0.3413654618467041],\n",
              " [0.35742971887478425],\n",
              " [0.3514056224892542],\n",
              " [0.337349397589684],\n",
              " [0.34538152610372413],\n",
              " [0.33333333333266396],\n",
              " [0.28514056224842343],\n",
              " [0.2951807228909735],\n",
              " [0.2991967871479936],\n",
              " [0.30522088353352367],\n",
              " [0.30522088353352367],\n",
              " [0.28915662650544344],\n",
              " [0.28514056224842343],\n",
              " [0.2570281124492831],\n",
              " [0.26104417670630314],\n",
              " [0.26506024096332315],\n",
              " [0.30522088353352367],\n",
              " [0.28915662650544344],\n",
              " [0.3072289156620337],\n",
              " [0.3514056224892542],\n",
              " [0.34538152610372413],\n",
              " [0.3614457831318043],\n",
              " [0.35742971887478425],\n",
              " [0.3855421686739246],\n",
              " [0.3975903614449848],\n",
              " [0.3975903614449848],\n",
              " [0.3674698795173344],\n",
              " [0.36345381526031434],\n",
              " [0.3614457831318043],\n",
              " [0.3413654618467041],\n",
              " [0.3493975903607442],\n",
              " [0.33333333333266396],\n",
              " [0.335341365461174],\n",
              " [0.3413654618467041],\n",
              " [0.3413654618467041],\n",
              " [0.3514056224892542],\n",
              " [0.35742971887478425],\n",
              " [0.3755020080313745],\n",
              " [0.37148594377435445],\n",
              " [0.3855421686739246],\n",
              " [0.39558232931647475],\n",
              " [0.39558232931647475],\n",
              " [0.3775100401598845],\n",
              " [0.3674698795173344],\n",
              " [0.3775100401598845],\n",
              " [0.39558232931647475],\n",
              " [0.39558232931647475],\n",
              " [0.3795180722883945],\n",
              " [0.38152610441690454],\n",
              " [0.3855421686739246],\n",
              " [0.3734939759028645],\n",
              " [0.35742971887478425],\n",
              " [0.33935742971819405],\n",
              " [0.30923694779054367],\n",
              " [0.3253012048186239],\n",
              " [0.35341365461776425],\n",
              " [0.34738955823223416],\n",
              " [0.3835341365454146],\n",
              " [0.3795180722883945],\n",
              " [0.38152610441690454],\n",
              " [0.38152610441690454],\n",
              " [0.4036144578305148],\n",
              " [0.3975903614449848],\n",
              " [0.4417670682722053],\n",
              " [0.504016064256016],\n",
              " [0.49196787148495585],\n",
              " [0.47389558232836565],\n",
              " [0.4698795180713456],\n",
              " [0.4718875501998556],\n",
              " [0.5281124497981363],\n",
              " [0.5321285140551564],\n",
              " [0.5100401606415461],\n",
              " [0.5381526104406864],\n",
              " [0.5421686746977065],\n",
              " [0.5120481927700561],\n",
              " [0.5341365461836663],\n",
              " [0.5682730923683368],\n",
              " [0.5722891566253568],\n",
              " [0.6084337349385373],\n",
              " [0.6365461847376777],\n",
              " [0.6124497991955573],\n",
              " [0.6566265060227778],\n",
              " [0.6365461847376777],\n",
              " [0.6465863453802277],\n",
              " [0.6546184738942679],\n",
              " [0.6546184738942679],\n",
              " [0.6546184738942679],\n",
              " [0.6445783132517177],\n",
              " [0.6385542168661876],\n",
              " [0.6385542168661876],\n",
              " [0.6244979919666175],\n",
              " [0.6566265060227778],\n",
              " [0.7349397590346688],\n",
              " [0.753012048191259],\n",
              " [0.7449799196772189],\n",
              " [0.7991967871469896],\n",
              " [0.8393574297171901],\n",
              " [0.8574297188737803],\n",
              " [0.8232931726891098],\n",
              " [0.83734939758868],\n",
              " [0.9558232931707714],\n",
              " [0.9999999999979919],\n",
              " [0.9919678714839518],\n",
              " [0.9738955823273616],\n",
              " [0.9738955823273616],\n",
              " [0.9397590361426912],\n",
              " [0.8795180722873905],\n",
              " [0.919678714857591],\n",
              " [0.9236947791146111],\n",
              " [0.9417670682712013],\n",
              " [0.915662650600571],\n",
              " [0.9678714859418316],\n",
              " [0.913654618472061],\n",
              " [0.8915662650584506],\n",
              " [0.8534136546167602],\n",
              " [0.8192771084320898],\n",
              " [0.8393574297171901],\n",
              " [0.8674698795163304],\n",
              " [0.8714859437733504],\n",
              " [0.8293172690746399],\n",
              " [0.8493975903597402],\n",
              " [0.8393574297171901],\n",
              " [0.8333333333316599],\n",
              " [0.8112449799180497],\n",
              " [0.8634538152593103],\n",
              " [0.8775100401588805],\n",
              " [0.8433734939742101],\n",
              " [0.8212851405605999],\n",
              " [0.83132530120315],\n",
              " [0.8232931726891098],\n",
              " [0.8192771084320898],\n",
              " [0.8192771084320898],\n",
              " [0.8855421686729206],\n",
              " [0.8293172690746399],\n",
              " [0.8514056224882501],\n",
              " [0.8594377510022903],\n",
              " [0.8273092369461299],\n",
              " [0.8212851405605999],\n",
              " [0.8192771084320898],\n",
              " [0.8072289156610296],\n",
              " [0.7971887550184795],\n",
              " [0.8192771084320898],\n",
              " [0.83534136546017],\n",
              " [0.8152610441750697],\n",
              " [0.83534136546017],\n",
              " [0.8253012048176198],\n",
              " [0.83734939758868],\n",
              " [0.8172690763035798],\n",
              " [0.8192771084320898],\n",
              " [0.8152610441750697],\n",
              " [0.7991967871469896],\n",
              " [0.8032128514040096],\n",
              " [0.8092369477895397],\n",
              " [0.8112449799180497],\n",
              " [0.8232931726891098],\n",
              " [0.8072289156610296],\n",
              " [0.83734939758868],\n",
              " [0.8755020080303705],\n",
              " [0.8875502008014307],\n",
              " [0.8995983935724907],\n",
              " [0.8915662650584506],\n",
              " [0.8734939759018604],\n",
              " [0.8514056224882501],\n",
              " [0.8433734939742101],\n",
              " [0.8594377510022903],\n",
              " [0.8594377510022903],\n",
              " [0.8614457831308003],\n",
              " [0.8574297188737803],\n",
              " [0.8453815261027201],\n",
              " [0.8574297188737803],\n",
              " [0.83132530120315],\n",
              " [0.8273092369461299],\n",
              " [0.83534136546017],\n",
              " [0.8493975903597402],\n",
              " [0.83734939758868],\n",
              " [0.8212851405605999],\n",
              " [0.8132530120465598],\n",
              " [0.8092369477895397],\n",
              " [0.8132530120465598],\n",
              " [0.83132530120315],\n",
              " [0.8253012048176198],\n",
              " [0.8172690763035798],\n",
              " [0.8433734939742101],\n",
              " [0.8032128514040096],\n",
              " [0.7791164658618893],\n",
              " [0.7489959839342389],\n",
              " [0.7811244979903993],\n",
              " [0.7710843373478492],\n",
              " [0.7710843373478492],\n",
              " [0.7690763052193392],\n",
              " [0.7811244979903993],\n",
              " [0.7730923694763593],\n",
              " [0.7771084337333792],\n",
              " [0.7751004016048693],\n",
              " [0.7710843373478492],\n",
              " [0.7811244979903993],\n",
              " [0.7891566265044394],\n",
              " [0.7911646586329495],\n",
              " [0.7951807228899695],\n",
              " [0.83534136546017],\n",
              " [0.8232931726891098],\n",
              " [0.8172690763035798],\n",
              " [0.8172690763035798],\n",
              " [0.8012048192754996],\n",
              " [0.7991967871469896],\n",
              " [0.7991967871469896],\n",
              " [0.7891566265044394],\n",
              " [0.7971887550184795],\n",
              " [0.8152610441750697],\n",
              " [0.7971887550184795],\n",
              " [0.7891566265044394],\n",
              " [0.7771084337333792],\n",
              " [0.7791164658618893],\n",
              " [0.7811244979903993],\n",
              " [0.8032128514040096],\n",
              " [0.8112449799180497],\n",
              " [0.8172690763035798],\n",
              " [0.7991967871469896],\n",
              " [0.7931726907614595],\n",
              " [0.7811244979903993],\n",
              " [0.7791164658618893],\n",
              " [0.7871485943759294],\n",
              " [0.8032128514040096],\n",
              " [0.7951807228899695],\n",
              " [0.7771084337333792],\n",
              " [0.7670682730908291],\n",
              " [0.7730923694763593],\n",
              " [0.7751004016048693],\n",
              " [0.7690763052193392],\n",
              " [0.7911646586329495],\n",
              " [0.7751004016048693],\n",
              " [0.759036144576789],\n",
              " [0.759036144576789],\n",
              " [0.7489959839342389],\n",
              " [0.7730923694763593],\n",
              " [0.7650602409623192],\n",
              " [0.755020080319769],\n",
              " [0.7489959839342389],\n",
              " [0.7630522088338091],\n",
              " [0.759036144576789],\n",
              " [0.7489959839342389],\n",
              " [0.7650602409623192],\n",
              " [0.8072289156610296],\n",
              " [0.83734939758868],\n",
              " [0.8212851405605999],\n",
              " [0.8092369477895397],\n",
              " [0.8092369477895397],\n",
              " [0.7831325301189094],\n",
              " [0.7489959839342389],\n",
              " [0.7188755020065886],\n",
              " [0.6666666666653279],\n",
              " [0.6626506024083079],\n",
              " [0.6566265060227778],\n",
              " [0.6405622489946976],\n",
              " [0.6325301204806576],\n",
              " [0.6445783132517177],\n",
              " [0.6907630522074483],\n",
              " [0.6927710843359582],\n",
              " [0.670682730922348],\n",
              " [0.664658634536818],\n",
              " [0.670682730922348],\n",
              " [0.7128514056210585],\n",
              " [0.7148594377495685],\n",
              " [0.6987951807214884],\n",
              " [0.7108433734925484],\n",
              " [0.7248995983921187],\n",
              " [0.7008032128499984],\n",
              " [0.7048192771070184],\n",
              " [0.6847389558219182],\n",
              " [0.6847389558219182],\n",
              " [0.7048192771070184],\n",
              " [0.7108433734925484],\n",
              " [0.7188755020065886],\n",
              " [0.7008032128499984],\n",
              " [0.7228915662636086],\n",
              " [0.7269076305206287],\n",
              " [0.7248995983921187],\n",
              " [0.7329317269061587],\n",
              " [0.7048192771070184],\n",
              " [0.6606425702797979],\n",
              " [0.6606425702797979],\n",
              " [0.6425702811232077],\n",
              " [0.6224899598381074],\n",
              " [0.6044176706815172],\n",
              " [0.6104417670670473],\n",
              " [0.6084337349385373],\n",
              " [0.5582329317257867],\n",
              " [0.5542168674687666],\n",
              " [0.5662650602398268],\n",
              " [0.580321285139397],\n",
              " [0.5823293172679069],\n",
              " [0.590361445781947],\n",
              " [0.584337349396417],\n",
              " [0.5823293172679069],\n",
              " [0.586345381524927],\n",
              " [0.5823293172679069],\n",
              " [0.6004016064244971],\n",
              " [0.580321285139397],\n",
              " [0.5923694779104571],\n",
              " [0.5742971887538668],\n",
              " [0.5763052208823769],\n",
              " [0.6084337349385373],\n",
              " [0.586345381524927],\n",
              " [0.590361445781947],\n",
              " [0.5823293172679069],\n",
              " [0.590361445781947],\n",
              " [0.5883534136534371],\n",
              " [0.5823293172679069],\n",
              " [0.5763052208823769],\n",
              " [0.590361445781947],\n",
              " [0.6064257028100273],\n",
              " [0.6044176706815172],\n",
              " [0.5923694779104571],\n",
              " [0.5823293172679069],\n",
              " [0.6024096385530072],\n",
              " [0.6767068273078781],\n",
              " [0.6847389558219182],\n",
              " [0.674698795179368],\n",
              " [0.6526104417657578],\n",
              " [0.6244979919666175],\n",
              " [0.6244979919666175],\n",
              " [0.6044176706815172],\n",
              " [0.6666666666653279],\n",
              " [0.6947791164644683],\n",
              " [0.6907630522074483],\n",
              " [0.7048192771070184],\n",
              " [0.7269076305206287],\n",
              " [0.7269076305206287],\n",
              " [0.7429718875487089],\n",
              " [0.7168674698780786],\n",
              " [0.7148594377495685],\n",
              " [0.7188755020065886],\n",
              " [0.7309236947776487],\n",
              " [0.7349397590346688],\n",
              " [0.7389558232916889],\n",
              " [0.7208835341350986],\n",
              " [0.7409638554201988],\n",
              " [0.7670682730908291],\n",
              " [0.7771084337333792],\n",
              " [0.7891566265044394],\n",
              " [0.7831325301189094],\n",
              " [0.7851405622474193],\n",
              " [0.755020080319769],\n",
              " [0.7449799196772189],\n",
              " [0.751004016062749],\n",
              " [0.753012048191259],\n",
              " [0.7269076305206287],\n",
              " [0.7168674698780786],\n",
              " [0.7449799196772189],\n",
              " [0.7389558232916889],\n",
              " [0.7570281124482791],\n",
              " [0.7570281124482791],\n",
              " [0.7369477911631788],\n",
              " [0.7248995983921187],\n",
              " [0.7289156626491388],\n",
              " [0.7188755020065886],\n",
              " [0.7048192771070184],\n",
              " [0.7088353413640385],\n",
              " [0.6907630522074483],\n",
              " [0.6807228915648982],\n",
              " [0.6586345381512879],\n",
              " [0.6445783132517177],\n",
              " [0.6044176706815172],\n",
              " [0.6445783132517177],\n",
              " [0.6445783132517177],\n",
              " [0.6586345381512879],\n",
              " [0.6385542168661876],\n",
              " [0.6485943775087377],\n",
              " [0.6726907630508581],\n",
              " [0.6867469879504282],\n",
              " [0.6767068273078781],\n",
              " [0.6526104417657578],\n",
              " [0.6526104417657578],\n",
              " [0.674698795179368],\n",
              " [0.6787148594363881],\n",
              " [0.664658634536818],\n",
              " [0.6626506024083079],\n",
              " [0.6465863453802277],\n",
              " [0.6385542168661876],\n",
              " [0.6084337349385373],\n",
              " [0.6164658634525774],\n",
              " [0.6204819277095974],\n",
              " [0.6124497991955573],\n",
              " [0.6365461847376777],\n",
              " [0.6084337349385373]]"
            ]
          },
          "metadata": {},
          "execution_count": 31
        }
      ]
    },
    {
      "cell_type": "code",
      "execution_count": null,
      "metadata": {
        "id": "JDB03OaQ81qU"
      },
      "outputs": [],
      "source": [
        "data= dfy"
      ]
    },
    {
      "cell_type": "code",
      "execution_count": null,
      "metadata": {
        "colab": {
          "base_uri": "https://localhost:8080/",
          "height": 654
        },
        "id": "gAONrEW_ryjC",
        "outputId": "b96249cd-7076-4954-9680-98eaa219df5a"
      },
      "outputs": [
        {
          "output_type": "display_data",
          "data": {
            "text/plain": [
              "<Figure size 720x720 with 4 Axes>"
            ],
            "image/png": "[encoded data removed]"
          },
          "metadata": {
            "needs_background": "light"
          }
        }
      ],
      "source": [
        "decomposition = sm.tsa.seasonal_decompose(data['Close'], model='additive', period=1)\n",
        "fig = decomposition.plot()\n",
        "fig.set_size_inches(10,10)\n",
        "plt.show()"
      ]
    },
    {
      "cell_type": "code",
      "execution_count": null,
      "metadata": {
        "id": "1MkOkAcwsEqJ"
      },
      "outputs": [],
      "source": [
        "train_data, test_data = train_test_split(data, test_size=0.30, shuffle=False)"
      ]
    },
    {
      "cell_type": "code",
      "execution_count": null,
      "metadata": {
        "colab": {
          "base_uri": "https://localhost:8080/",
          "height": 742
        },
        "id": "ZFhUDAfGsQaN",
        "outputId": "c70d370b-4144-487e-b42f-93cf3ae06d97"
      },
      "outputs": [
        {
          "output_type": "stream",
          "name": "stderr",
          "text": [
            "/usr/local/lib/python3.7/dist-packages/statsmodels/graphics/tsaplots.py:353: FutureWarning: The default method 'yw' can produce PACF values outside of the [-1,1] interval. After 0.13, the default will change tounadjusted Yule-Walker ('ywm'). You can use this method now by setting method='ywm'.\n",
            "  FutureWarning,\n"
          ]
        },
        {
          "output_type": "execute_result",
          "data": {
            "text/plain": [
              "<Figure size 720x360 with 2 Axes>"
            ],
            "image/png": "[encoded data removed]"
          },
          "metadata": {},
          "execution_count": 35
        },
        {
          "output_type": "display_data",
          "data": {
            "text/plain": [
              "<Figure size 720x360 with 2 Axes>"
            ],
            "image/png": "[encoded data removed]"
          },
          "metadata": {
            "needs_background": "light"
          }
        }
      ],
      "source": [
        "fig, ax = plt.subplots(1,2, figsize=(10,5))\n",
        "fig.suptitle(\"Raw Data\")\n",
        "sm.graphics.tsa.plot_acf(train_data.values.squeeze(), lags=30, ax=ax[0])\n",
        "sm.graphics.tsa.plot_pacf(train_data.values.squeeze(), lags=30, ax=ax[1])"
      ]
    },
    {
      "cell_type": "code",
      "execution_count": null,
      "metadata": {
        "colab": {
          "base_uri": "https://localhost:8080/"
        },
        "id": "PFP4WWtj0dDJ",
        "outputId": "a3226784-5cad-4441-bea7-71d37ac5c182"
      },
      "outputs": [
        {
          "output_type": "stream",
          "name": "stdout",
          "text": [
            "###### Raw Data ######\n",
            "               Close\n",
            "Date                \n",
            "2019-03-04  0.073293\n",
            "2019-03-05  0.061245\n",
            "2019-03-06  0.056225\n",
            "2019-03-07  0.065261\n",
            "2019-03-08  0.052209\n",
            "...              ...\n",
            "2021-04-01  0.837349\n",
            "2021-04-02  0.875502\n",
            "2021-04-05  0.887550\n",
            "2021-04-06  0.899598\n",
            "2021-04-07  0.891566\n",
            "\n",
            "[520 rows x 1 columns]\n",
            "### Differenced Data ###\n",
            "Date\n",
            "2019-03-05   -0.012048\n",
            "2019-03-06   -0.005020\n",
            "2019-03-07    0.009036\n",
            "2019-03-08   -0.013052\n",
            "2019-03-11   -0.003012\n",
            "                ...   \n",
            "2021-04-01    0.030120\n",
            "2021-04-02    0.038153\n",
            "2021-04-05    0.012048\n",
            "2021-04-06    0.012048\n",
            "2021-04-07   -0.008032\n",
            "Name: Close, Length: 519, dtype: float64\n"
          ]
        }
      ],
      "source": [
        "# Differencing \n",
        "\n",
        "diff_train_data = train_data.copy()\n",
        "diff_train_data = diff_train_data['Close'].diff()\n",
        "diff_train_data = diff_train_data.dropna()\n",
        "print('###### Raw Data ######')\n",
        "print(train_data)\n",
        "print('### Differenced Data ###')\n",
        "print(diff_train_data)"
      ]
    },
    {
      "cell_type": "code",
      "execution_count": null,
      "metadata": {
        "colab": {
          "base_uri": "https://localhost:8080/",
          "height": 479
        },
        "id": "ywgNh6dK0grE",
        "outputId": "485be9d7-b53c-4f36-86f3-e57792d67b4e"
      },
      "outputs": [
        {
          "output_type": "display_data",
          "data": {
            "text/plain": [
              "<Figure size 864x576 with 2 Axes>"
            ],
            "image/png": "[encoded data removed]"
          },
          "metadata": {
            "needs_background": "light"
          }
        }
      ],
      "source": [
        "#Differenced data plot\n",
        "plt.figure(figsize=(12,8))\n",
        "plt.subplot(211)\n",
        "plt.plot(train_data['Close'])\n",
        "plt.legend(['Raw Data (Nonstationary)'])\n",
        "plt.subplot(212)\n",
        "plt.plot(diff_train_data, 'orange')\n",
        "plt.legend(['Differenced Data (Stationary)'])\n",
        "plt.show()"
      ]
    },
    {
      "cell_type": "code",
      "execution_count": null,
      "metadata": {
        "colab": {
          "base_uri": "https://localhost:8080/",
          "height": 407
        },
        "id": "of4tnQMd28CM",
        "outputId": "9db1a382-39bf-477a-db6b-1fb52f28f126"
      },
      "outputs": [
        {
          "output_type": "stream",
          "name": "stderr",
          "text": [
            "/usr/local/lib/python3.7/dist-packages/statsmodels/graphics/tsaplots.py:353: FutureWarning: The default method 'yw' can produce PACF values outside of the [-1,1] interval. After 0.13, the default will change tounadjusted Yule-Walker ('ywm'). You can use this method now by setting method='ywm'.\n",
            "  FutureWarning,\n"
          ]
        },
        {
          "output_type": "display_data",
          "data": {
            "text/plain": [
              "<Figure size 720x360 with 2 Axes>"
            ],
            "image/png": "[encoded data removed]"
          },
          "metadata": {
            "needs_background": "light"
          }
        }
      ],
      "source": [
        "fig, ax = plt.subplots(1,2,figsize=(10,5))\n",
        "fig.suptitle('Differenced Data')\n",
        "sm.graphics.tsa.plot_acf(diff_train_data.values.squeeze(), lags=30, ax=ax[0])\n",
        "sm.graphics.tsa.plot_pacf(diff_train_data.values.squeeze(), lags=30, ax=ax[1]);"
      ]
    },
    {
      "cell_type": "code",
      "execution_count": null,
      "metadata": {
        "colab": {
          "base_uri": "https://localhost:8080/"
        },
        "id": "lDkb5fpuAoq2",
        "outputId": "5216e372-40f2-48b5-8c36-fca02fd0b7d1"
      },
      "outputs": [
        {
          "output_type": "stream",
          "name": "stdout",
          "text": [
            " ARIMA(0,1,0)(0,1,0)[12]             : AIC=-2110.491, Time=0.09 sec\n",
            " ARIMA(0,1,0)(0,1,1)[12]             : AIC=inf, Time=1.34 sec\n",
            " ARIMA(0,1,0)(0,1,2)[12]             : AIC=inf, Time=6.08 sec\n",
            " ARIMA(0,1,0)(0,1,3)[12]             : AIC=inf, Time=9.34 sec\n",
            " ARIMA(0,1,0)(1,1,0)[12]             : AIC=-2291.372, Time=0.33 sec\n",
            " ARIMA(0,1,0)(1,1,1)[12]             : AIC=inf, Time=2.57 sec\n",
            " ARIMA(0,1,0)(1,1,2)[12]             : AIC=inf, Time=2.84 sec\n",
            " ARIMA(0,1,0)(1,1,3)[12]             : AIC=inf, Time=18.99 sec\n",
            " ARIMA(0,1,0)(2,1,0)[12]             : AIC=-2351.202, Time=1.79 sec\n",
            " ARIMA(0,1,0)(2,1,1)[12]             : AIC=inf, Time=4.84 sec\n",
            " ARIMA(0,1,0)(2,1,2)[12]             : AIC=inf, Time=5.17 sec\n",
            " ARIMA(0,1,0)(2,1,3)[12]             : AIC=inf, Time=11.71 sec\n",
            " ARIMA(0,1,0)(3,1,0)[12]             : AIC=-2362.974, Time=2.35 sec\n",
            " ARIMA(0,1,0)(3,1,1)[12]             : AIC=inf, Time=8.14 sec\n",
            " ARIMA(0,1,0)(3,1,2)[12]             : AIC=inf, Time=11.57 sec\n",
            " ARIMA(0,1,1)(0,1,0)[12]             : AIC=-2112.401, Time=0.07 sec\n",
            " ARIMA(0,1,1)(0,1,1)[12]             : AIC=inf, Time=2.42 sec\n",
            " ARIMA(0,1,1)(0,1,2)[12]             : AIC=inf, Time=5.81 sec\n",
            " ARIMA(0,1,1)(0,1,3)[12]             : AIC=inf, Time=10.60 sec\n",
            " ARIMA(0,1,1)(1,1,0)[12]             : AIC=-2290.127, Time=0.72 sec\n",
            " ARIMA(0,1,1)(1,1,1)[12]             : AIC=inf, Time=3.96 sec\n",
            " ARIMA(0,1,1)(1,1,2)[12]             : AIC=inf, Time=10.14 sec\n",
            " ARIMA(0,1,1)(1,1,3)[12]             : AIC=inf, Time=20.63 sec\n",
            " ARIMA(0,1,1)(2,1,0)[12]             : AIC=-2349.231, Time=2.05 sec\n",
            " ARIMA(0,1,1)(2,1,1)[12]             : AIC=inf, Time=5.73 sec\n",
            " ARIMA(0,1,1)(2,1,2)[12]             : AIC=inf, Time=9.07 sec\n",
            " ARIMA(0,1,1)(3,1,0)[12]             : AIC=-2360.977, Time=3.50 sec\n",
            " ARIMA(0,1,1)(3,1,1)[12]             : AIC=inf, Time=8.87 sec\n",
            " ARIMA(0,1,2)(0,1,0)[12]             : AIC=-2111.030, Time=0.18 sec\n",
            " ARIMA(0,1,2)(0,1,1)[12]             : AIC=inf, Time=3.73 sec\n",
            " ARIMA(0,1,2)(0,1,2)[12]             : AIC=inf, Time=6.34 sec\n",
            " ARIMA(0,1,2)(0,1,3)[12]             : AIC=inf, Time=19.65 sec\n",
            " ARIMA(0,1,2)(1,1,0)[12]             : AIC=-2291.065, Time=0.77 sec\n",
            " ARIMA(0,1,2)(1,1,1)[12]             : AIC=inf, Time=3.82 sec\n",
            " ARIMA(0,1,2)(1,1,2)[12]             : AIC=inf, Time=9.33 sec\n",
            " ARIMA(0,1,2)(2,1,0)[12]             : AIC=-2349.995, Time=1.79 sec\n",
            " ARIMA(0,1,2)(2,1,1)[12]             : AIC=inf, Time=8.66 sec\n",
            " ARIMA(0,1,2)(3,1,0)[12]             : AIC=-2361.473, Time=4.50 sec\n",
            " ARIMA(0,1,3)(0,1,0)[12]             : AIC=-2109.678, Time=0.53 sec\n",
            " ARIMA(0,1,3)(0,1,1)[12]             : AIC=inf, Time=3.72 sec\n",
            " ARIMA(0,1,3)(0,1,2)[12]             : AIC=inf, Time=9.41 sec\n",
            " ARIMA(0,1,3)(1,1,0)[12]             : AIC=-2289.100, Time=1.50 sec\n",
            " ARIMA(0,1,3)(1,1,1)[12]             : AIC=inf, Time=4.47 sec\n",
            " ARIMA(0,1,3)(2,1,0)[12]             : AIC=-2348.014, Time=1.82 sec\n",
            " ARIMA(1,1,0)(0,1,0)[12]             : AIC=-2112.612, Time=0.08 sec\n",
            " ARIMA(1,1,0)(0,1,1)[12]             : AIC=inf, Time=1.79 sec\n",
            " ARIMA(1,1,0)(0,1,2)[12]             : AIC=inf, Time=5.84 sec\n",
            " ARIMA(1,1,0)(0,1,3)[12]             : AIC=inf, Time=12.86 sec\n",
            " ARIMA(1,1,0)(1,1,0)[12]             : AIC=-2290.224, Time=0.45 sec\n",
            " ARIMA(1,1,0)(1,1,1)[12]             : AIC=inf, Time=2.15 sec\n",
            " ARIMA(1,1,0)(1,1,2)[12]             : AIC=inf, Time=7.14 sec\n",
            " ARIMA(1,1,0)(1,1,3)[12]             : AIC=inf, Time=14.80 sec\n",
            " ARIMA(1,1,0)(2,1,0)[12]             : AIC=-2349.234, Time=1.17 sec\n",
            " ARIMA(1,1,0)(2,1,1)[12]             : AIC=inf, Time=6.19 sec\n",
            " ARIMA(1,1,0)(2,1,2)[12]             : AIC=inf, Time=7.63 sec\n",
            " ARIMA(1,1,0)(3,1,0)[12]             : AIC=-2360.978, Time=2.85 sec\n",
            " ARIMA(1,1,0)(3,1,1)[12]             : AIC=inf, Time=8.68 sec\n",
            " ARIMA(1,1,1)(0,1,0)[12]             : AIC=-2110.674, Time=0.23 sec\n",
            " ARIMA(1,1,1)(0,1,1)[12]             : AIC=inf, Time=3.13 sec\n",
            " ARIMA(1,1,1)(0,1,2)[12]             : AIC=inf, Time=7.14 sec\n",
            " ARIMA(1,1,1)(0,1,3)[12]             : AIC=inf, Time=14.59 sec\n",
            " ARIMA(1,1,1)(1,1,0)[12]             : AIC=-2289.141, Time=0.90 sec\n",
            " ARIMA(1,1,1)(1,1,1)[12]             : AIC=inf, Time=3.58 sec\n",
            " ARIMA(1,1,1)(1,1,2)[12]             : AIC=inf, Time=8.95 sec\n",
            " ARIMA(1,1,1)(2,1,0)[12]             : AIC=-2347.206, Time=1.54 sec\n",
            " ARIMA(1,1,1)(2,1,1)[12]             : AIC=inf, Time=6.54 sec\n",
            " ARIMA(1,1,1)(3,1,0)[12]             : AIC=-2359.006, Time=3.82 sec\n",
            " ARIMA(1,1,2)(0,1,0)[12]             : AIC=-2109.645, Time=0.58 sec\n",
            " ARIMA(1,1,2)(0,1,1)[12]             : AIC=inf, Time=3.17 sec\n",
            " ARIMA(1,1,2)(0,1,2)[12]             : AIC=inf, Time=8.85 sec\n",
            " ARIMA(1,1,2)(1,1,0)[12]             : AIC=-2289.075, Time=1.08 sec\n",
            " ARIMA(1,1,2)(1,1,1)[12]             : AIC=inf, Time=4.53 sec\n",
            " ARIMA(1,1,2)(2,1,0)[12]             : AIC=-2347.994, Time=2.13 sec\n",
            " ARIMA(1,1,3)(0,1,0)[12]             : AIC=inf, Time=1.18 sec\n",
            " ARIMA(1,1,3)(0,1,1)[12]             : AIC=inf, Time=4.18 sec\n",
            " ARIMA(1,1,3)(1,1,0)[12]             : AIC=-2287.178, Time=1.46 sec\n",
            " ARIMA(2,1,0)(0,1,0)[12]             : AIC=-2110.775, Time=0.34 sec\n",
            " ARIMA(2,1,0)(0,1,1)[12]             : AIC=inf, Time=3.91 sec\n",
            " ARIMA(2,1,0)(0,1,2)[12]             : AIC=inf, Time=7.42 sec\n",
            " ARIMA(2,1,0)(0,1,3)[12]             : AIC=inf, Time=16.34 sec\n",
            " ARIMA(2,1,0)(1,1,0)[12]             : AIC=-2290.903, Time=0.82 sec\n",
            " ARIMA(2,1,0)(1,1,1)[12]             : AIC=inf, Time=3.75 sec\n",
            " ARIMA(2,1,0)(1,1,2)[12]             : AIC=inf, Time=7.61 sec\n",
            " ARIMA(2,1,0)(2,1,0)[12]             : AIC=-2349.824, Time=3.43 sec\n",
            " ARIMA(2,1,0)(2,1,1)[12]             : AIC=inf, Time=7.36 sec\n",
            " ARIMA(2,1,0)(3,1,0)[12]             : AIC=-2361.373, Time=4.41 sec\n",
            " ARIMA(2,1,1)(0,1,0)[12]             : AIC=-2109.386, Time=0.80 sec\n",
            " ARIMA(2,1,1)(0,1,1)[12]             : AIC=inf, Time=3.28 sec\n",
            " ARIMA(2,1,1)(0,1,2)[12]             : AIC=inf, Time=9.84 sec\n",
            " ARIMA(2,1,1)(1,1,0)[12]             : AIC=-2288.918, Time=0.98 sec\n",
            " ARIMA(2,1,1)(1,1,1)[12]             : AIC=inf, Time=4.48 sec\n",
            " ARIMA(2,1,1)(2,1,0)[12]             : AIC=-2347.824, Time=2.69 sec\n",
            " ARIMA(2,1,2)(0,1,0)[12]             : AIC=-2107.295, Time=0.62 sec\n",
            " ARIMA(2,1,2)(0,1,1)[12]             : AIC=inf, Time=3.40 sec\n",
            " ARIMA(2,1,2)(1,1,0)[12]             : AIC=-2303.476, Time=2.69 sec\n",
            " ARIMA(2,1,3)(0,1,0)[12]             : AIC=-2152.586, Time=1.35 sec\n",
            " ARIMA(3,1,0)(0,1,0)[12]             : AIC=-2110.306, Time=0.21 sec\n",
            " ARIMA(3,1,0)(0,1,1)[12]             : AIC=inf, Time=3.06 sec\n",
            " ARIMA(3,1,0)(0,1,2)[12]             : AIC=inf, Time=8.34 sec\n",
            " ARIMA(3,1,0)(1,1,0)[12]             : AIC=-2288.975, Time=0.79 sec\n",
            " ARIMA(3,1,0)(1,1,1)[12]             : AIC=inf, Time=3.87 sec\n",
            " ARIMA(3,1,0)(2,1,0)[12]             : AIC=-2347.824, Time=3.91 sec\n",
            " ARIMA(3,1,1)(0,1,0)[12]             : AIC=inf, Time=1.09 sec\n",
            " ARIMA(3,1,1)(0,1,1)[12]             : AIC=inf, Time=4.47 sec\n",
            " ARIMA(3,1,1)(1,1,0)[12]             : AIC=-2286.970, Time=1.04 sec\n",
            " ARIMA(3,1,2)(0,1,0)[12]             : AIC=inf, Time=1.38 sec\n",
            "\n",
            "Best model:  ARIMA(0,1,0)(3,1,0)[12]          \n",
            "Total fit time: 514.279 seconds\n"
          ]
        }
      ],
      "source": [
        "# 3.4.3 Diagnosis Check- auto_arima\n",
        "\n",
        "auto_arima_model = auto_arima(train_data, start_p=1, start_q=1,\n",
        "                              max_p=3, max_q=3, m=12, seasonal=True,\n",
        "                              d=1, D=1,\n",
        "                              max_P=3, max_Q=3,\n",
        "                              trace=True,\n",
        "                              error_action='ignore',\n",
        "                              suppress_warnings=True, \n",
        "                              stepwise=False)"
      ]
    },
    {
      "cell_type": "code",
      "execution_count": null,
      "metadata": {
        "colab": {
          "base_uri": "https://localhost:8080/",
          "height": 451
        },
        "id": "FDqNzxBOAvu5",
        "outputId": "274d0ec5-c31b-420b-8f6e-bf9bebd3a3c3"
      },
      "outputs": [
        {
          "output_type": "execute_result",
          "data": {
            "text/plain": [
              "<class 'statsmodels.iolib.summary.Summary'>\n",
              "\"\"\"\n",
              "                                     SARIMAX Results                                      \n",
              "==========================================================================================\n",
              "Dep. Variable:                                  y   No. Observations:                  520\n",
              "Model:             SARIMAX(0, 1, 0)x(3, 1, 0, 12)   Log Likelihood                1185.487\n",
              "Date:                            Fri, 22 Apr 2022   AIC                          -2362.974\n",
              "Time:                                    16:18:34   BIC                          -2346.060\n",
              "Sample:                                         0   HQIC                         -2356.341\n",
              "                                            - 520                                         \n",
              "Covariance Type:                              opg                                         \n",
              "==============================================================================\n",
              "                 coef    std err          z      P>|z|      [0.025      0.975]\n",
              "------------------------------------------------------------------------------\n",
              "ar.S.L12      -0.7991      0.037    -21.436      0.000      -0.872      -0.726\n",
              "ar.S.L24      -0.4658      0.046    -10.041      0.000      -0.557      -0.375\n",
              "ar.S.L36      -0.1664      0.042     -3.987      0.000      -0.248      -0.085\n",
              "sigma2         0.0005   2.55e-05     20.996      0.000       0.000       0.001\n",
              "===================================================================================\n",
              "Ljung-Box (L1) (Q):                   0.00   Jarque-Bera (JB):                66.05\n",
              "Prob(Q):                              0.95   Prob(JB):                         0.00\n",
              "Heteroskedasticity (H):               3.72   Skew:                             0.06\n",
              "Prob(H) (two-sided):                  0.00   Kurtosis:                         4.76\n",
              "===================================================================================\n",
              "\n",
              "Warnings:\n",
              "[1] Covariance matrix calculated using the outer product of gradients (complex-step).\n",
              "\"\"\""
            ],
            "text/html": [
              "<table class=\"simpletable\">\n",
              "<caption>SARIMAX Results</caption>\n",
              "<tr>\n",
              "  <th>Dep. Variable:</th>                  <td>y</td>               <th>  No. Observations:  </th>    <td>520</td>   \n",
              "</tr>\n",
              "<tr>\n",
              "  <th>Model:</th>           <td>SARIMAX(0, 1, 0)x(3, 1, 0, 12)</td> <th>  Log Likelihood     </th> <td>1185.487</td> \n",
              "</tr>\n",
              "<tr>\n",
              "  <th>Date:</th>                   <td>Fri, 22 Apr 2022</td>        <th>  AIC                </th> <td>-2362.974</td>\n",
              "</tr>\n",
              "<tr>\n",
              "  <th>Time:</th>                       <td>16:18:34</td>            <th>  BIC                </th> <td>-2346.060</td>\n",
              "</tr>\n",
              "<tr>\n",
              "  <th>Sample:</th>                         <td>0</td>               <th>  HQIC               </th> <td>-2356.341</td>\n",
              "</tr>\n",
              "<tr>\n",
              "  <th></th>                             <td> - 520</td>             <th>                     </th>     <td> </td>    \n",
              "</tr>\n",
              "<tr>\n",
              "  <th>Covariance Type:</th>               <td>opg</td>              <th>                     </th>     <td> </td>    \n",
              "</tr>\n",
              "</table>\n",
              "<table class=\"simpletable\">\n",
              "<tr>\n",
              "      <td></td>        <th>coef</th>     <th>std err</th>      <th>z</th>      <th>P>|z|</th>  <th>[0.025</th>    <th>0.975]</th>  \n",
              "</tr>\n",
              "<tr>\n",
              "  <th>ar.S.L12</th> <td>   -0.7991</td> <td>    0.037</td> <td>  -21.436</td> <td> 0.000</td> <td>   -0.872</td> <td>   -0.726</td>\n",
              "</tr>\n",
              "<tr>\n",
              "  <th>ar.S.L24</th> <td>   -0.4658</td> <td>    0.046</td> <td>  -10.041</td> <td> 0.000</td> <td>   -0.557</td> <td>   -0.375</td>\n",
              "</tr>\n",
              "<tr>\n",
              "  <th>ar.S.L36</th> <td>   -0.1664</td> <td>    0.042</td> <td>   -3.987</td> <td> 0.000</td> <td>   -0.248</td> <td>   -0.085</td>\n",
              "</tr>\n",
              "<tr>\n",
              "  <th>sigma2</th>   <td>    0.0005</td> <td> 2.55e-05</td> <td>   20.996</td> <td> 0.000</td> <td>    0.000</td> <td>    0.001</td>\n",
              "</tr>\n",
              "</table>\n",
              "<table class=\"simpletable\">\n",
              "<tr>\n",
              "  <th>Ljung-Box (L1) (Q):</th>     <td>0.00</td> <th>  Jarque-Bera (JB):  </th> <td>66.05</td>\n",
              "</tr>\n",
              "<tr>\n",
              "  <th>Prob(Q):</th>                <td>0.95</td> <th>  Prob(JB):          </th> <td>0.00</td> \n",
              "</tr>\n",
              "<tr>\n",
              "  <th>Heteroskedasticity (H):</th> <td>3.72</td> <th>  Skew:              </th> <td>0.06</td> \n",
              "</tr>\n",
              "<tr>\n",
              "  <th>Prob(H) (two-sided):</th>    <td>0.00</td> <th>  Kurtosis:          </th> <td>4.76</td> \n",
              "</tr>\n",
              "</table><br/><br/>Warnings:<br/>[1] Covariance matrix calculated using the outer product of gradients (complex-step)."
            ]
          },
          "metadata": {},
          "execution_count": 40
        }
      ],
      "source": [
        "auto_arima_model.summary()"
      ]
    },
    {
      "cell_type": "code",
      "execution_count": null,
      "metadata": {
        "id": "j4W1OS8iAwZN"
      },
      "outputs": [],
      "source": [
        "# use Model to Forecast-auto_arima \n",
        "prediction = auto_arima_model.predict(len(test_data), return_conf_int=True)\n",
        "predicted_value_Arima = prediction[0]\n",
        "prediction_ub = prediction[1][:,0]\n",
        "predicted_lb = prediction[1][:,1]\n",
        "predict_index_Arima = list(test_data.index)\n",
        "r2 = r2_score(test_data, predicted_value_Arima)"
      ]
    },
    {
      "cell_type": "code",
      "execution_count": null,
      "metadata": {
        "id": "cQ9y2AkhA-NC",
        "colab": {
          "base_uri": "https://localhost:8080/",
          "height": 744
        },
        "outputId": "659c6230-0cc4-4e26-93ba-d5432927b004"
      },
      "outputs": [
        {
          "output_type": "error",
          "ename": "ValueError",
          "evalue": "ignored",
          "traceback": [
            "\u001b[0;31m---------------------------------------------------------------------------\u001b[0m",
            "\u001b[0;31mValueError\u001b[0m                                Traceback (most recent call last)",
            "\u001b[0;32m<ipython-input-54-08aa95103820>\u001b[0m in \u001b[0;36m<module>\u001b[0;34m()\u001b[0m\n\u001b[1;32m      4\u001b[0m          color='r', label='Start of Forecast')\n\u001b[1;32m      5\u001b[0m \u001b[0max\u001b[0m\u001b[0;34m.\u001b[0m\u001b[0mplot\u001b[0m\u001b[0;34m(\u001b[0m\u001b[0mpredict_index_Arima\u001b[0m\u001b[0;34m,\u001b[0m \u001b[0mpredicted_value_Arima\u001b[0m\u001b[0;34m,\u001b[0m \u001b[0mlabel\u001b[0m\u001b[0;34m=\u001b[0m\u001b[0;34m'Prediction'\u001b[0m\u001b[0;34m)\u001b[0m\u001b[0;34m\u001b[0m\u001b[0;34m\u001b[0m\u001b[0m\n\u001b[0;32m----> 6\u001b[0;31m \u001b[0max\u001b[0m\u001b[0;34m.\u001b[0m\u001b[0mfill_between\u001b[0m\u001b[0;34m(\u001b[0m\u001b[0mpredict_index_Arima\u001b[0m\u001b[0;34m,\u001b[0m \u001b[0mprediction_ub\u001b[0m\u001b[0;34m,\u001b[0m \u001b[0mpredicted_lb\u001b[0m\u001b[0;34m,\u001b[0m \u001b[0mcolor\u001b[0m\u001b[0;34m=\u001b[0m\u001b[0;34m'grey'\u001b[0m\u001b[0;34m,\u001b[0m \u001b[0malpha\u001b[0m\u001b[0;34m=\u001b[0m\u001b[0;36m1\u001b[0m\u001b[0;34m,\u001b[0m \u001b[0mlabel\u001b[0m\u001b[0;34m=\u001b[0m\u001b[0;34m'interval'\u001b[0m\u001b[0;34m)\u001b[0m\u001b[0;34m\u001b[0m\u001b[0;34m\u001b[0m\u001b[0m\n\u001b[0m\u001b[1;32m      7\u001b[0m \u001b[0max\u001b[0m\u001b[0;34m.\u001b[0m\u001b[0mlegend\u001b[0m\u001b[0;34m(\u001b[0m\u001b[0mloc\u001b[0m\u001b[0;34m=\u001b[0m\u001b[0;34m'upper left'\u001b[0m\u001b[0;34m)\u001b[0m\u001b[0;34m\u001b[0m\u001b[0;34m\u001b[0m\u001b[0m\n\u001b[1;32m      8\u001b[0m \u001b[0mplt\u001b[0m\u001b[0;34m.\u001b[0m\u001b[0msuptitle\u001b[0m\u001b[0;34m(\u001b[0m\u001b[0;34mf'ARIMA({auto_arima_model.order, auto_arima_model.seasonal_order}) prediction results: {round(r2,2)}(r2 score)'\u001b[0m \u001b[0;34m)\u001b[0m\u001b[0;34m\u001b[0m\u001b[0;34m\u001b[0m\u001b[0m\n",
            "\u001b[0;32m/usr/local/lib/python3.7/dist-packages/matplotlib/__init__.py\u001b[0m in \u001b[0;36minner\u001b[0;34m(ax, data, *args, **kwargs)\u001b[0m\n\u001b[1;32m   1563\u001b[0m     \u001b[0;32mdef\u001b[0m \u001b[0minner\u001b[0m\u001b[0;34m(\u001b[0m\u001b[0max\u001b[0m\u001b[0;34m,\u001b[0m \u001b[0;34m*\u001b[0m\u001b[0margs\u001b[0m\u001b[0;34m,\u001b[0m \u001b[0mdata\u001b[0m\u001b[0;34m=\u001b[0m\u001b[0;32mNone\u001b[0m\u001b[0;34m,\u001b[0m \u001b[0;34m**\u001b[0m\u001b[0mkwargs\u001b[0m\u001b[0;34m)\u001b[0m\u001b[0;34m:\u001b[0m\u001b[0;34m\u001b[0m\u001b[0;34m\u001b[0m\u001b[0m\n\u001b[1;32m   1564\u001b[0m         \u001b[0;32mif\u001b[0m \u001b[0mdata\u001b[0m \u001b[0;32mis\u001b[0m \u001b[0;32mNone\u001b[0m\u001b[0;34m:\u001b[0m\u001b[0;34m\u001b[0m\u001b[0;34m\u001b[0m\u001b[0m\n\u001b[0;32m-> 1565\u001b[0;31m             \u001b[0;32mreturn\u001b[0m \u001b[0mfunc\u001b[0m\u001b[0;34m(\u001b[0m\u001b[0max\u001b[0m\u001b[0;34m,\u001b[0m \u001b[0;34m*\u001b[0m\u001b[0mmap\u001b[0m\u001b[0;34m(\u001b[0m\u001b[0msanitize_sequence\u001b[0m\u001b[0;34m,\u001b[0m \u001b[0margs\u001b[0m\u001b[0;34m)\u001b[0m\u001b[0;34m,\u001b[0m \u001b[0;34m**\u001b[0m\u001b[0mkwargs\u001b[0m\u001b[0;34m)\u001b[0m\u001b[0;34m\u001b[0m\u001b[0;34m\u001b[0m\u001b[0m\n\u001b[0m\u001b[1;32m   1566\u001b[0m \u001b[0;34m\u001b[0m\u001b[0m\n\u001b[1;32m   1567\u001b[0m         \u001b[0mbound\u001b[0m \u001b[0;34m=\u001b[0m \u001b[0mnew_sig\u001b[0m\u001b[0;34m.\u001b[0m\u001b[0mbind\u001b[0m\u001b[0;34m(\u001b[0m\u001b[0max\u001b[0m\u001b[0;34m,\u001b[0m \u001b[0;34m*\u001b[0m\u001b[0margs\u001b[0m\u001b[0;34m,\u001b[0m \u001b[0;34m**\u001b[0m\u001b[0mkwargs\u001b[0m\u001b[0;34m)\u001b[0m\u001b[0;34m\u001b[0m\u001b[0;34m\u001b[0m\u001b[0m\n",
            "\u001b[0;32m/usr/local/lib/python3.7/dist-packages/matplotlib/axes/_axes.py\u001b[0m in \u001b[0;36mfill_between\u001b[0;34m(self, x, y1, y2, where, interpolate, step, **kwargs)\u001b[0m\n\u001b[1;32m   5155\u001b[0m             \u001b[0;32mif\u001b[0m \u001b[0marray\u001b[0m\u001b[0;34m.\u001b[0m\u001b[0mndim\u001b[0m \u001b[0;34m>\u001b[0m \u001b[0;36m1\u001b[0m\u001b[0;34m:\u001b[0m\u001b[0;34m\u001b[0m\u001b[0;34m\u001b[0m\u001b[0m\n\u001b[1;32m   5156\u001b[0m                 raise ValueError('Input passed into argument \"%r\"' % name +\n\u001b[0;32m-> 5157\u001b[0;31m                                  'is not 1-dimensional.')\n\u001b[0m\u001b[1;32m   5158\u001b[0m \u001b[0;34m\u001b[0m\u001b[0m\n\u001b[1;32m   5159\u001b[0m         \u001b[0;32mif\u001b[0m \u001b[0mwhere\u001b[0m \u001b[0;32mis\u001b[0m \u001b[0;32mNone\u001b[0m\u001b[0;34m:\u001b[0m\u001b[0;34m\u001b[0m\u001b[0;34m\u001b[0m\u001b[0m\n",
            "\u001b[0;31mValueError\u001b[0m: Input passed into argument \"'y1'\"is not 1-dimensional."
          ]
        },
        {
          "output_type": "display_data",
          "data": {
            "text/plain": [
              "<Figure size 864x432 with 1 Axes>"
            ],
            "image/png": "[encoded data removed]"
          },
          "metadata": {
            "needs_background": "light"
          }
        }
      ],
      "source": [
        "fig, ax = plt.subplots(figsize= (12,6))\n",
        "ax.plot(data.index, data)\n",
        "ax.vlines(pd.to_datetime('2021-04-15'), 0, 2, linestyle='--',\n",
        "         color='r', label='Start of Forecast')\n",
        "ax.plot(predict_index_Arima, predicted_value_Arima, label='Prediction')\n",
        "ax.fill_between(predict_index_Arima, prediction_ub, predicted_lb, color='grey', alpha=1, label='interval')\n",
        "ax.legend(loc='upper left')\n",
        "plt.suptitle(f'ARIMA({auto_arima_model.order, auto_arima_model.seasonal_order}) prediction results: {round(r2,2)}(r2 score)' )"
      ]
    },
    {
      "cell_type": "code",
      "execution_count": null,
      "metadata": {
        "id": "LDu7frmVCjJS",
        "colab": {
          "base_uri": "https://localhost:8080/"
        },
        "outputId": "ea7fe723-cb2b-4ef1-c231-1e9d5496d7b9"
      },
      "outputs": [
        {
          "output_type": "stream",
          "name": "stdout",
          "text": [
            "MAE:  0.294975632912886\n",
            "MSE:  0.11155655104868727\n"
          ]
        }
      ],
      "source": [
        "print(\"MAE: \", metrics.mean_absolute_error(test_data,predicted_value_Arima))\n",
        "print(\"MSE: \", metrics.mean_squared_error(test_data,predicted_value_Arima))"
      ]
    },
    {
      "cell_type": "code",
      "execution_count": null,
      "metadata": {
        "id": "Btywuvdr86Jh",
        "colab": {
          "base_uri": "https://localhost:8080/"
        },
        "outputId": "ef21d605-ddaf-4f9d-fda3-9379fd6fbe3e"
      },
      "outputs": [
        {
          "output_type": "stream",
          "name": "stdout",
          "text": [
            "Examples of parameter combinations for Seasonal ARIMA...\n",
            "SARIMA: (0, 1, 0)(0, 1, 0, 12) >> AIC : -2131.07\n",
            "SARIMA: (0, 1, 0)(0, 1, 1, 12) >> AIC : -2440.83\n"
          ]
        },
        {
          "output_type": "stream",
          "name": "stderr",
          "text": [
            "/usr/local/lib/python3.7/dist-packages/statsmodels/base/model.py:606: ConvergenceWarning: Maximum Likelihood optimization failed to converge. Check mle_retvals\n",
            "  ConvergenceWarning)\n"
          ]
        },
        {
          "output_type": "stream",
          "name": "stdout",
          "text": [
            "SARIMA: (0, 1, 0)(0, 1, 2, 12) >> AIC : -2444.33\n",
            "SARIMA: (0, 1, 0)(1, 1, 0, 12) >> AIC : -2302.55\n",
            "SARIMA: (0, 1, 0)(1, 1, 1, 12) >> AIC : -2438.92\n",
            "SARIMA: (0, 1, 0)(1, 1, 2, 12) >> AIC : -2442.43\n",
            "SARIMA: (0, 1, 0)(2, 1, 0, 12) >> AIC : -2359.29\n"
          ]
        },
        {
          "output_type": "stream",
          "name": "stderr",
          "text": [
            "/usr/local/lib/python3.7/dist-packages/statsmodels/base/model.py:606: ConvergenceWarning: Maximum Likelihood optimization failed to converge. Check mle_retvals\n",
            "  ConvergenceWarning)\n"
          ]
        },
        {
          "output_type": "stream",
          "name": "stdout",
          "text": [
            "SARIMA: (0, 1, 0)(2, 1, 1, 12) >> AIC : -2442.75\n"
          ]
        },
        {
          "output_type": "stream",
          "name": "stderr",
          "text": [
            "/usr/local/lib/python3.7/dist-packages/statsmodels/base/model.py:606: ConvergenceWarning: Maximum Likelihood optimization failed to converge. Check mle_retvals\n",
            "  ConvergenceWarning)\n"
          ]
        },
        {
          "output_type": "stream",
          "name": "stdout",
          "text": [
            "SARIMA: (0, 1, 0)(2, 1, 2, 12) >> AIC : -2440.31\n",
            "SARIMA: (0, 1, 1)(0, 1, 0, 12) >> AIC : -2131.07\n",
            "SARIMA: (0, 1, 1)(0, 1, 1, 12) >> AIC : -2440.83\n"
          ]
        },
        {
          "output_type": "stream",
          "name": "stderr",
          "text": [
            "/usr/local/lib/python3.7/dist-packages/statsmodels/base/model.py:606: ConvergenceWarning: Maximum Likelihood optimization failed to converge. Check mle_retvals\n",
            "  ConvergenceWarning)\n"
          ]
        },
        {
          "output_type": "stream",
          "name": "stdout",
          "text": [
            "SARIMA: (0, 1, 1)(0, 1, 2, 12) >> AIC : -2444.33\n",
            "SARIMA: (0, 1, 1)(1, 1, 0, 12) >> AIC : -2302.55\n",
            "SARIMA: (0, 1, 1)(1, 1, 1, 12) >> AIC : -2438.92\n",
            "SARIMA: (0, 1, 1)(1, 1, 2, 12) >> AIC : -2442.43\n",
            "SARIMA: (0, 1, 1)(2, 1, 0, 12) >> AIC : -2359.29\n"
          ]
        },
        {
          "output_type": "stream",
          "name": "stderr",
          "text": [
            "/usr/local/lib/python3.7/dist-packages/statsmodels/base/model.py:606: ConvergenceWarning: Maximum Likelihood optimization failed to converge. Check mle_retvals\n",
            "  ConvergenceWarning)\n"
          ]
        },
        {
          "output_type": "stream",
          "name": "stdout",
          "text": [
            "SARIMA: (0, 1, 1)(2, 1, 1, 12) >> AIC : -2442.75\n"
          ]
        },
        {
          "output_type": "stream",
          "name": "stderr",
          "text": [
            "/usr/local/lib/python3.7/dist-packages/statsmodels/base/model.py:606: ConvergenceWarning: Maximum Likelihood optimization failed to converge. Check mle_retvals\n",
            "  ConvergenceWarning)\n"
          ]
        },
        {
          "output_type": "stream",
          "name": "stdout",
          "text": [
            "SARIMA: (0, 1, 1)(2, 1, 2, 12) >> AIC : -2440.31\n",
            "SARIMA: (0, 1, 2)(0, 1, 0, 12) >> AIC : -2131.07\n",
            "SARIMA: (0, 1, 2)(0, 1, 1, 12) >> AIC : -2440.83\n"
          ]
        },
        {
          "output_type": "stream",
          "name": "stderr",
          "text": [
            "/usr/local/lib/python3.7/dist-packages/statsmodels/base/model.py:606: ConvergenceWarning: Maximum Likelihood optimization failed to converge. Check mle_retvals\n",
            "  ConvergenceWarning)\n"
          ]
        },
        {
          "output_type": "stream",
          "name": "stdout",
          "text": [
            "SARIMA: (0, 1, 2)(0, 1, 2, 12) >> AIC : -2444.33\n",
            "SARIMA: (0, 1, 2)(1, 1, 0, 12) >> AIC : -2302.55\n",
            "SARIMA: (0, 1, 2)(1, 1, 1, 12) >> AIC : -2438.92\n",
            "SARIMA: (0, 1, 2)(1, 1, 2, 12) >> AIC : -2442.43\n",
            "SARIMA: (0, 1, 2)(2, 1, 0, 12) >> AIC : -2359.29\n"
          ]
        },
        {
          "output_type": "stream",
          "name": "stderr",
          "text": [
            "/usr/local/lib/python3.7/dist-packages/statsmodels/base/model.py:606: ConvergenceWarning: Maximum Likelihood optimization failed to converge. Check mle_retvals\n",
            "  ConvergenceWarning)\n"
          ]
        },
        {
          "output_type": "stream",
          "name": "stdout",
          "text": [
            "SARIMA: (0, 1, 2)(2, 1, 1, 12) >> AIC : -2442.75\n"
          ]
        },
        {
          "output_type": "stream",
          "name": "stderr",
          "text": [
            "/usr/local/lib/python3.7/dist-packages/statsmodels/base/model.py:606: ConvergenceWarning: Maximum Likelihood optimization failed to converge. Check mle_retvals\n",
            "  ConvergenceWarning)\n"
          ]
        },
        {
          "output_type": "stream",
          "name": "stdout",
          "text": [
            "SARIMA: (0, 1, 2)(2, 1, 2, 12) >> AIC : -2440.31\n",
            "SARIMA: (1, 1, 0)(0, 1, 0, 12) >> AIC : -2131.07\n",
            "SARIMA: (1, 1, 0)(0, 1, 1, 12) >> AIC : -2440.83\n"
          ]
        },
        {
          "output_type": "stream",
          "name": "stderr",
          "text": [
            "/usr/local/lib/python3.7/dist-packages/statsmodels/base/model.py:606: ConvergenceWarning: Maximum Likelihood optimization failed to converge. Check mle_retvals\n",
            "  ConvergenceWarning)\n"
          ]
        },
        {
          "output_type": "stream",
          "name": "stdout",
          "text": [
            "SARIMA: (1, 1, 0)(0, 1, 2, 12) >> AIC : -2444.33\n",
            "SARIMA: (1, 1, 0)(1, 1, 0, 12) >> AIC : -2302.55\n",
            "SARIMA: (1, 1, 0)(1, 1, 1, 12) >> AIC : -2438.92\n",
            "SARIMA: (1, 1, 0)(1, 1, 2, 12) >> AIC : -2442.43\n",
            "SARIMA: (1, 1, 0)(2, 1, 0, 12) >> AIC : -2359.29\n"
          ]
        },
        {
          "output_type": "stream",
          "name": "stderr",
          "text": [
            "/usr/local/lib/python3.7/dist-packages/statsmodels/base/model.py:606: ConvergenceWarning: Maximum Likelihood optimization failed to converge. Check mle_retvals\n",
            "  ConvergenceWarning)\n"
          ]
        },
        {
          "output_type": "stream",
          "name": "stdout",
          "text": [
            "SARIMA: (1, 1, 0)(2, 1, 1, 12) >> AIC : -2442.75\n"
          ]
        },
        {
          "output_type": "stream",
          "name": "stderr",
          "text": [
            "/usr/local/lib/python3.7/dist-packages/statsmodels/base/model.py:606: ConvergenceWarning: Maximum Likelihood optimization failed to converge. Check mle_retvals\n",
            "  ConvergenceWarning)\n"
          ]
        },
        {
          "output_type": "stream",
          "name": "stdout",
          "text": [
            "SARIMA: (1, 1, 0)(2, 1, 2, 12) >> AIC : -2440.31\n",
            "SARIMA: (1, 1, 1)(0, 1, 0, 12) >> AIC : -2131.07\n",
            "SARIMA: (1, 1, 1)(0, 1, 1, 12) >> AIC : -2440.83\n"
          ]
        },
        {
          "output_type": "stream",
          "name": "stderr",
          "text": [
            "/usr/local/lib/python3.7/dist-packages/statsmodels/base/model.py:606: ConvergenceWarning: Maximum Likelihood optimization failed to converge. Check mle_retvals\n",
            "  ConvergenceWarning)\n"
          ]
        },
        {
          "output_type": "stream",
          "name": "stdout",
          "text": [
            "SARIMA: (1, 1, 1)(0, 1, 2, 12) >> AIC : -2444.33\n",
            "SARIMA: (1, 1, 1)(1, 1, 0, 12) >> AIC : -2302.55\n",
            "SARIMA: (1, 1, 1)(1, 1, 1, 12) >> AIC : -2438.92\n",
            "SARIMA: (1, 1, 1)(1, 1, 2, 12) >> AIC : -2442.43\n",
            "SARIMA: (1, 1, 1)(2, 1, 0, 12) >> AIC : -2359.29\n"
          ]
        },
        {
          "output_type": "stream",
          "name": "stderr",
          "text": [
            "/usr/local/lib/python3.7/dist-packages/statsmodels/base/model.py:606: ConvergenceWarning: Maximum Likelihood optimization failed to converge. Check mle_retvals\n",
            "  ConvergenceWarning)\n"
          ]
        },
        {
          "output_type": "stream",
          "name": "stdout",
          "text": [
            "SARIMA: (1, 1, 1)(2, 1, 1, 12) >> AIC : -2442.75\n"
          ]
        },
        {
          "output_type": "stream",
          "name": "stderr",
          "text": [
            "/usr/local/lib/python3.7/dist-packages/statsmodels/base/model.py:606: ConvergenceWarning: Maximum Likelihood optimization failed to converge. Check mle_retvals\n",
            "  ConvergenceWarning)\n"
          ]
        },
        {
          "output_type": "stream",
          "name": "stdout",
          "text": [
            "SARIMA: (1, 1, 1)(2, 1, 2, 12) >> AIC : -2440.31\n",
            "SARIMA: (1, 1, 2)(0, 1, 0, 12) >> AIC : -2131.07\n",
            "SARIMA: (1, 1, 2)(0, 1, 1, 12) >> AIC : -2440.83\n"
          ]
        },
        {
          "output_type": "stream",
          "name": "stderr",
          "text": [
            "/usr/local/lib/python3.7/dist-packages/statsmodels/base/model.py:606: ConvergenceWarning: Maximum Likelihood optimization failed to converge. Check mle_retvals\n",
            "  ConvergenceWarning)\n"
          ]
        },
        {
          "output_type": "stream",
          "name": "stdout",
          "text": [
            "SARIMA: (1, 1, 2)(0, 1, 2, 12) >> AIC : -2444.33\n",
            "SARIMA: (1, 1, 2)(1, 1, 0, 12) >> AIC : -2302.55\n",
            "SARIMA: (1, 1, 2)(1, 1, 1, 12) >> AIC : -2438.92\n",
            "SARIMA: (1, 1, 2)(1, 1, 2, 12) >> AIC : -2442.43\n",
            "SARIMA: (1, 1, 2)(2, 1, 0, 12) >> AIC : -2359.29\n"
          ]
        },
        {
          "output_type": "stream",
          "name": "stderr",
          "text": [
            "/usr/local/lib/python3.7/dist-packages/statsmodels/base/model.py:606: ConvergenceWarning: Maximum Likelihood optimization failed to converge. Check mle_retvals\n",
            "  ConvergenceWarning)\n"
          ]
        },
        {
          "output_type": "stream",
          "name": "stdout",
          "text": [
            "SARIMA: (1, 1, 2)(2, 1, 1, 12) >> AIC : -2442.75\n"
          ]
        },
        {
          "output_type": "stream",
          "name": "stderr",
          "text": [
            "/usr/local/lib/python3.7/dist-packages/statsmodels/base/model.py:606: ConvergenceWarning: Maximum Likelihood optimization failed to converge. Check mle_retvals\n",
            "  ConvergenceWarning)\n"
          ]
        },
        {
          "output_type": "stream",
          "name": "stdout",
          "text": [
            "SARIMA: (1, 1, 2)(2, 1, 2, 12) >> AIC : -2440.31\n",
            "SARIMA: (2, 1, 0)(0, 1, 0, 12) >> AIC : -2131.07\n",
            "SARIMA: (2, 1, 0)(0, 1, 1, 12) >> AIC : -2440.83\n"
          ]
        },
        {
          "output_type": "stream",
          "name": "stderr",
          "text": [
            "/usr/local/lib/python3.7/dist-packages/statsmodels/base/model.py:606: ConvergenceWarning: Maximum Likelihood optimization failed to converge. Check mle_retvals\n",
            "  ConvergenceWarning)\n"
          ]
        },
        {
          "output_type": "stream",
          "name": "stdout",
          "text": [
            "SARIMA: (2, 1, 0)(0, 1, 2, 12) >> AIC : -2444.33\n",
            "SARIMA: (2, 1, 0)(1, 1, 0, 12) >> AIC : -2302.55\n",
            "SARIMA: (2, 1, 0)(1, 1, 1, 12) >> AIC : -2438.92\n",
            "SARIMA: (2, 1, 0)(1, 1, 2, 12) >> AIC : -2442.43\n",
            "SARIMA: (2, 1, 0)(2, 1, 0, 12) >> AIC : -2359.29\n"
          ]
        },
        {
          "output_type": "stream",
          "name": "stderr",
          "text": [
            "/usr/local/lib/python3.7/dist-packages/statsmodels/base/model.py:606: ConvergenceWarning: Maximum Likelihood optimization failed to converge. Check mle_retvals\n",
            "  ConvergenceWarning)\n"
          ]
        },
        {
          "output_type": "stream",
          "name": "stdout",
          "text": [
            "SARIMA: (2, 1, 0)(2, 1, 1, 12) >> AIC : -2442.75\n"
          ]
        },
        {
          "output_type": "stream",
          "name": "stderr",
          "text": [
            "/usr/local/lib/python3.7/dist-packages/statsmodels/base/model.py:606: ConvergenceWarning: Maximum Likelihood optimization failed to converge. Check mle_retvals\n",
            "  ConvergenceWarning)\n"
          ]
        },
        {
          "output_type": "stream",
          "name": "stdout",
          "text": [
            "SARIMA: (2, 1, 0)(2, 1, 2, 12) >> AIC : -2440.31\n",
            "SARIMA: (2, 1, 1)(0, 1, 0, 12) >> AIC : -2131.07\n",
            "SARIMA: (2, 1, 1)(0, 1, 1, 12) >> AIC : -2440.83\n"
          ]
        },
        {
          "output_type": "stream",
          "name": "stderr",
          "text": [
            "/usr/local/lib/python3.7/dist-packages/statsmodels/base/model.py:606: ConvergenceWarning: Maximum Likelihood optimization failed to converge. Check mle_retvals\n",
            "  ConvergenceWarning)\n"
          ]
        },
        {
          "output_type": "stream",
          "name": "stdout",
          "text": [
            "SARIMA: (2, 1, 1)(0, 1, 2, 12) >> AIC : -2444.33\n",
            "SARIMA: (2, 1, 1)(1, 1, 0, 12) >> AIC : -2302.55\n",
            "SARIMA: (2, 1, 1)(1, 1, 1, 12) >> AIC : -2438.92\n",
            "SARIMA: (2, 1, 1)(1, 1, 2, 12) >> AIC : -2442.43\n",
            "SARIMA: (2, 1, 1)(2, 1, 0, 12) >> AIC : -2359.29\n"
          ]
        },
        {
          "output_type": "stream",
          "name": "stderr",
          "text": [
            "/usr/local/lib/python3.7/dist-packages/statsmodels/base/model.py:606: ConvergenceWarning: Maximum Likelihood optimization failed to converge. Check mle_retvals\n",
            "  ConvergenceWarning)\n"
          ]
        },
        {
          "output_type": "stream",
          "name": "stdout",
          "text": [
            "SARIMA: (2, 1, 1)(2, 1, 1, 12) >> AIC : -2442.75\n"
          ]
        },
        {
          "output_type": "stream",
          "name": "stderr",
          "text": [
            "/usr/local/lib/python3.7/dist-packages/statsmodels/base/model.py:606: ConvergenceWarning: Maximum Likelihood optimization failed to converge. Check mle_retvals\n",
            "  ConvergenceWarning)\n"
          ]
        },
        {
          "output_type": "stream",
          "name": "stdout",
          "text": [
            "SARIMA: (2, 1, 1)(2, 1, 2, 12) >> AIC : -2440.31\n",
            "SARIMA: (2, 1, 2)(0, 1, 0, 12) >> AIC : -2131.07\n",
            "SARIMA: (2, 1, 2)(0, 1, 1, 12) >> AIC : -2440.83\n"
          ]
        },
        {
          "output_type": "stream",
          "name": "stderr",
          "text": [
            "/usr/local/lib/python3.7/dist-packages/statsmodels/base/model.py:606: ConvergenceWarning: Maximum Likelihood optimization failed to converge. Check mle_retvals\n",
            "  ConvergenceWarning)\n"
          ]
        },
        {
          "output_type": "stream",
          "name": "stdout",
          "text": [
            "SARIMA: (2, 1, 2)(0, 1, 2, 12) >> AIC : -2444.33\n",
            "SARIMA: (2, 1, 2)(1, 1, 0, 12) >> AIC : -2302.55\n",
            "SARIMA: (2, 1, 2)(1, 1, 1, 12) >> AIC : -2438.92\n",
            "SARIMA: (2, 1, 2)(1, 1, 2, 12) >> AIC : -2442.43\n",
            "SARIMA: (2, 1, 2)(2, 1, 0, 12) >> AIC : -2359.29\n"
          ]
        },
        {
          "output_type": "stream",
          "name": "stderr",
          "text": [
            "/usr/local/lib/python3.7/dist-packages/statsmodels/base/model.py:606: ConvergenceWarning: Maximum Likelihood optimization failed to converge. Check mle_retvals\n",
            "  ConvergenceWarning)\n"
          ]
        },
        {
          "output_type": "stream",
          "name": "stdout",
          "text": [
            "SARIMA: (2, 1, 2)(2, 1, 1, 12) >> AIC : -2442.75\n"
          ]
        },
        {
          "output_type": "stream",
          "name": "stderr",
          "text": [
            "/usr/local/lib/python3.7/dist-packages/statsmodels/base/model.py:606: ConvergenceWarning: Maximum Likelihood optimization failed to converge. Check mle_retvals\n",
            "  ConvergenceWarning)\n"
          ]
        },
        {
          "output_type": "stream",
          "name": "stdout",
          "text": [
            "SARIMA: (2, 1, 2)(2, 1, 2, 12) >> AIC : -2440.31\n"
          ]
        }
      ],
      "source": [
        "# Diagnosis Check - SARIMA \n",
        "\n",
        "print('Examples of parameter combinations for Seasonal ARIMA...')\n",
        "p = range(0,3)\n",
        "d = range(1,2)\n",
        "q = range(0,3)\n",
        "pdq = list(itertools.product(p, d, q))\n",
        "seasonal_pdq = [(x[0], x[1], x[2], 12) for x in list(itertools.product(p, d, q))]\n",
        "\n",
        "aic=[]\n",
        "params=[]\n",
        "for i in pdq: \n",
        "  for j in seasonal_pdq:\n",
        "    try:\n",
        "      model = SARIMAX(train_data.values, ordr=(i), seasonal_order =(j))\n",
        "      model_fit = model.fit()\n",
        "      print(f'SARIMA: {i}{j} >> AIC : {round(model_fit.aic,2)}')\n",
        "      aic.append(round(model_fit.aic,2))\n",
        "      params.append((i,j))\n",
        "    except:\n",
        "      continue"
      ]
    },
    {
      "cell_type": "code",
      "execution_count": null,
      "metadata": {
        "id": "T36mJjRR9A7I",
        "colab": {
          "base_uri": "https://localhost:8080/"
        },
        "outputId": "93ebbea2-63ab-4da5-f713-e539ef03a0b4"
      },
      "outputs": [
        {
          "output_type": "execute_result",
          "data": {
            "text/plain": [
              "[(((0, 1, 0), (0, 1, 2, 12)), -2444.33),\n",
              " (((0, 1, 1), (0, 1, 2, 12)), -2444.33),\n",
              " (((0, 1, 2), (0, 1, 2, 12)), -2444.33),\n",
              " (((1, 1, 0), (0, 1, 2, 12)), -2444.33),\n",
              " (((1, 1, 1), (0, 1, 2, 12)), -2444.33),\n",
              " (((1, 1, 2), (0, 1, 2, 12)), -2444.33),\n",
              " (((2, 1, 0), (0, 1, 2, 12)), -2444.33),\n",
              " (((2, 1, 1), (0, 1, 2, 12)), -2444.33),\n",
              " (((2, 1, 2), (0, 1, 2, 12)), -2444.33)]"
            ]
          },
          "metadata": {},
          "execution_count": 45
        }
      ],
      "source": [
        "# Search optimal parameters\n",
        "\n",
        "optimal = [(params[i], j) for i, j in enumerate(aic) if j == min(aic)]\n",
        "optimal"
      ]
    },
    {
      "cell_type": "code",
      "execution_count": null,
      "metadata": {
        "id": "urH52wX39DR1",
        "colab": {
          "base_uri": "https://localhost:8080/",
          "height": 430
        },
        "outputId": "3f0a1b40-ed9f-4704-a3ae-a943279e246c"
      },
      "outputs": [
        {
          "output_type": "execute_result",
          "data": {
            "text/plain": [
              "<class 'statsmodels.iolib.summary.Summary'>\n",
              "\"\"\"\n",
              "                                        SARIMAX Results                                        \n",
              "===============================================================================================\n",
              "Dep. Variable:                                       y   No. Observations:                  520\n",
              "Model:             SARIMAX(0, 1, 0)x(0, 1, [1, 2], 12)   Log Likelihood                1223.640\n",
              "Date:                                 Fri, 22 Apr 2022   AIC                          -2441.279\n",
              "Time:                                         16:23:51   BIC                          -2428.594\n",
              "Sample:                                              0   HQIC                         -2436.304\n",
              "                                                 - 520                                         \n",
              "Covariance Type:                                   opg                                         \n",
              "==============================================================================\n",
              "                 coef    std err          z      P>|z|      [0.025      0.975]\n",
              "------------------------------------------------------------------------------\n",
              "ma.S.L12      -0.9970      0.037    -26.986      0.000      -1.069      -0.925\n",
              "ma.S.L24       0.0585      0.040      1.477      0.140      -0.019       0.136\n",
              "sigma2         0.0004   1.92e-05     23.144      0.000       0.000       0.000\n",
              "===================================================================================\n",
              "Ljung-Box (L1) (Q):                   0.05   Jarque-Bera (JB):               142.33\n",
              "Prob(Q):                              0.82   Prob(JB):                         0.00\n",
              "Heteroskedasticity (H):               3.75   Skew:                             0.46\n",
              "Prob(H) (two-sided):                  0.00   Kurtosis:                         5.43\n",
              "===================================================================================\n",
              "\n",
              "Warnings:\n",
              "[1] Covariance matrix calculated using the outer product of gradients (complex-step).\n",
              "\"\"\""
            ],
            "text/html": [
              "<table class=\"simpletable\">\n",
              "<caption>SARIMAX Results</caption>\n",
              "<tr>\n",
              "  <th>Dep. Variable:</th>                    <td>y</td>                  <th>  No. Observations:  </th>    <td>520</td>   \n",
              "</tr>\n",
              "<tr>\n",
              "  <th>Model:</th>           <td>SARIMAX(0, 1, 0)x(0, 1, [1, 2], 12)</td> <th>  Log Likelihood     </th> <td>1223.640</td> \n",
              "</tr>\n",
              "<tr>\n",
              "  <th>Date:</th>                     <td>Fri, 22 Apr 2022</td>           <th>  AIC                </th> <td>-2441.279</td>\n",
              "</tr>\n",
              "<tr>\n",
              "  <th>Time:</th>                         <td>16:23:51</td>               <th>  BIC                </th> <td>-2428.594</td>\n",
              "</tr>\n",
              "<tr>\n",
              "  <th>Sample:</th>                           <td>0</td>                  <th>  HQIC               </th> <td>-2436.304</td>\n",
              "</tr>\n",
              "<tr>\n",
              "  <th></th>                               <td> - 520</td>                <th>                     </th>     <td> </td>    \n",
              "</tr>\n",
              "<tr>\n",
              "  <th>Covariance Type:</th>                 <td>opg</td>                 <th>                     </th>     <td> </td>    \n",
              "</tr>\n",
              "</table>\n",
              "<table class=\"simpletable\">\n",
              "<tr>\n",
              "      <td></td>        <th>coef</th>     <th>std err</th>      <th>z</th>      <th>P>|z|</th>  <th>[0.025</th>    <th>0.975]</th>  \n",
              "</tr>\n",
              "<tr>\n",
              "  <th>ma.S.L12</th> <td>   -0.9970</td> <td>    0.037</td> <td>  -26.986</td> <td> 0.000</td> <td>   -1.069</td> <td>   -0.925</td>\n",
              "</tr>\n",
              "<tr>\n",
              "  <th>ma.S.L24</th> <td>    0.0585</td> <td>    0.040</td> <td>    1.477</td> <td> 0.140</td> <td>   -0.019</td> <td>    0.136</td>\n",
              "</tr>\n",
              "<tr>\n",
              "  <th>sigma2</th>   <td>    0.0004</td> <td> 1.92e-05</td> <td>   23.144</td> <td> 0.000</td> <td>    0.000</td> <td>    0.000</td>\n",
              "</tr>\n",
              "</table>\n",
              "<table class=\"simpletable\">\n",
              "<tr>\n",
              "  <th>Ljung-Box (L1) (Q):</th>     <td>0.05</td> <th>  Jarque-Bera (JB):  </th> <td>142.33</td>\n",
              "</tr>\n",
              "<tr>\n",
              "  <th>Prob(Q):</th>                <td>0.82</td> <th>  Prob(JB):          </th>  <td>0.00</td> \n",
              "</tr>\n",
              "<tr>\n",
              "  <th>Heteroskedasticity (H):</th> <td>3.75</td> <th>  Skew:              </th>  <td>0.46</td> \n",
              "</tr>\n",
              "<tr>\n",
              "  <th>Prob(H) (two-sided):</th>    <td>0.00</td> <th>  Kurtosis:          </th>  <td>5.43</td> \n",
              "</tr>\n",
              "</table><br/><br/>Warnings:<br/>[1] Covariance matrix calculated using the outer product of gradients (complex-step)."
            ]
          },
          "metadata": {},
          "execution_count": 46
        }
      ],
      "source": [
        "model_opt = SARIMAX(train_data.values, order=optimal[0][0][0], seasonal_order = optimal [0][0][1])\n",
        "model_opt_fit = model_opt.fit()\n",
        "\n",
        "model_opt_fit.summary()"
      ]
    },
    {
      "cell_type": "code",
      "execution_count": null,
      "metadata": {
        "id": "ZUzYjgsd9FMC"
      },
      "outputs": [],
      "source": [
        "#use Model to Forecast -SARIMA \n",
        "prediction = model_opt_fit.get_forecast(len(test_data))\n",
        "predicted_value = prediction.predicted_mean\n",
        "prediction_ub = prediction.conf_int()[:0]\n",
        "predicted_lb = prediction.conf_int()[:,1]\n",
        "predict_index = list(test_data.index)\n",
        "r2 = r2_score(test_data, predicted_value)\n"
      ]
    },
    {
      "cell_type": "code",
      "execution_count": null,
      "metadata": {
        "id": "IYXF2KFc9Ik_",
        "colab": {
          "base_uri": "https://localhost:8080/",
          "height": 414
        },
        "outputId": "0a5fd84c-d82e-4912-f9ce-ec877a87c560"
      },
      "outputs": [
        {
          "output_type": "display_data",
          "data": {
            "text/plain": [
              "<Figure size 864x432 with 1 Axes>"
            ],
            "image/png": "[encoded data removed]"
          },
          "metadata": {
            "needs_background": "light"
          }
        }
      ],
      "source": [
        "fig, ax= plt.subplots(figsize=(12,6))\n",
        "ax.plot(data.index, data.Close)\n",
        "ax.vlines(pd.to_datetime('2021-04-15'), 0,1, linestyle ='--', color='r',\n",
        "         label = 'Start of  Forcast')\n",
        "ax.plot(predict_index, predicted_value, label='prediction')\n",
        "#ax.fill_between(predict_index, predicted_lb, prediction_ub, color='k',\n",
        " #              alpha= 0.1, label='0.95 prediction interval')\n",
        "ax.legend(loc='upper left')\n",
        "plt.suptitle(f'SARIMA {optimal[0][0][0], optimal[0][0][1]} prediction results (r2score: {round(r2,2)})')\n",
        "plt.show()"
      ]
    },
    {
      "cell_type": "code",
      "execution_count": null,
      "metadata": {
        "id": "_tFdFqmK9X-X",
        "colab": {
          "base_uri": "https://localhost:8080/"
        },
        "outputId": "46d1ee59-d24f-4d6e-fb3c-29f90ac2c34e"
      },
      "outputs": [
        {
          "output_type": "stream",
          "name": "stdout",
          "text": [
            "MAE:  0.4273173682025077\n",
            "MSE:  0.22931887708314833\n"
          ]
        }
      ],
      "source": [
        "print(\"MAE: \", metrics.mean_absolute_error(test_data,predicted_value))\n",
        "print(\"MSE: \", metrics.mean_squared_error(test_data,predicted_value))\n"
      ]
    },
    {
      "cell_type": "code",
      "source": [
        "predict_rnn= predict_index[:-10]"
      ],
      "metadata": {
        "id": "GWJBYOD2Byx7"
      },
      "execution_count": null,
      "outputs": []
    },
    {
      "cell_type": "code",
      "execution_count": null,
      "metadata": {
        "id": "OWzMGyRs9Zzl",
        "colab": {
          "base_uri": "https://localhost:8080/",
          "height": 744
        },
        "outputId": "94c3bd4b-1955-4182-96d2-f8929e3ec1b0"
      },
      "outputs": [
        {
          "output_type": "error",
          "ename": "ValueError",
          "evalue": "ignored",
          "traceback": [
            "\u001b[0;31m---------------------------------------------------------------------------\u001b[0m",
            "\u001b[0;31mValueError\u001b[0m                                Traceback (most recent call last)",
            "\u001b[0;32m<ipython-input-59-d2916c66248b>\u001b[0m in \u001b[0;36m<module>\u001b[0;34m()\u001b[0m\n\u001b[1;32m      5\u001b[0m \u001b[0max\u001b[0m\u001b[0;34m.\u001b[0m\u001b[0mplot\u001b[0m\u001b[0;34m(\u001b[0m\u001b[0mpredict_index_Arima\u001b[0m\u001b[0;34m,\u001b[0m \u001b[0mpredicted_value_Arima\u001b[0m\u001b[0;34m,\u001b[0m \u001b[0mcolor\u001b[0m\u001b[0;34m=\u001b[0m\u001b[0;34m'red'\u001b[0m\u001b[0;34m,\u001b[0m \u001b[0mlabel\u001b[0m\u001b[0;34m=\u001b[0m\u001b[0;34m'Arima prediction'\u001b[0m\u001b[0;34m)\u001b[0m\u001b[0;34m\u001b[0m\u001b[0;34m\u001b[0m\u001b[0m\n\u001b[1;32m      6\u001b[0m \u001b[0max\u001b[0m\u001b[0;34m.\u001b[0m\u001b[0mplot\u001b[0m\u001b[0;34m(\u001b[0m\u001b[0mpredict_index\u001b[0m\u001b[0;34m,\u001b[0m \u001b[0mpredicted_value\u001b[0m\u001b[0;34m,\u001b[0m \u001b[0mcolor\u001b[0m\u001b[0;34m=\u001b[0m\u001b[0;34m'orange'\u001b[0m\u001b[0;34m,\u001b[0m \u001b[0mlabel\u001b[0m\u001b[0;34m=\u001b[0m\u001b[0;34m'Sarima prediction'\u001b[0m\u001b[0;34m)\u001b[0m\u001b[0;34m\u001b[0m\u001b[0;34m\u001b[0m\u001b[0m\n\u001b[0;32m----> 7\u001b[0;31m \u001b[0max\u001b[0m\u001b[0;34m.\u001b[0m\u001b[0mplot\u001b[0m\u001b[0;34m(\u001b[0m\u001b[0mpredict_rnn\u001b[0m\u001b[0;34m,\u001b[0m \u001b[0mpred_y\u001b[0m\u001b[0;34m,\u001b[0m \u001b[0mcolor\u001b[0m\u001b[0;34m=\u001b[0m\u001b[0;34m'blue'\u001b[0m\u001b[0;34m,\u001b[0m \u001b[0mlabel\u001b[0m\u001b[0;34m=\u001b[0m\u001b[0;34m'predicted SEC stock price'\u001b[0m\u001b[0;34m)\u001b[0m\u001b[0;34m\u001b[0m\u001b[0;34m\u001b[0m\u001b[0m\n\u001b[0m\u001b[1;32m      8\u001b[0m \u001b[0;34m\u001b[0m\u001b[0m\n\u001b[1;32m      9\u001b[0m \u001b[0;31m#ax.fill_between(predict_index, predicted_lb, prediction_ub, color='k',\u001b[0m\u001b[0;34m\u001b[0m\u001b[0;34m\u001b[0m\u001b[0;34m\u001b[0m\u001b[0m\n",
            "\u001b[0;32m/usr/local/lib/python3.7/dist-packages/matplotlib/axes/_axes.py\u001b[0m in \u001b[0;36mplot\u001b[0;34m(self, scalex, scaley, data, *args, **kwargs)\u001b[0m\n\u001b[1;32m   1645\u001b[0m         \"\"\"\n\u001b[1;32m   1646\u001b[0m         \u001b[0mkwargs\u001b[0m \u001b[0;34m=\u001b[0m \u001b[0mcbook\u001b[0m\u001b[0;34m.\u001b[0m\u001b[0mnormalize_kwargs\u001b[0m\u001b[0;34m(\u001b[0m\u001b[0mkwargs\u001b[0m\u001b[0;34m,\u001b[0m \u001b[0mmlines\u001b[0m\u001b[0;34m.\u001b[0m\u001b[0mLine2D\u001b[0m\u001b[0;34m)\u001b[0m\u001b[0;34m\u001b[0m\u001b[0;34m\u001b[0m\u001b[0m\n\u001b[0;32m-> 1647\u001b[0;31m         \u001b[0mlines\u001b[0m \u001b[0;34m=\u001b[0m \u001b[0;34m[\u001b[0m\u001b[0;34m*\u001b[0m\u001b[0mself\u001b[0m\u001b[0;34m.\u001b[0m\u001b[0m_get_lines\u001b[0m\u001b[0;34m(\u001b[0m\u001b[0;34m*\u001b[0m\u001b[0margs\u001b[0m\u001b[0;34m,\u001b[0m \u001b[0mdata\u001b[0m\u001b[0;34m=\u001b[0m\u001b[0mdata\u001b[0m\u001b[0;34m,\u001b[0m \u001b[0;34m**\u001b[0m\u001b[0mkwargs\u001b[0m\u001b[0;34m)\u001b[0m\u001b[0;34m]\u001b[0m\u001b[0;34m\u001b[0m\u001b[0;34m\u001b[0m\u001b[0m\n\u001b[0m\u001b[1;32m   1648\u001b[0m         \u001b[0;32mfor\u001b[0m \u001b[0mline\u001b[0m \u001b[0;32min\u001b[0m \u001b[0mlines\u001b[0m\u001b[0;34m:\u001b[0m\u001b[0;34m\u001b[0m\u001b[0;34m\u001b[0m\u001b[0m\n\u001b[1;32m   1649\u001b[0m             \u001b[0mself\u001b[0m\u001b[0;34m.\u001b[0m\u001b[0madd_line\u001b[0m\u001b[0;34m(\u001b[0m\u001b[0mline\u001b[0m\u001b[0;34m)\u001b[0m\u001b[0;34m\u001b[0m\u001b[0;34m\u001b[0m\u001b[0m\n",
            "\u001b[0;32m/usr/local/lib/python3.7/dist-packages/matplotlib/axes/_base.py\u001b[0m in \u001b[0;36m__call__\u001b[0;34m(self, *args, **kwargs)\u001b[0m\n\u001b[1;32m    214\u001b[0m                 \u001b[0mthis\u001b[0m \u001b[0;34m+=\u001b[0m \u001b[0margs\u001b[0m\u001b[0;34m[\u001b[0m\u001b[0;36m0\u001b[0m\u001b[0;34m]\u001b[0m\u001b[0;34m,\u001b[0m\u001b[0;34m\u001b[0m\u001b[0;34m\u001b[0m\u001b[0m\n\u001b[1;32m    215\u001b[0m                 \u001b[0margs\u001b[0m \u001b[0;34m=\u001b[0m \u001b[0margs\u001b[0m\u001b[0;34m[\u001b[0m\u001b[0;36m1\u001b[0m\u001b[0;34m:\u001b[0m\u001b[0;34m]\u001b[0m\u001b[0;34m\u001b[0m\u001b[0;34m\u001b[0m\u001b[0m\n\u001b[0;32m--> 216\u001b[0;31m             \u001b[0;32myield\u001b[0m \u001b[0;32mfrom\u001b[0m \u001b[0mself\u001b[0m\u001b[0;34m.\u001b[0m\u001b[0m_plot_args\u001b[0m\u001b[0;34m(\u001b[0m\u001b[0mthis\u001b[0m\u001b[0;34m,\u001b[0m \u001b[0mkwargs\u001b[0m\u001b[0;34m)\u001b[0m\u001b[0;34m\u001b[0m\u001b[0;34m\u001b[0m\u001b[0m\n\u001b[0m\u001b[1;32m    217\u001b[0m \u001b[0;34m\u001b[0m\u001b[0m\n\u001b[1;32m    218\u001b[0m     \u001b[0;32mdef\u001b[0m \u001b[0mget_next_color\u001b[0m\u001b[0;34m(\u001b[0m\u001b[0mself\u001b[0m\u001b[0;34m)\u001b[0m\u001b[0;34m:\u001b[0m\u001b[0;34m\u001b[0m\u001b[0;34m\u001b[0m\u001b[0m\n",
            "\u001b[0;32m/usr/local/lib/python3.7/dist-packages/matplotlib/axes/_base.py\u001b[0m in \u001b[0;36m_plot_args\u001b[0;34m(self, tup, kwargs)\u001b[0m\n\u001b[1;32m    340\u001b[0m \u001b[0;34m\u001b[0m\u001b[0m\n\u001b[1;32m    341\u001b[0m         \u001b[0;32mif\u001b[0m \u001b[0mx\u001b[0m\u001b[0;34m.\u001b[0m\u001b[0mshape\u001b[0m\u001b[0;34m[\u001b[0m\u001b[0;36m0\u001b[0m\u001b[0;34m]\u001b[0m \u001b[0;34m!=\u001b[0m \u001b[0my\u001b[0m\u001b[0;34m.\u001b[0m\u001b[0mshape\u001b[0m\u001b[0;34m[\u001b[0m\u001b[0;36m0\u001b[0m\u001b[0;34m]\u001b[0m\u001b[0;34m:\u001b[0m\u001b[0;34m\u001b[0m\u001b[0;34m\u001b[0m\u001b[0m\n\u001b[0;32m--> 342\u001b[0;31m             raise ValueError(f\"x and y must have same first dimension, but \"\n\u001b[0m\u001b[1;32m    343\u001b[0m                              f\"have shapes {x.shape} and {y.shape}\")\n\u001b[1;32m    344\u001b[0m         \u001b[0;32mif\u001b[0m \u001b[0mx\u001b[0m\u001b[0;34m.\u001b[0m\u001b[0mndim\u001b[0m \u001b[0;34m>\u001b[0m \u001b[0;36m2\u001b[0m \u001b[0;32mor\u001b[0m \u001b[0my\u001b[0m\u001b[0;34m.\u001b[0m\u001b[0mndim\u001b[0m \u001b[0;34m>\u001b[0m \u001b[0;36m2\u001b[0m\u001b[0;34m:\u001b[0m\u001b[0;34m\u001b[0m\u001b[0;34m\u001b[0m\u001b[0m\n",
            "\u001b[0;31mValueError\u001b[0m: x and y must have same first dimension, but have shapes (214,) and (221, 1)"
          ]
        },
        {
          "output_type": "display_data",
          "data": {
            "text/plain": [
              "<Figure size 864x432 with 1 Axes>"
            ],
            "image/png": "[encoded data removed]"
          },
          "metadata": {
            "needs_background": "light"
          }
        }
      ],
      "source": [
        "fig, ax= plt.subplots(figsize=(12,6))\n",
        "ax.plot(data.index, data.Close)\n",
        "ax.vlines(pd.to_datetime('2021-04-15'), 0,1, linestyle ='--', color='r',\n",
        "         label = 'Start of  Forcast')\n",
        "ax.plot(predict_index_Arima, predicted_value_Arima, color='red', label='Arima prediction')\n",
        "ax.plot(predict_index, predicted_value, color='orange', label='Sarima prediction')\n",
        "ax.plot(predict_rnn, pred_y, color='blue', label='predicted SEC stock price')\n",
        "\n",
        "#ax.fill_between(predict_index, predicted_lb, prediction_ub, color='k',\n",
        " #              alpha= 0.1, label='0.95 prediction interval')\n",
        "ax.legend(loc='upper left')\n",
        "plt.suptitle(f'SARIMA {optimal[0][0][0], optimal[0][0][1]} prediction results (r2score: {round(r2,2)})')\n",
        "plt.show()"
      ]
    },
    {
      "cell_type": "code",
      "execution_count": null,
      "metadata": {
        "id": "u4AgXqPTF0LF"
      },
      "outputs": [],
      "source": [
        "len(pred_y)"
      ]
    },
    {
      "cell_type": "code",
      "execution_count": null,
      "metadata": {
        "id": "2XVVlDtYJkvj"
      },
      "outputs": [],
      "source": [
        "\n",
        "\n",
        "\n",
        "\n",
        "\n",
        "dfy.iloc[:,-221:]"
      ]
    },
    {
      "cell_type": "code",
      "execution_count": null,
      "metadata": {
        "id": "1AsDjAPrKQe-"
      },
      "outputs": [],
      "source": [
        "df1"
      ]
    },
    {
      "cell_type": "code",
      "source": [
        "len(predicted_value)"
      ],
      "metadata": {
        "id": "FPQ6C19l7kKc"
      },
      "execution_count": null,
      "outputs": []
    },
    {
      "cell_type": "code",
      "source": [
        "len(pred_y)"
      ],
      "metadata": {
        "id": "ByNuDNMtZ-LA"
      },
      "execution_count": null,
      "outputs": []
    },
    {
      "cell_type": "code",
      "source": [
        "pred_y[-1]"
      ],
      "metadata": {
        "id": "1NCz_kOwdtzV"
      },
      "execution_count": null,
      "outputs": []
    },
    {
      "cell_type": "code",
      "source": [
        "pred_y"
      ],
      "metadata": {
        "id": "6YiG0_ILk5An"
      },
      "execution_count": null,
      "outputs": []
    },
    {
      "cell_type": "code",
      "source": [],
      "metadata": {
        "id": "wfTfKeOKk6u_"
      },
      "execution_count": null,
      "outputs": []
    }
  ],
  "metadata": {
    "accelerator": "GPU",
    "colab": {
      "provenance": []
    },
    "kernelspec": {
      "display_name": "Python 3",
      "name": "python3"
    },
    "language_info": {
      "name": "python"
    }
  },
  "nbformat": 4,
  "nbformat_minor": 0
}